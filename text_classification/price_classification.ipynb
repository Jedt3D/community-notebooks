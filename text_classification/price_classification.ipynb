{
 "cells": [
  {
   "attachments": {},
   "cell_type": "markdown",
   "metadata": {},
   "source": [
    "# Text - Classification\n",
    "\n",
    "Dataset : https://data.go.th/en/dataset/34 \n",
    "\n",
    "Reference: https://huggingface.co/docs/transformers/tasks/sequence_classification"
   ]
  },
  {
   "cell_type": "code",
   "execution_count": null,
   "metadata": {},
   "outputs": [],
   "source": [
    "!pip install datasets\n",
    "!pip install pandas\n",
    "!pip install pandas-profiling\n",
    "!pip install transformers\n",
    "!pip install sentencepiece\n",
    "!pip install -U scikit-learn"
   ]
  },
  {
   "attachments": {},
   "cell_type": "markdown",
   "metadata": {},
   "source": [
    "## Preparing Data"
   ]
  },
  {
   "attachments": {},
   "cell_type": "markdown",
   "metadata": {},
   "source": [
    "> Download file.csv มาเป็น dataframe แล้วแสดงข้อมูลโดยใช้ library `pandas`"
   ]
  },
  {
   "cell_type": "code",
   "execution_count": null,
   "metadata": {},
   "outputs": [],
   "source": [
    "from datasets import load_dataset\n",
    "import pandas as pd\n",
    "\n",
    "df = pd.read_csv(\"./noit11561118811.csv\") # load the dataset\n",
    "df.head()"
   ]
  },
  {
   "attachments": {},
   "cell_type": "markdown",
   "metadata": {},
   "source": [
    "> เลือกเฉพาะ column ที่จำเป็นต่อการใช้งานในนี้คือ `PR_PROD_NAME` และ `PRICE_DAY` โดยเปลี่ยนชื่อ column เป็น `text` และ `price` ตามลำดับ"
   ]
  },
  {
   "cell_type": "code",
   "execution_count": null,
   "metadata": {},
   "outputs": [],
   "source": [
    "df.drop(columns=[\"PRICE_DATE\", \"MARKET_NAME\"], inplace=True) # drop column\n",
    "df.rename(columns = {\"PR_PROD_NAME\":\"text\", \"PRICE_DAY\":\"price\"}, inplace = True) # rename column\n",
    "df.dropna(inplace=True) # drop null values\n",
    "df.head() # show first 5 rows"
   ]
  },
  {
   "cell_type": "code",
   "execution_count": null,
   "metadata": {},
   "outputs": [],
   "source": [
    "df[\"price\"].describe() # show statistics"
   ]
  },
  {
   "attachments": {},
   "cell_type": "markdown",
   "metadata": {},
   "source": [
    "> สร้าง dataframe ใหม่ที่มีเฉพาะข้อมูลที่ต้องการ โดยให้สินค้าที่มี\n",
    "\n",
    "ราคาต่ำกว่า 100 มี label = 0\n",
    "\n",
    "\n",
    "สินค้าที่มีราคา 100-1000 มี label = 1\n",
    "\n",
    "\n",
    "และมากว่า 1000 มี label = 2"
   ]
  },
  {
   "cell_type": "code",
   "execution_count": null,
   "metadata": {},
   "outputs": [],
   "source": [
    "labels = []\n",
    "for price in df[\"price\"]:\n",
    "    if  price < 100:\n",
    "        labels.append(0) # 0 - 100 = Cheap Price\n",
    "    elif price <= 1000:\n",
    "        labels.append(1) # 100 - 1000 = Normal Price\n",
    "    else:\n",
    "        labels.append(2) # 1000 +++  =  Expensive Price\n",
    "\n",
    "df[\"label\"] = labels\n",
    "df.sample(frac=1)"
   ]
  },
  {
   "attachments": {},
   "cell_type": "markdown",
   "metadata": {},
   "source": [
    " drop `column price` ที่ไม่ได้ใช้งาน"
   ]
  },
  {
   "cell_type": "code",
   "execution_count": null,
   "metadata": {},
   "outputs": [],
   "source": [
    "df.drop(columns=[\"price\"], inplace=True) # drop column\n",
    "df.head() # show first 5 rows"
   ]
  },
  {
   "attachments": {},
   "cell_type": "markdown",
   "metadata": {},
   "source": [
    "> แบ่งข้อมูลเพื่อใช้ train 80% และ test 20%"
   ]
  },
  {
   "cell_type": "code",
   "execution_count": null,
   "metadata": {},
   "outputs": [],
   "source": [
    "from sklearn.model_selection import train_test_split\n",
    "\n",
    "train_df, test_df = train_test_split(df, test_size=0.2, random_state=42)\n",
    "train_df.to_csv(\"./train.csv\", index=False)\n",
    "test_df.to_csv(\"./test.csv\", index=False)"
   ]
  },
  {
   "attachments": {},
   "cell_type": "markdown",
   "metadata": {},
   "source": [
    "library `pandas_profiling` สามารถช่วย visualize data เพื่อเช็คข้อมูลเบื้องต้นของ data ได้"
   ]
  },
  {
   "cell_type": "code",
   "execution_count": null,
   "metadata": {},
   "outputs": [],
   "source": [
    "# Visualize data\n",
    "import ydata_profiling as pp\n",
    "pp.ProfileReport(df)"
   ]
  },
  {
   "attachments": {},
   "cell_type": "markdown",
   "metadata": {},
   "source": [
    "## Preprocessing\n",
    "\n",
    "ก่อนจะนำข้อมูลไปใช้ในการ train ต้องทำการเตรียมข้อมูลให้เหมาะสมก่อน โดยใช้ library `transformers` ในการทำ `tokenize` และ `encode` ข้อมูล"
   ]
  },
  {
   "cell_type": "code",
   "execution_count": null,
   "metadata": {},
   "outputs": [],
   "source": [
    "dataset = load_dataset(\"csv\", data_files={\"train\": \"train.csv\", \"test\" : \"test.csv\" })\n",
    "dataset"
   ]
  },
  {
   "attachments": {},
   "cell_type": "markdown",
   "metadata": {},
   "source": [
    "ใช้ `wangchanberta` tokenizer เพราะ dataset ที่เป็นภาษาไทย"
   ]
  },
  {
   "cell_type": "code",
   "execution_count": null,
   "metadata": {},
   "outputs": [],
   "source": [
    "from transformers import AutoTokenizer, DataCollatorWithPadding\n",
    "\n",
    "# load tokenizer from pretrained model which alrady has a vocabulary\n",
    "tokenizer = AutoTokenizer.from_pretrained(\"airesearch/wangchanberta-base-att-spm-uncased\", use_fast=False)"
   ]
  },
  {
   "cell_type": "code",
   "execution_count": null,
   "metadata": {},
   "outputs": [],
   "source": [
    "def preprocess_function(examples):\n",
    "    return tokenizer(examples[\"text\"], truncation=True)\n",
    "\n",
    "tokenized_imdb = dataset.map(preprocess_function, batched=True) # tokenize dataset\n",
    "\n",
    "print(tokenized_imdb[\"train\"][0]) # print first row of the tokenized training set\n",
    "\n",
    "data_collator = DataCollatorWithPadding(tokenizer=tokenizer) # set format"
   ]
  },
  {
   "attachments": {},
   "cell_type": "markdown",
   "metadata": {},
   "source": [
    "## Training Model"
   ]
  },
  {
   "attachments": {},
   "cell_type": "markdown",
   "metadata": {},
   "source": [
    "หลังจากที่เตรียมข้อมูลเสร็จแล้ว ก็นำข้อมูลไป train โดยใช้ `Trainer` และ `TrainingArguments`"
   ]
  },
  {
   "cell_type": "code",
   "execution_count": null,
   "metadata": {},
   "outputs": [],
   "source": [
    "import evaluate\n",
    "import numpy as np\n",
    "\n",
    "def compute_metrics(eval_pred):\n",
    "    predictions, labels = eval_pred\n",
    "    predictions = np.argmax(predictions, axis=1)\n",
    "    return accuracy.compute(predictions=predictions, references=labels)\n",
    "\n",
    "# define accuracy metric\n",
    "accuracy = evaluate.load(\"accuracy\")\n",
    "\n",
    "# กำหนด label ให้กับข้อมูล\n",
    "id2label = {0: \"Low Price\", 1: \"Normal Price\", 2: \"High Price\"}\n",
    "label2id = {\"Low Price\": 0, \"Normal Price\": 1, \"High Price\": 2}"
   ]
  },
  {
   "attachments": {},
   "cell_type": "markdown",
   "metadata": {},
   "source": [
    "ทำการเลือก model ที่จะนำมาใช้ในการ train ก่อน ในที่นี้ใช้ `wangchanberta-base` ซึ่งเป็น model ที่มีความเร็วในการ train และให้ความแม่นยำสูง"
   ]
  },
  {
   "cell_type": "code",
   "execution_count": null,
   "metadata": {},
   "outputs": [],
   "source": [
    "from transformers import AutoModelForSequenceClassification, TrainingArguments, Trainer\n",
    "\n",
    "model = AutoModelForSequenceClassification.from_pretrained(\n",
    "    \"airesearch/wangchanberta-base-att-spm-uncased\", num_labels=3, id2label=id2label, label2id=label2id\n",
    ")"
   ]
  },
  {
   "attachments": {},
   "cell_type": "markdown",
   "metadata": {},
   "source": [
    "กำหนด `TrainingArguments` โดยกำหนด `parameters` ต่างๆในการเทรน model"
   ]
  },
  {
   "cell_type": "code",
   "execution_count": null,
   "metadata": {},
   "outputs": [],
   "source": [
    "training_args = TrainingArguments(\n",
    "    output_dir=\"PriceClassification\", # โฟลเดอร์เก็บไฟล์ model ที่ train แล้ว\n",
    "    learning_rate=0.00001, # อัตราการเรียนรู้\n",
    "    per_device_train_batch_size=16, # จำนวนข้อมูลที่จะนำมา train ในแต่ละครั้ง\n",
    "    per_device_eval_batch_size=16, # จำนวนข้อมูลที่จะนำมา test ในแต่ละครั้ง\n",
    "    num_train_epochs=2, # จำนวนรอบในการ train \n",
    "    weight_decay=0.01, # ค่าความถี่ในการปรับค่า weight\n",
    "    evaluation_strategy=\"epoch\", # กำหนดการทดสอบ model ทุกๆ 1 epoch\n",
    "    save_strategy=\"epoch\", # กำหนดการบันทึก model ทุกๆ 1 epoch\n",
    "    load_best_model_at_end=True, # โหลด model ที่ดีที่สุดมาใช้\n",
    "    push_to_hub=False, \n",
    "    report_to=\"none\"\n",
    ")\n",
    "\n",
    "trainer = Trainer( \n",
    "    model=model, \n",
    "    args=training_args,\n",
    "    train_dataset=tokenized_imdb[\"train\"],\n",
    "    eval_dataset=tokenized_imdb[\"test\"],\n",
    "    tokenizer=tokenizer,\n",
    "    data_collator=data_collator,\n",
    "    compute_metrics=compute_metrics, \n",
    ")"
   ]
  },
  {
   "cell_type": "code",
   "execution_count": null,
   "metadata": {},
   "outputs": [],
   "source": [
    "trainer.train() # train model"
   ]
  },
  {
   "attachments": {},
   "cell_type": "markdown",
   "metadata": {},
   "source": [
    "## Inference"
   ]
  },
  {
   "attachments": {},
   "cell_type": "markdown",
   "metadata": {},
   "source": [
    "หลังจากทำการเทรน model แล้ว เราสามารถนำ model ที่ได้ไปใช้งานได้ โดยใช้ `pipeline` ในการทำนายผล"
   ]
  },
  {
   "cell_type": "code",
   "execution_count": null,
   "metadata": {},
   "outputs": [],
   "source": [
    "# text = \"ยางพาราแผ่นดิบ\" # Low Price\n",
    "text = \"มะพร้าวผลแห้งทั้งเปลือก\" # Normal Price\n",
    "# text = \"ข้าวเปลือกเจ้านาปีพันธุ์ขาวดอกมะลิ105ชนิด\" # High Price"
   ]
  },
  {
   "cell_type": "code",
   "execution_count": null,
   "metadata": {},
   "outputs": [],
   "source": [
    "from transformers import pipeline\n",
    "\n",
    "classifier = pipeline(\"sentiment-analysis\", model=\"PriceClassification/checkpoint-894/\") # load model ตามที่ได้เทรนไว้\n",
    "classifier(text)"
   ]
  },
  {
   "attachments": {},
   "cell_type": "markdown",
   "metadata": {},
   "source": [
    "> optionnal \n",
    "\n",
    "สามารถทำการ load model โดยใช้ `from_pretrained` และทำนายผลในอีกวิธี"
   ]
  },
  {
   "cell_type": "code",
   "execution_count": null,
   "metadata": {},
   "outputs": [],
   "source": [
    "from transformers import AutoModelForSequenceClassification\n",
    "import torch\n",
    "from transformers import AutoTokenizer\n",
    "\n",
    "model = AutoModelForSequenceClassification.from_pretrained(\"PriceClassification/checkpoint-2235/\", local_files_only=True)\n",
    "tokenizer = AutoTokenizer.from_pretrained(\"airesearch/wangchanberta-base-att-spm-uncased\", use_fast=False)\n",
    "inputs = tokenizer(text, return_tensors=\"pt\")\n",
    "\n",
    "with torch.no_grad():\n",
    "    logits = model(**inputs).logits\n",
    "\n",
    "predicted_class_id = logits.argmax().item()\n",
    "model.config.id2label[predicted_class_id]"
   ]
  }
 ],
 "metadata": {
  "kernelspec": {
   "display_name": "base",
   "language": "python",
   "name": "python3"
  },
  "language_info": {
   "codemirror_mode": {
    "name": "ipython",
    "version": 3
   },
   "file_extension": ".py",
   "mimetype": "text/x-python",
   "name": "python",
   "nbconvert_exporter": "python",
   "pygments_lexer": "ipython3",
   "version": "3.9.13"
  },
  "orig_nbformat": 4
 },
 "nbformat": 4,
 "nbformat_minor": 2
}
