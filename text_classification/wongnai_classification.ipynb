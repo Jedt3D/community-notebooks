{
 "cells": [
  {
   "cell_type": "code",
   "execution_count": null,
   "metadata": {},
   "outputs": [],
   "source": [
    "!pip install datasets\n",
    "!pip install pandas\n",
    "!pip install pandas-profiling\n",
    "!pip install transformers\n",
    "!pip install evaluate\n",
    "!pip install sentencepiece\n",
    "!pip install -U scikit-learn"
   ]
  },
  {
   "cell_type": "code",
   "execution_count": null,
   "metadata": {},
   "outputs": [],
   "source": [
    "import os\n",
    "import shutil\n",
    "\n",
    "dataset_name = \"wongnai-dataset\"\n",
    "os.makedirs(dataset_name, exist_ok=True) \n",
    "\n",
    "!gdown --id 1N4oTVeumUFMaG6s5x4bN4TMC4diPB5fw\n",
    "shutil.move(\"review_dataset.zip\", dataset_name)\n",
    "\n",
    "# for windows\n",
    "!tar -xzvf wongnai-dataset/review_dataset.zip -C wongnai-dataset \n",
    "\n",
    "# for linux\n",
    "# !unzip wongnai-dataset/review_dataset.zip -d wongnai-dataset"
   ]
  },
  {
   "attachments": {},
   "cell_type": "markdown",
   "metadata": {},
   "source": [
    "Data Preparation"
   ]
  },
  {
   "cell_type": "code",
   "execution_count": null,
   "metadata": {},
   "outputs": [],
   "source": [
    "import pandas as pd\n",
    "from sklearn.model_selection import train_test_split\n",
    "\n",
    "df = pd.read_csv('wongnai-dataset/w_review_train.csv', sep=\";\", header=None).drop_duplicates()\n",
    "df.columns = [\"review\", \"rating\"] \n",
    "\n",
    "labels = []\n",
    "for rate in df[\"rating\"]:\n",
    "    if  rate == 1 :\n",
    "        labels.append(0)\n",
    "    elif rate == 2:\n",
    "        labels.append(1)\n",
    "    elif rate == 3:\n",
    "        labels.append(2) \n",
    "    elif rate == 4:\n",
    "        labels.append(3)\n",
    "    else :\n",
    "        labels.append(4)\n",
    "\n",
    "df[\"label\"] = labels\n",
    "df.sample(frac=1)\n",
    "df = df[[\"review\", \"label\"]]\n",
    "df[\"review\"] = df[\"review\"].str.replace('\\n','') # remove \\n\n",
    "\n",
    "df = df[:1000] # choose 1000 samples for training\n",
    "train_df, val_df = train_test_split(df, test_size=0.2, random_state=42) # split train and test\n",
    "train_df.to_csv(\"./train.csv\", index=False) \n",
    "val_df.to_csv(\"./test.csv\", index=False)"
   ]
  },
  {
   "cell_type": "markdown",
   "metadata": {},
   "source": [
    "Preprocessing"
   ]
  },
  {
   "cell_type": "code",
   "execution_count": null,
   "metadata": {},
   "outputs": [],
   "source": [
    "from datasets import load_dataset\n",
    "\n",
    "dataset = load_dataset(\"csv\", data_files={\"train\": \"train.csv\", \"test\" : \"test.csv\" }) # load dataset from csv file\n",
    "dataset"
   ]
  },
  {
   "cell_type": "code",
   "execution_count": null,
   "metadata": {},
   "outputs": [],
   "source": [
    "from transformers import AutoTokenizer, DataCollatorWithPadding\n",
    "\n",
    "# load tokenizer from pretrained model which alrady has a vocabulary\n",
    "tokenizer = AutoTokenizer.from_pretrained(\"airesearch/wangchanberta-base-att-spm-uncased\", use_fast=False, model_max_length = 100) # set max length of input to 100\n",
    "\n",
    "def preprocess_function(examples):\n",
    "    return tokenizer(examples[\"review\"], truncation=True)\n",
    "\n",
    "tokenized_imdb = dataset.map(preprocess_function, batched=True ) # tokenize dataset\n",
    "\n",
    "print(tokenized_imdb[\"train\"][0]) # print first row of the tokenized training set\n",
    "\n",
    "data_collator = DataCollatorWithPadding(tokenizer=tokenizer, padding='max_length') # pad batch"
   ]
  },
  {
   "attachments": {},
   "cell_type": "markdown",
   "metadata": {},
   "source": [
    "Training model"
   ]
  },
  {
   "cell_type": "code",
   "execution_count": null,
   "metadata": {},
   "outputs": [],
   "source": [
    "import evaluate\n",
    "import numpy as np\n",
    "\n",
    "def compute_metrics(eval_pred):\n",
    "    predictions, labels = eval_pred\n",
    "    predictions = np.argmax(predictions, axis=1)\n",
    "    return accuracy.compute(predictions=predictions, references=labels)\n",
    "\n",
    "# define accuracy metric\n",
    "accuracy = evaluate.load(\"accuracy\")\n",
    "\n",
    "# กำหนด label ให้กับข้อมูล\n",
    "id2label = {0: \"Very poor (1) \", 1: \"Poor (2)\", 2: \"Average (3)\", 3: \"Good (4)\", 4: \"Exellent (5)\"} # กำหนด label ให้กับข้อมูล\n",
    "label2id = {\"Very poor (1)\": 0, \"Poor (2)\": 1, \"Average (3)\": 2, \"Good (4)\": 3, \"Exellent (5)\": 4} "
   ]
  },
  {
   "cell_type": "code",
   "execution_count": null,
   "metadata": {},
   "outputs": [],
   "source": [
    "from transformers import AutoModelForSequenceClassification, TrainingArguments, Trainer\n",
    "\n",
    "model = AutoModelForSequenceClassification.from_pretrained(\n",
    "    \"airesearch/wangchanberta-base-att-spm-uncased\", num_labels=5, id2label=id2label, label2id=label2id # load model from pretrained model\n",
    ")"
   ]
  },
  {
   "cell_type": "code",
   "execution_count": null,
   "metadata": {},
   "outputs": [],
   "source": [
    "training_args = TrainingArguments(\n",
    "    output_dir=\"Wongnai_classification\", # กำหนด path ที่จะบันทึก output\n",
    "    learning_rate=0.00001,  # กำหนด learning rate\n",
    "    per_device_train_batch_size=1,  # กำหนด batch size\n",
    "    per_device_eval_batch_size=1, \n",
    "    num_train_epochs=10,  # กำหนดจำนวนรอบในการ train\n",
    "    weight_decay=0.01, \n",
    "    evaluation_strategy=\"epoch\", \n",
    "    save_strategy=\"epoch\", \n",
    "    load_best_model_at_end=True, \n",
    "    push_to_hub=False, \n",
    "    report_to=\"none\"\n",
    ")\n",
    "\n",
    "trainer = Trainer( \n",
    "    model=model, \n",
    "    args=training_args,\n",
    "    train_dataset=tokenized_imdb[\"train\"],\n",
    "    eval_dataset=tokenized_imdb[\"test\"],\n",
    "    tokenizer=tokenizer,\n",
    "    data_collator=data_collator,\n",
    "    compute_metrics=compute_metrics, \n",
    ")"
   ]
  },
  {
   "cell_type": "code",
   "execution_count": null,
   "metadata": {},
   "outputs": [],
   "source": [
    "trainer.train() # train model"
   ]
  },
  {
   "attachments": {},
   "cell_type": "markdown",
   "metadata": {},
   "source": [
    "Inference"
   ]
  },
  {
   "cell_type": "code",
   "execution_count": null,
   "metadata": {},
   "outputs": [],
   "source": [
    "text = \"ปกติมาทานบ่อยอยู่แล้ว วันนี้ลองมาทานก๋วยเตี๋ยวเจดู รสชาติสู้แบบปกติไม่ได้เพราะปกติอร่อยมากๆ แต่พอเป็นแนวเจ รสชาติของเครื่องจึงตกลง แต่น้ำซุปยังอร่อยเหมือนเดิม ส่วนไอศครีมกะทิราดซุปข้าวโพด อร่อยดี ทานไม่บ่อย แต่คราวนี้ลองดู ช่วยให้มื้อนี้ดูดีขึ้นเยอะเลย\" # input text"
   ]
  },
  {
   "cell_type": "code",
   "execution_count": null,
   "metadata": {},
   "outputs": [],
   "source": [
    "from transformers import pipeline\n",
    "\n",
    "classifier = pipeline(\"sentiment-analysis\", model=\"Wongnai_classification/checkpoint-8000/\") # load model ตามที่ได้เทรนไว้\n",
    "classifier(text)"
   ]
  },
  {
   "cell_type": "code",
   "execution_count": null,
   "metadata": {},
   "outputs": [],
   "source": [
    "from transformers import AutoModelForSequenceClassification\n",
    "import torch\n",
    "from transformers import AutoTokenizer\n",
    "\n",
    "model = AutoModelForSequenceClassification.from_pretrained(\"Wongnai_classification/checkpoint-1600/\", local_files_only=True)\n",
    "tokenizer = AutoTokenizer.from_pretrained(\"airesearch/wangchanberta-base-att-spm-uncased\", use_fast=False)\n",
    "inputs = tokenizer(text, return_tensors=\"pt\")\n",
    "\n",
    "with torch.no_grad():\n",
    "    logits = model(**inputs).logits\n",
    "\n",
    "predicted_class_id = logits.argmax().item()\n",
    "model.config.id2label[predicted_class_id]"
   ]
  }
 ],
 "metadata": {
  "kernelspec": {
   "display_name": "objdetyolo",
   "language": "python",
   "name": "python3"
  },
  "language_info": {
   "codemirror_mode": {
    "name": "ipython",
    "version": 3
   },
   "file_extension": ".py",
   "mimetype": "text/x-python",
   "name": "python",
   "nbconvert_exporter": "python",
   "pygments_lexer": "ipython3",
   "version": "3.9.13"
  },
  "orig_nbformat": 4
 },
 "nbformat": 4,
 "nbformat_minor": 2
}
