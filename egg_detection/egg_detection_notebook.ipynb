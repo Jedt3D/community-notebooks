{
 "cells": [
  {
   "attachments": {},
   "cell_type": "markdown",
   "metadata": {},
   "source": [
    "\n",
    "Datasets : https://figshare.com/articles/dataset/Dataset_for_real-time_crack_detection_on_chicken_eggs/21568425\n",
    "\n",
    "This data contain image (.jpg) and label (.xml) so we need to convert .xml to .txt for YOLOV8 training\n",
    "\n",
    "This notebook is using ```ultralytics (yolov8n)``` for training \n",
    "\n"
   ]
  },
  {
   "cell_type": "code",
   "execution_count": null,
   "metadata": {},
   "outputs": [],
   "source": [
    "!pip install ultralytics"
   ]
  },
  {
   "attachments": {},
   "cell_type": "markdown",
   "metadata": {},
   "source": [
    "# Preparing data\n",
    "\n",
    "Reference \n",
    ": https://towardsdatascience.com/convert-pascal-voc-xml-to-yolo-for-object-detection-f969811ccba5"
   ]
  },
  {
   "cell_type": "code",
   "execution_count": null,
   "metadata": {},
   "outputs": [],
   "source": [
    "import xml.etree.ElementTree as ET\n",
    "from glob import glob\n",
    "import shutil\n",
    "import os"
   ]
  },
  {
   "cell_type": "code",
   "execution_count": null,
   "metadata": {},
   "outputs": [],
   "source": [
    "def xml_to_yolo_bbox(bbox, w, h):\n",
    "    \"\"\"\n",
    "    Convert bounding box from xml format to YOLO format\n",
    "    \"\"\"\n",
    "    x_center = ((bbox[2] + bbox[0]) / 2) / w\n",
    "    y_center = ((bbox[3] + bbox[1]) / 2) / h\n",
    "    width = (bbox[2] - bbox[0]) / w\n",
    "    height = (bbox[3] - bbox[1]) / h\n",
    "    return [x_center, y_center, width, height]\n",
    "\n",
    "\n",
    "def create_yolo_format(input_dir, output_dir):\n",
    "    \"\"\"\n",
    "    create new directory for training YOLO model\n",
    "    input_dir: directory of images and xml files\n",
    "    output_dir: directory of new images and labels\n",
    "    \"\"\"\n",
    "    img_output_dir = os.path.join(output_dir, \"images\")\n",
    "    label_output_dir = os.path.join(output_dir, \"labels\")\n",
    "\n",
    "    os.makedirs(img_output_dir, exist_ok=True) # create new directory\n",
    "    os.makedirs(label_output_dir, exist_ok=True) \n",
    " \n",
    "    # get all jpg files\n",
    "    all_images = glob(f\"{input_dir}/*.jpg\") # get all jpg files\n",
    "    for image in all_images: \n",
    "        shutil.copy(image, img_output_dir) # copy image to new directory\n",
    "\n",
    "    # get all xml files\n",
    "    xml_files = glob(f\"{input_dir}/*.xml\")\n",
    "    classes = []\n",
    "    for file in xml_files:\n",
    "        basename = os.path.basename(file) # get basename of xml file\n",
    "        filename = os.path.splitext(basename)[0] # get filename without extension\n",
    "        file_name = f\"{input_dir}/{filename}.jpg\" # get image file name\n",
    "        if not os.path.exists(file_name): # check if image file exists\n",
    "            print(f\"{file_name} image does not exist!\") \n",
    "            continue\n",
    "\n",
    "        result = []\n",
    "        tree = ET.parse(file) \n",
    "        root = tree.getroot() # get root of xml file\n",
    "        width = int(root.find(\"size\").find(\"width\").text) # get width of image\n",
    "        height = int(root.find(\"size\").find(\"height\").text) # get height of image\n",
    "\n",
    "        for obj in root.findall(\"object\"):\n",
    "            label = obj.find(\"name\").text # get label of object\n",
    "            if label not in classes:\n",
    "                classes.append(label) # add label to classes list\n",
    "            index = classes.index(label) # get index of label\n",
    "            pil_bbox = [int(x.text) for x in obj.find(\"bndbox\")] # get bounding box of object\n",
    "            yolo_bbox = xml_to_yolo_bbox(pil_bbox, width, height) # convert bounding box to YOLO format\n",
    "            bbox_string = \" \".join([str(x) for x in yolo_bbox]) # convert bounding box to string\n",
    "            result.append(f\"{index} {bbox_string}\") # add label and bounding box to result list\n",
    "\n",
    "        if result:\n",
    "            with open(\n",
    "                os.path.join(label_output_dir, f\"{filename}.txt\"), \"w\", encoding=\"utf-8\" # create new txt file\n",
    "            ) as f: \n",
    "                f.write(\"\\n\".join(result)) # write result to txt file"
   ]
  },
  {
   "cell_type": "code",
   "execution_count": null,
   "metadata": {},
   "outputs": [],
   "source": [
    "create_yolo_format(\"train/train_100/\", \"train_yolo/\")  # input_dir, output_dir\n",
    "create_yolo_format(\"test/test_100/\", \"test_yolo/\")  # input_dir, output_dir"
   ]
  },
  {
   "cell_type": "code",
   "execution_count": null,
   "metadata": {},
   "outputs": [],
   "source": [
    "# Create yaml file which contains path to train, test, number of classes and class names \n",
    "import yaml\n",
    "\n",
    "train_path = os.path.abspath(\"train_yolo/\") # get absolute path of train_yolo directory\n",
    "test_path = os.path.abspath(\"test_yolo/\") \n",
    "\n",
    "data = dict(train=train_path, val=test_path, nc=2, names={0: \"Crack\", 1: \"Egg\"}) #this data contrain 2 classes: Crack and Egg\n",
    "\n",
    "with open(\"egg_detection.yaml\", \"w\") as f:\n",
    "    yaml.dump(data, f)"
   ]
  },
  {
   "attachments": {},
   "cell_type": "markdown",
   "metadata": {},
   "source": [
    "## Training\n",
    "```\n",
    "As default we use yolov8n for training \n",
    "```\n",
    "Reference : https://docs.ultralytics.com/\n"
   ]
  },
  {
   "cell_type": "code",
   "execution_count": null,
   "metadata": {},
   "outputs": [],
   "source": [
    "from ultralytics import YOLO\n",
    "\n",
    "# Load a model\n",
    "model = YOLO(\"yolov8n.yaml\")  # build a new model from YAML\n",
    "model = YOLO(\"yolov8n.pt\")  # load a pretrained model (recommended for training)\n",
    "model = YOLO(\"yolov8n.yaml\").load(\"yolov8n.pt\")  # build from YAML and transfer weights"
   ]
  },
  {
   "cell_type": "code",
   "execution_count": null,
   "metadata": {},
   "outputs": [],
   "source": [
    "# Train the model\n",
    "model.train(data=\"egg_detection.yaml\", epochs=10, imgsz=1280)"
   ]
  },
  {
   "attachments": {},
   "cell_type": "markdown",
   "metadata": {},
   "source": [
    "## Validation\n",
    "\n",
    "Define ```model``` for validation"
   ]
  },
  {
   "cell_type": "code",
   "execution_count": null,
   "metadata": {},
   "outputs": [],
   "source": [
    "# Load a model\n",
    "model = YOLO(\"runs/detect/train/weights/best.pt\")  # load a custom model\n",
    "\n",
    "# Validate the model\n",
    "metrics = model.val()  # no arguments needed, dataset and settings remembered\n",
    "metrics.box.map  # map50-95\n",
    "metrics.box.map50  # map50\n",
    "metrics.box.map75  # map75\n",
    "metrics.box.maps  # a list contains map50-95 of each category"
   ]
  },
  {
   "attachments": {},
   "cell_type": "markdown",
   "metadata": {},
   "source": [
    "## Inference"
   ]
  },
  {
   "cell_type": "code",
   "execution_count": null,
   "metadata": {},
   "outputs": [],
   "source": [
    "from PIL import Image, ImageDraw\n",
    "from pathlib import Path\n",
    "\n",
    "id2label = {0: \"Crack\", 1: \"Egg\"}"
   ]
  },
  {
   "cell_type": "code",
   "execution_count": null,
   "metadata": {},
   "outputs": [],
   "source": [
    "def yolo_to_rectangle(bbox: tuple, img_width: int, img_height: int):\n",
    "    \"\"\"\n",
    "    Converts a YOLO bounding box to a rectangle in pixel coordinates.\n",
    "    \"\"\"\n",
    "    x_center, y_center, width, height = bbox\n",
    "    x_pixel = x_center * img_width\n",
    "    y_pixel = y_center * img_height\n",
    "    x_top_left = x_pixel - (width * img_width) / 2\n",
    "    y_top_left = y_pixel - (height * img_height) / 2\n",
    "    x_bottom_right = x_pixel + (width * img_width) / 2\n",
    "    y_bottom_right = y_pixel + (height * img_height) / 2\n",
    "    return (x_top_left, y_top_left, x_bottom_right, y_bottom_right)\n",
    "\n",
    "\n",
    "def predict_image(image_path: str, model: YOLO):\n",
    "    \"\"\"\n",
    "    predict the image and return output in the following format\n",
    "    boxes, keys, names, orig_img, orig_shape, path as ultralytics.yolo list\n",
    "    \"\"\"\n",
    "    image_pic = Image.open(image_path)\n",
    "    pred = model(image_pic)\n",
    "    return pred\n",
    "\n",
    "\n",
    "def visualize_prediction(predictions: list, image_path: str):\n",
    "    \"\"\"\n",
    "    draw the prediction bounding box on the image\n",
    "    predictions contains boxes, keys, names, orig_img, orig_shape, path\n",
    "    return the image with blue bounding box and white text labels as PIL image\n",
    "    \"\"\"\n",
    "    pred_img = Image.open(image_path)\n",
    "    draw_prediction = ImageDraw.Draw(pred_img)\n",
    "    boxes_predict = predictions[0].boxes\n",
    "    boxes = boxes_predict.xyxy.tolist()\n",
    "    scores = boxes_predict.conf.tolist()\n",
    "    labels = boxes_predict.cls.tolist()\n",
    "    for score, label, box in zip(scores, labels, boxes):\n",
    "        x, y, x2, y2 = tuple(box)\n",
    "        draw_prediction.rectangle((x, y, x2, y2), outline=\"blue\", width=15)\n",
    "        result = id2label[label]\n",
    "        draw_prediction.text((x, y), result, fill=\"white\", size=15)  # draw label text\n",
    "    return pred_img\n",
    "\n",
    "\n",
    "def visualize_pred_and_labels(pred_img: any, label_path: str):\n",
    "    \"\"\"\n",
    "    draw the label bounding box on the prediction image\n",
    "    return the image with red bounding box and yellow text labels as PIL image\n",
    "    \"\"\"\n",
    "    with open(label_path, \"r\") as f:\n",
    "        lines = f.readlines()\n",
    "    id_label = []\n",
    "    box_label = []\n",
    "    for line in lines:\n",
    "        data = line.strip().split()\n",
    "        id_label.append(int(data[0]))\n",
    "        box_label.append([float(x) for x in data[1:]])\n",
    "    draw_label = ImageDraw.Draw(pred_img)\n",
    "    for label, box in zip(id_label, box_label):\n",
    "        x_top_left, y_top_left, x_bottom_right, y_bottom_right = yolo_to_rectangle(\n",
    "            box, pred_img.width, pred_img.height\n",
    "        )\n",
    "        draw_label.rectangle(\n",
    "            (x_top_left, y_top_left, x_bottom_right, y_bottom_right),\n",
    "            outline=\"red\",\n",
    "            width=9,\n",
    "        )\n",
    "        result = id2label[label]\n",
    "        draw_label.text(\n",
    "            (x_top_left, y_top_left), result, fill=\"yellow\", size=40\n",
    "        )  # draw label text\n",
    "    return pred_img"
   ]
  },
  {
   "attachments": {},
   "cell_type": "markdown",
   "metadata": {},
   "source": [
    "Define ```model``` and ```image_path``` for prediction"
   ]
  },
  {
   "cell_type": "code",
   "execution_count": null,
   "metadata": {},
   "outputs": [],
   "source": [
    "model = YOLO(\"runs/detect/train/weights/best.pt\")\n",
    "image_path = \"test_yolo/images/IMG_20220818_153638.jpg\"  # path to image"
   ]
  },
  {
   "cell_type": "code",
   "execution_count": null,
   "metadata": {},
   "outputs": [],
   "source": [
    "# predict image\n",
    "predict_image = predict_image(image_path, model)"
   ]
  },
  {
   "cell_type": "code",
   "execution_count": null,
   "metadata": {},
   "outputs": [],
   "source": [
    "# visualize prediction\n",
    "predicted_image = visualize_prediction(predict_image, image_path)\n",
    "predicted_image"
   ]
  },
  {
   "cell_type": "code",
   "execution_count": null,
   "metadata": {},
   "outputs": [],
   "source": [
    "file_name = Path(image_path).stem\n",
    "label_path = f\"test_yolo/labels/{file_name}.txt\"\n",
    "\n",
    "# visualize prediction and label\n",
    "predicted_image_and_label = visualize_pred_and_labels(predicted_image, label_path)\n",
    "predicted_image_and_label"
   ]
  }
 ],
 "metadata": {
  "kernelspec": {
   "display_name": "base",
   "language": "python",
   "name": "python3"
  },
  "language_info": {
   "codemirror_mode": {
    "name": "ipython",
    "version": 3
   },
   "file_extension": ".py",
   "mimetype": "text/x-python",
   "name": "python",
   "nbconvert_exporter": "python",
   "pygments_lexer": "ipython3",
   "version": "3.9.13"
  },
  "orig_nbformat": 4
 },
 "nbformat": 4,
 "nbformat_minor": 2
}
