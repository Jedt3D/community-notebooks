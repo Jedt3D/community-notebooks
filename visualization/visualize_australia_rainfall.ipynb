{
  "cells": [
    {
      "cell_type": "markdown",
      "id": "642b6ceb",
      "metadata": {
        "id": "642b6ceb"
      },
      "source": [
        "# Australia Rainfall Exploratory Data Analysis\n",
        "\n",
        "[![Open in Colab](https://colab.research.google.com/assets/colab-badge.svg)](https://colab.research.google.com/github/biodatlab/community-notebooks/blob/main/visualization/visualize_australia_rainfall.ipynb)\n",
        "\n",
        "Visualizing Australia rainfall dataset using matplotlib, plotly, and dash\n",
        "\n",
        "Reference: https://www.kaggle.com/code/zohrehtofighizavareh/australia-rainfall-eda"
      ]
    },
    {
      "cell_type": "code",
      "source": [
        "!pip install dash\n",
        "!pip install jupyter-dash"
      ],
      "metadata": {
        "id": "Yt8cA-bbwbZt"
      },
      "id": "Yt8cA-bbwbZt",
      "execution_count": null,
      "outputs": []
    },
    {
      "cell_type": "code",
      "execution_count": null,
      "id": "d651ecf5",
      "metadata": {
        "id": "d651ecf5"
      },
      "outputs": [],
      "source": [
        "import numpy as np\n",
        "import pandas as pd\n",
        "import matplotlib.pyplot as plt\n",
        "import matplotlib.dates as mdates\n",
        "import seaborn as sns"
      ]
    },
    {
      "cell_type": "code",
      "execution_count": null,
      "id": "7007bb8c",
      "metadata": {
        "id": "7007bb8c"
      },
      "outputs": [],
      "source": [
        "data = pd.read_csv(\n",
        "    \"https://raw.githubusercontent.com/gchoi/Dataset/master/weatherAUS.csv\"\n",
        ")"
      ]
    },
    {
      "cell_type": "code",
      "execution_count": null,
      "id": "22c26b6c",
      "metadata": {
        "id": "22c26b6c"
      },
      "outputs": [],
      "source": [
        "data.columns"
      ]
    },
    {
      "cell_type": "code",
      "execution_count": null,
      "id": "84d5b58e",
      "metadata": {
        "id": "84d5b58e"
      },
      "outputs": [],
      "source": [
        "data.head(5)"
      ]
    },
    {
      "cell_type": "code",
      "execution_count": null,
      "id": "b813ba51",
      "metadata": {
        "id": "b813ba51"
      },
      "outputs": [],
      "source": [
        "data.describe()"
      ]
    },
    {
      "cell_type": "code",
      "execution_count": null,
      "id": "6cf2fdea",
      "metadata": {
        "id": "6cf2fdea"
      },
      "outputs": [],
      "source": [
        "data.drop(columns=[\"Sunshine\", \"Evaporation\", \"Cloud9am\", \"Cloud3pm\"], inplace=True)"
      ]
    },
    {
      "cell_type": "code",
      "execution_count": null,
      "id": "1fdb8132",
      "metadata": {
        "id": "1fdb8132"
      },
      "outputs": [],
      "source": [
        "# Replace numerical columns with median\n",
        "def replace_numerical(df1):\n",
        "    for col in df1.select_dtypes(['int', 'float']):\n",
        "        df1[col] = df1[col].fillna(df1[col].median())\n",
        "    return df1\n",
        "\n",
        "# Replace object columns with mode\n",
        "def replace_object(df1):\n",
        "    for col in df1.select_dtypes('object'):\n",
        "        df1[col] = df1[col].fillna(method='ffill')\n",
        "    return df1"
      ]
    },
    {
      "cell_type": "code",
      "execution_count": null,
      "id": "e19b3208",
      "metadata": {
        "id": "e19b3208"
      },
      "outputs": [],
      "source": [
        "data = replace_numerical(data)\n",
        "data = replace_object(data)"
      ]
    },
    {
      "cell_type": "code",
      "execution_count": null,
      "id": "2e0c75f0",
      "metadata": {
        "id": "2e0c75f0"
      },
      "outputs": [],
      "source": [
        "data.head()"
      ]
    },
    {
      "cell_type": "markdown",
      "id": "de5514f7",
      "metadata": {
        "id": "de5514f7"
      },
      "source": [
        "## Rainfall distribution each month"
      ]
    },
    {
      "cell_type": "code",
      "execution_count": null,
      "id": "19f35282",
      "metadata": {
        "id": "19f35282"
      },
      "outputs": [],
      "source": [
        "data['Date'] = pd.to_datetime(data['Date'], errors='coerce')\n",
        "data[\"Month\"] = data.Date.map(lambda x: x.month)"
      ]
    },
    {
      "cell_type": "code",
      "execution_count": null,
      "id": "e73a634b",
      "metadata": {
        "id": "e73a634b"
      },
      "outputs": [],
      "source": [
        "data.groupby(\"Month\").agg({\"Rainfall\": \"sum\"}).plot(kind=\"bar\", color=\"blue\")\n",
        "plt.title('Rainfall distribution in each month', fontsize=15)\n",
        "plt.xlabel('Month', fontsize=10)\n",
        "plt.ylabel('Rainfall (in mm)', fontsize=10)\n",
        "plt.xticks(rotation=0)\n",
        "plt.show()"
      ]
    },
    {
      "cell_type": "code",
      "execution_count": null,
      "id": "f88f02eb",
      "metadata": {
        "id": "f88f02eb"
      },
      "outputs": [],
      "source": [
        "plt.figure(figsize=(10,5))\n",
        "plt.scatter(data['Location'], data['Rainfall'], alpha=0.4)\n",
        "plt.xlabel(\"Location\")\n",
        "plt.xticks(rotation=80)\n",
        "plt.ylabel(\"Rainfall\")\n",
        "plt.show()"
      ]
    },
    {
      "cell_type": "markdown",
      "id": "59f9a47a",
      "metadata": {
        "id": "59f9a47a"
      },
      "source": [
        "## Min and Max Temperature based on location"
      ]
    },
    {
      "cell_type": "code",
      "execution_count": null,
      "id": "56ab5250",
      "metadata": {
        "id": "56ab5250"
      },
      "outputs": [],
      "source": [
        "min_temp_df = data.groupby('Location').agg({'MinTemp':'mean'})\n",
        "max_temp_df = data.groupby('Location').agg({'MaxTemp':'mean'})"
      ]
    },
    {
      "cell_type": "code",
      "execution_count": null,
      "id": "77d7efd2",
      "metadata": {
        "id": "77d7efd2"
      },
      "outputs": [],
      "source": [
        "w = 0.6\n",
        "x = np.arange(data['Location'].nunique())\n",
        "locations = data[\"Location\"].unique()\n",
        "\n",
        "fig = plt.figure()\n",
        "ax = fig.add_axes([0, 0, 1, 1])\n",
        "ax.bar(x - w/2, min_temp_df[:]['MinTemp'], label='Average MinTemp by Location', color='maroon', width=w)\n",
        "ax.bar(x + w/2, max_temp_df[:]['MaxTemp'], label='Average MaxTemp by Location', color='salmon', width=w)\n",
        "ax.set_xticks(x)\n",
        "ax.set_xticklabels(locations, rotation=90)\n",
        "plt.title(\"Comparing MinTemp and MaxTemp based on location\", fontsize=15)\n",
        "plt.legend(fontsize=10)\n",
        "plt.show()"
      ]
    },
    {
      "cell_type": "code",
      "execution_count": null,
      "id": "384e4108",
      "metadata": {
        "id": "384e4108"
      },
      "outputs": [],
      "source": [
        "sns.histplot(data[\"Humidity9am\"], kde=True)\n",
        "plt.title('Histograms of humidity at 9 AM')\n",
        "plt.show()"
      ]
    },
    {
      "cell_type": "code",
      "execution_count": null,
      "id": "36dab585",
      "metadata": {
        "id": "36dab585"
      },
      "outputs": [],
      "source": [
        "sns.displot(data[\"WindSpeed3pm\"], kind=\"kde\")\n",
        "plt.title('Histograms of Windspeed at 3 PM')\n",
        "plt.show()"
      ]
    },
    {
      "cell_type": "markdown",
      "id": "14200461",
      "metadata": {
        "id": "14200461"
      },
      "source": [
        "## **Plotly**"
      ]
    },
    {
      "cell_type": "code",
      "execution_count": null,
      "id": "f87011bb",
      "metadata": {
        "id": "f87011bb"
      },
      "outputs": [],
      "source": [
        "import plotly.express as px\n",
        "import plotly.graph_objects as go"
      ]
    },
    {
      "cell_type": "code",
      "execution_count": null,
      "id": "063ae307",
      "metadata": {
        "id": "063ae307"
      },
      "outputs": [],
      "source": [
        "rainfall_df = data.groupby(\"Month\").agg({\"Rainfall\": \"sum\"}).reset_index()\n",
        "rainfall_loc_df = data.groupby([\"Month\", \"Location\"]).agg({\"Rainfall\": \"sum\"}).reset_index()"
      ]
    },
    {
      "cell_type": "code",
      "execution_count": null,
      "id": "1bbd5abc",
      "metadata": {
        "id": "1bbd5abc"
      },
      "outputs": [],
      "source": [
        "rainfall_loc_df.head()"
      ]
    },
    {
      "cell_type": "code",
      "execution_count": null,
      "id": "8fa35c73",
      "metadata": {
        "id": "8fa35c73"
      },
      "outputs": [],
      "source": [
        "fig = px.bar(rainfall_df, x=\"Month\", y=\"Rainfall\",\n",
        "             labels={\"Rainfall\": \"Total rainfall\"},\n",
        "             height=400)\n",
        "fig.show()"
      ]
    },
    {
      "cell_type": "code",
      "execution_count": null,
      "id": "a931d1bd",
      "metadata": {
        "id": "a931d1bd"
      },
      "outputs": [],
      "source": [
        "rainfall_loc_df.head()"
      ]
    },
    {
      "cell_type": "code",
      "execution_count": null,
      "id": "683a072b",
      "metadata": {
        "id": "683a072b"
      },
      "outputs": [],
      "source": [
        "fig_rainfall = px.bar(\n",
        "    rainfall_loc_df, x=\"Month\", y=\"Rainfall\",\n",
        "    labels={\"Rainfall\": \"Total rainfall\"},\n",
        "    height=400,\n",
        "    color=\"Location\",\n",
        "    title=\"Total rainfall by city\"\n",
        ")\n",
        "fig_rainfall.show()"
      ]
    },
    {
      "cell_type": "code",
      "execution_count": null,
      "id": "7cc4c46e",
      "metadata": {
        "id": "7cc4c46e"
      },
      "outputs": [],
      "source": [
        "months = ['Jan', 'Feb', 'Mar', 'Apr', 'May', 'Jun',\n",
        "          'Jul', 'Aug', 'Sep', 'Oct', 'Nov', 'Dec']\n",
        "rainfall_loc_df[\"Month_\"] = rainfall_loc_df.Month.map(\n",
        "    lambda x: months[x - 1]\n",
        ")"
      ]
    },
    {
      "cell_type": "code",
      "execution_count": null,
      "id": "72b32bf8",
      "metadata": {
        "id": "72b32bf8"
      },
      "outputs": [],
      "source": [
        "min_temp_df = data.groupby('Location').agg({'MinTemp':'mean'}).reset_index()\n",
        "max_temp_df = data.groupby('Location').agg({'MaxTemp':'mean'}).reset_index()"
      ]
    },
    {
      "cell_type": "code",
      "execution_count": null,
      "id": "9bfbaed3",
      "metadata": {
        "id": "9bfbaed3"
      },
      "outputs": [],
      "source": [
        "min_temp_df.head()"
      ]
    },
    {
      "cell_type": "code",
      "execution_count": null,
      "id": "5d10f199",
      "metadata": {
        "id": "5d10f199"
      },
      "outputs": [],
      "source": [
        "fig = go.Figure()\n",
        "fig.add_trace(go.Bar(\n",
        "    x=min_temp_df.Location,\n",
        "    y=min_temp_df.MinTemp,\n",
        "    name='Minimum temperature',\n",
        "    marker_color='indianred'\n",
        "))\n",
        "fig.add_trace(go.Bar(\n",
        "    x=max_temp_df.Location,\n",
        "    y=max_temp_df.MaxTemp,\n",
        "    name='Maximum temperature',\n",
        "    marker_color='lightsalmon'\n",
        "))\n",
        "fig.update_layout(\n",
        "    title=\"City and Minumum/Maximum Rainfall\",\n",
        "    xaxis_title=\"City\",\n",
        "    yaxis_title=\"Minimum/Maximum Rainfall\"\n",
        ")"
      ]
    },
    {
      "cell_type": "markdown",
      "id": "d3aa1924",
      "metadata": {
        "id": "d3aa1924"
      },
      "source": [
        "## **Use dash to combine all figures**"
      ]
    },
    {
      "cell_type": "code",
      "source": [
        "import plotly.graph_objects as go\n",
        "import dash\n",
        "import dash_core_components as dcc\n",
        "from dash import html\n",
        "from jupyter_dash import JupyterDash"
      ],
      "metadata": {
        "id": "Ro1F1Ul4yida"
      },
      "id": "Ro1F1Ul4yida",
      "execution_count": null,
      "outputs": []
    },
    {
      "cell_type": "code",
      "source": [
        "app = dash.Dash()\n",
        "app.layout = html.Div([\n",
        "    dcc.Graph(figure=fig),\n",
        "    dcc.Graph(figure=fig_rainfall)\n",
        "])\n",
        "app.run_server(debug=True, use_reloader=False) # on local computer"
      ],
      "metadata": {
        "id": "Je-JW-zXzpNS"
      },
      "id": "Je-JW-zXzpNS",
      "execution_count": null,
      "outputs": []
    },
    {
      "cell_type": "code",
      "execution_count": null,
      "id": "e8345056",
      "metadata": {
        "id": "e8345056"
      },
      "outputs": [],
      "source": [
        "app = JupyterDash()\n",
        "app.layout = html.Div([\n",
        "    html.H1(\"Australia RainFall Dashboard\"),\n",
        "    dcc.Graph(figure=fig),\n",
        "    dcc.Graph(figure=fig_rainfall)\n",
        "])\n",
        "app.run_server(mode=\"inline\", host=\"0.0.0.0\") # on google colab"
      ]
    },
    {
      "cell_type": "code",
      "source": [],
      "metadata": {
        "id": "lsvp5xDjxAhN"
      },
      "id": "lsvp5xDjxAhN",
      "execution_count": null,
      "outputs": []
    }
  ],
  "metadata": {
    "kernelspec": {
      "display_name": "Python 3 (ipykernel)",
      "language": "python",
      "name": "python3"
    },
    "language_info": {
      "codemirror_mode": {
        "name": "ipython",
        "version": 3
      },
      "file_extension": ".py",
      "mimetype": "text/x-python",
      "name": "python",
      "nbconvert_exporter": "python",
      "pygments_lexer": "ipython3",
      "version": "3.7.13"
    },
    "colab": {
      "provenance": []
    },
    "accelerator": "GPU",
    "gpuClass": "standard"
  },
  "nbformat": 4,
  "nbformat_minor": 5
}