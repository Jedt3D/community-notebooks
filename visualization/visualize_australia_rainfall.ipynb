{
 "cells": [
  {
   "attachments": {},
   "cell_type": "markdown",
   "id": "642b6ceb",
   "metadata": {},
   "source": [
    "# Australia Rainfall Exploratory Data Analysis\n",
    "\n",
    "[![Open in Colab](https://colab.research.google.com/assets/colab-badge.svg)](https://colab.research.google.com/github/biodatlab/community-notebooks/blob/main/visualization/visualize_australia_rainfall.ipynb)\n",
    "\n",
    "Visualizing Australia rainfall dataset using matplotlib, plotly, and dash\n",
    "\n",
    "Reference: https://www.kaggle.com/code/zohrehtofighizavareh/australia-rainfall-eda"
   ]
  },
  {
   "cell_type": "code",
   "execution_count": 1,
   "id": "d651ecf5",
   "metadata": {},
   "outputs": [],
   "source": [
    "import numpy as np\n",
    "import pandas as pd\n",
    "import matplotlib.pyplot as plt\n",
    "import matplotlib.dates as mdates\n",
    "import seaborn as sns"
   ]
  },
  {
   "cell_type": "code",
   "execution_count": 2,
   "id": "7007bb8c",
   "metadata": {},
   "outputs": [],
   "source": [
    "data = pd.read_csv(\n",
    "    \"https://raw.githubusercontent.com/gchoi/Dataset/master/weatherAUS.csv\"\n",
    ")"
   ]
  },
  {
   "cell_type": "code",
   "execution_count": 3,
   "id": "22c26b6c",
   "metadata": {},
   "outputs": [
    {
     "data": {
      "text/plain": [
       "Index(['Date', 'Location', 'MinTemp', 'MaxTemp', 'Rainfall', 'Evaporation',\n",
       "       'Sunshine', 'WindGustDir', 'WindGustSpeed', 'WindDir9am', 'WindDir3pm',\n",
       "       'WindSpeed9am', 'WindSpeed3pm', 'Humidity9am', 'Humidity3pm',\n",
       "       'Pressure9am', 'Pressure3pm', 'Cloud9am', 'Cloud3pm', 'Temp9am',\n",
       "       'Temp3pm', 'RainToday', 'RISK_MM', 'RainTomorrow'],\n",
       "      dtype='object')"
      ]
     },
     "execution_count": 3,
     "metadata": {},
     "output_type": "execute_result"
    }
   ],
   "source": [
    "data.columns"
   ]
  },
  {
   "cell_type": "code",
   "execution_count": 4,
   "id": "84d5b58e",
   "metadata": {},
   "outputs": [
    {
     "data": {
      "text/html": [
       "<div>\n",
       "<style scoped>\n",
       "    .dataframe tbody tr th:only-of-type {\n",
       "        vertical-align: middle;\n",
       "    }\n",
       "\n",
       "    .dataframe tbody tr th {\n",
       "        vertical-align: top;\n",
       "    }\n",
       "\n",
       "    .dataframe thead th {\n",
       "        text-align: right;\n",
       "    }\n",
       "</style>\n",
       "<table border=\"1\" class=\"dataframe\">\n",
       "  <thead>\n",
       "    <tr style=\"text-align: right;\">\n",
       "      <th></th>\n",
       "      <th>Date</th>\n",
       "      <th>Location</th>\n",
       "      <th>MinTemp</th>\n",
       "      <th>MaxTemp</th>\n",
       "      <th>Rainfall</th>\n",
       "      <th>Evaporation</th>\n",
       "      <th>Sunshine</th>\n",
       "      <th>WindGustDir</th>\n",
       "      <th>WindGustSpeed</th>\n",
       "      <th>WindDir9am</th>\n",
       "      <th>...</th>\n",
       "      <th>Humidity3pm</th>\n",
       "      <th>Pressure9am</th>\n",
       "      <th>Pressure3pm</th>\n",
       "      <th>Cloud9am</th>\n",
       "      <th>Cloud3pm</th>\n",
       "      <th>Temp9am</th>\n",
       "      <th>Temp3pm</th>\n",
       "      <th>RainToday</th>\n",
       "      <th>RISK_MM</th>\n",
       "      <th>RainTomorrow</th>\n",
       "    </tr>\n",
       "  </thead>\n",
       "  <tbody>\n",
       "    <tr>\n",
       "      <th>0</th>\n",
       "      <td>5/18/2009</td>\n",
       "      <td>Hobart</td>\n",
       "      <td>5.1</td>\n",
       "      <td>14.3</td>\n",
       "      <td>0.0</td>\n",
       "      <td>1.8</td>\n",
       "      <td>8.9</td>\n",
       "      <td>NW</td>\n",
       "      <td>30.0</td>\n",
       "      <td>WSW</td>\n",
       "      <td>...</td>\n",
       "      <td>47.0</td>\n",
       "      <td>1023.1</td>\n",
       "      <td>1022.2</td>\n",
       "      <td>1.0</td>\n",
       "      <td>1.0</td>\n",
       "      <td>9.1</td>\n",
       "      <td>13.3</td>\n",
       "      <td>No</td>\n",
       "      <td>0.0</td>\n",
       "      <td>No</td>\n",
       "    </tr>\n",
       "    <tr>\n",
       "      <th>1</th>\n",
       "      <td>7/3/2009</td>\n",
       "      <td>Launceston</td>\n",
       "      <td>1.1</td>\n",
       "      <td>14.5</td>\n",
       "      <td>0.4</td>\n",
       "      <td>NaN</td>\n",
       "      <td>NaN</td>\n",
       "      <td>SSW</td>\n",
       "      <td>50.0</td>\n",
       "      <td>E</td>\n",
       "      <td>...</td>\n",
       "      <td>46.0</td>\n",
       "      <td>1001.5</td>\n",
       "      <td>1002.4</td>\n",
       "      <td>NaN</td>\n",
       "      <td>NaN</td>\n",
       "      <td>1.3</td>\n",
       "      <td>13.7</td>\n",
       "      <td>No</td>\n",
       "      <td>0.0</td>\n",
       "      <td>No</td>\n",
       "    </tr>\n",
       "    <tr>\n",
       "      <th>2</th>\n",
       "      <td>2/18/2010</td>\n",
       "      <td>Williamtown</td>\n",
       "      <td>19.7</td>\n",
       "      <td>26.2</td>\n",
       "      <td>0.0</td>\n",
       "      <td>7.2</td>\n",
       "      <td>7.2</td>\n",
       "      <td>SSE</td>\n",
       "      <td>41.0</td>\n",
       "      <td>SSE</td>\n",
       "      <td>...</td>\n",
       "      <td>50.0</td>\n",
       "      <td>1020.9</td>\n",
       "      <td>1021.9</td>\n",
       "      <td>6.0</td>\n",
       "      <td>4.0</td>\n",
       "      <td>22.7</td>\n",
       "      <td>24.4</td>\n",
       "      <td>No</td>\n",
       "      <td>0.2</td>\n",
       "      <td>No</td>\n",
       "    </tr>\n",
       "    <tr>\n",
       "      <th>3</th>\n",
       "      <td>3/4/2010</td>\n",
       "      <td>PerthAirport</td>\n",
       "      <td>16.6</td>\n",
       "      <td>28.0</td>\n",
       "      <td>0.0</td>\n",
       "      <td>9.0</td>\n",
       "      <td>11.3</td>\n",
       "      <td>SW</td>\n",
       "      <td>54.0</td>\n",
       "      <td>SSE</td>\n",
       "      <td>...</td>\n",
       "      <td>41.0</td>\n",
       "      <td>1018.3</td>\n",
       "      <td>1014.9</td>\n",
       "      <td>6.0</td>\n",
       "      <td>1.0</td>\n",
       "      <td>20.0</td>\n",
       "      <td>26.1</td>\n",
       "      <td>No</td>\n",
       "      <td>0.0</td>\n",
       "      <td>No</td>\n",
       "    </tr>\n",
       "    <tr>\n",
       "      <th>4</th>\n",
       "      <td>9/9/2010</td>\n",
       "      <td>GoldCoast</td>\n",
       "      <td>14.6</td>\n",
       "      <td>25.3</td>\n",
       "      <td>0.0</td>\n",
       "      <td>NaN</td>\n",
       "      <td>NaN</td>\n",
       "      <td>NNW</td>\n",
       "      <td>43.0</td>\n",
       "      <td>WNW</td>\n",
       "      <td>...</td>\n",
       "      <td>67.0</td>\n",
       "      <td>1020.3</td>\n",
       "      <td>1015.0</td>\n",
       "      <td>NaN</td>\n",
       "      <td>NaN</td>\n",
       "      <td>22.2</td>\n",
       "      <td>22.6</td>\n",
       "      <td>No</td>\n",
       "      <td>0.4</td>\n",
       "      <td>No</td>\n",
       "    </tr>\n",
       "  </tbody>\n",
       "</table>\n",
       "<p>5 rows × 24 columns</p>\n",
       "</div>"
      ],
      "text/plain": [
       "        Date      Location  MinTemp  MaxTemp  Rainfall  Evaporation  Sunshine  \\\n",
       "0  5/18/2009        Hobart      5.1     14.3       0.0          1.8       8.9   \n",
       "1   7/3/2009    Launceston      1.1     14.5       0.4          NaN       NaN   \n",
       "2  2/18/2010   Williamtown     19.7     26.2       0.0          7.2       7.2   \n",
       "3   3/4/2010  PerthAirport     16.6     28.0       0.0          9.0      11.3   \n",
       "4   9/9/2010     GoldCoast     14.6     25.3       0.0          NaN       NaN   \n",
       "\n",
       "  WindGustDir  WindGustSpeed WindDir9am  ... Humidity3pm  Pressure9am  \\\n",
       "0          NW           30.0        WSW  ...        47.0       1023.1   \n",
       "1         SSW           50.0          E  ...        46.0       1001.5   \n",
       "2         SSE           41.0        SSE  ...        50.0       1020.9   \n",
       "3          SW           54.0        SSE  ...        41.0       1018.3   \n",
       "4         NNW           43.0        WNW  ...        67.0       1020.3   \n",
       "\n",
       "   Pressure3pm  Cloud9am  Cloud3pm  Temp9am  Temp3pm  RainToday  RISK_MM  \\\n",
       "0       1022.2       1.0       1.0      9.1     13.3         No      0.0   \n",
       "1       1002.4       NaN       NaN      1.3     13.7         No      0.0   \n",
       "2       1021.9       6.0       4.0     22.7     24.4         No      0.2   \n",
       "3       1014.9       6.0       1.0     20.0     26.1         No      0.0   \n",
       "4       1015.0       NaN       NaN     22.2     22.6         No      0.4   \n",
       "\n",
       "   RainTomorrow  \n",
       "0            No  \n",
       "1            No  \n",
       "2            No  \n",
       "3            No  \n",
       "4            No  \n",
       "\n",
       "[5 rows x 24 columns]"
      ]
     },
     "execution_count": 4,
     "metadata": {},
     "output_type": "execute_result"
    }
   ],
   "source": [
    "data.head(5)"
   ]
  },
  {
   "cell_type": "code",
   "execution_count": 5,
   "id": "b813ba51",
   "metadata": {},
   "outputs": [
    {
     "data": {
      "text/html": [
       "<div>\n",
       "<style scoped>\n",
       "    .dataframe tbody tr th:only-of-type {\n",
       "        vertical-align: middle;\n",
       "    }\n",
       "\n",
       "    .dataframe tbody tr th {\n",
       "        vertical-align: top;\n",
       "    }\n",
       "\n",
       "    .dataframe thead th {\n",
       "        text-align: right;\n",
       "    }\n",
       "</style>\n",
       "<table border=\"1\" class=\"dataframe\">\n",
       "  <thead>\n",
       "    <tr style=\"text-align: right;\">\n",
       "      <th></th>\n",
       "      <th>MinTemp</th>\n",
       "      <th>MaxTemp</th>\n",
       "      <th>Rainfall</th>\n",
       "      <th>Evaporation</th>\n",
       "      <th>Sunshine</th>\n",
       "      <th>WindGustSpeed</th>\n",
       "      <th>WindSpeed9am</th>\n",
       "      <th>WindSpeed3pm</th>\n",
       "      <th>Humidity9am</th>\n",
       "      <th>Humidity3pm</th>\n",
       "      <th>Pressure9am</th>\n",
       "      <th>Pressure3pm</th>\n",
       "      <th>Cloud9am</th>\n",
       "      <th>Cloud3pm</th>\n",
       "      <th>Temp9am</th>\n",
       "      <th>Temp3pm</th>\n",
       "      <th>RISK_MM</th>\n",
       "    </tr>\n",
       "  </thead>\n",
       "  <tbody>\n",
       "    <tr>\n",
       "      <th>count</th>\n",
       "      <td>36543.000000</td>\n",
       "      <td>36639.000000</td>\n",
       "      <td>36255.000000</td>\n",
       "      <td>24035.000000</td>\n",
       "      <td>23317.000000</td>\n",
       "      <td>33520.000000</td>\n",
       "      <td>36219.000000</td>\n",
       "      <td>36235.000000</td>\n",
       "      <td>36311.000000</td>\n",
       "      <td>36370.000000</td>\n",
       "      <td>33309.000000</td>\n",
       "      <td>33329.000000</td>\n",
       "      <td>24381.000000</td>\n",
       "      <td>23899.000000</td>\n",
       "      <td>36394.000000</td>\n",
       "      <td>36437.000000</td>\n",
       "      <td>36261.000000</td>\n",
       "    </tr>\n",
       "    <tr>\n",
       "      <th>mean</th>\n",
       "      <td>12.235966</td>\n",
       "      <td>22.939491</td>\n",
       "      <td>2.554823</td>\n",
       "      <td>5.189544</td>\n",
       "      <td>7.544688</td>\n",
       "      <td>40.390573</td>\n",
       "      <td>14.217427</td>\n",
       "      <td>18.874928</td>\n",
       "      <td>69.146953</td>\n",
       "      <td>52.307369</td>\n",
       "      <td>1017.283152</td>\n",
       "      <td>1014.967769</td>\n",
       "      <td>4.331488</td>\n",
       "      <td>4.462321</td>\n",
       "      <td>16.905688</td>\n",
       "      <td>21.485808</td>\n",
       "      <td>2.554748</td>\n",
       "    </tr>\n",
       "    <tr>\n",
       "      <th>std</th>\n",
       "      <td>6.389832</td>\n",
       "      <td>6.988266</td>\n",
       "      <td>9.081329</td>\n",
       "      <td>3.765427</td>\n",
       "      <td>3.833809</td>\n",
       "      <td>13.550613</td>\n",
       "      <td>8.997003</td>\n",
       "      <td>8.791849</td>\n",
       "      <td>18.300754</td>\n",
       "      <td>20.317082</td>\n",
       "      <td>7.177877</td>\n",
       "      <td>7.077594</td>\n",
       "      <td>2.848750</td>\n",
       "      <td>2.663067</td>\n",
       "      <td>6.428328</td>\n",
       "      <td>6.820848</td>\n",
       "      <td>8.940267</td>\n",
       "    </tr>\n",
       "    <tr>\n",
       "      <th>min</th>\n",
       "      <td>-8.500000</td>\n",
       "      <td>-3.100000</td>\n",
       "      <td>0.000000</td>\n",
       "      <td>0.000000</td>\n",
       "      <td>0.000000</td>\n",
       "      <td>7.000000</td>\n",
       "      <td>0.000000</td>\n",
       "      <td>0.000000</td>\n",
       "      <td>2.000000</td>\n",
       "      <td>1.000000</td>\n",
       "      <td>982.900000</td>\n",
       "      <td>980.200000</td>\n",
       "      <td>0.000000</td>\n",
       "      <td>0.000000</td>\n",
       "      <td>-5.900000</td>\n",
       "      <td>-5.100000</td>\n",
       "      <td>0.000000</td>\n",
       "    </tr>\n",
       "    <tr>\n",
       "      <th>25%</th>\n",
       "      <td>7.600000</td>\n",
       "      <td>17.800000</td>\n",
       "      <td>0.000000</td>\n",
       "      <td>2.600000</td>\n",
       "      <td>4.700000</td>\n",
       "      <td>31.000000</td>\n",
       "      <td>7.000000</td>\n",
       "      <td>13.000000</td>\n",
       "      <td>58.000000</td>\n",
       "      <td>38.000000</td>\n",
       "      <td>1012.500000</td>\n",
       "      <td>1010.100000</td>\n",
       "      <td>1.000000</td>\n",
       "      <td>2.000000</td>\n",
       "      <td>12.300000</td>\n",
       "      <td>16.500000</td>\n",
       "      <td>0.000000</td>\n",
       "    </tr>\n",
       "    <tr>\n",
       "      <th>50%</th>\n",
       "      <td>12.100000</td>\n",
       "      <td>22.300000</td>\n",
       "      <td>0.000000</td>\n",
       "      <td>4.600000</td>\n",
       "      <td>8.400000</td>\n",
       "      <td>39.000000</td>\n",
       "      <td>13.000000</td>\n",
       "      <td>19.000000</td>\n",
       "      <td>70.000000</td>\n",
       "      <td>53.000000</td>\n",
       "      <td>1017.300000</td>\n",
       "      <td>1015.000000</td>\n",
       "      <td>5.000000</td>\n",
       "      <td>5.000000</td>\n",
       "      <td>16.600000</td>\n",
       "      <td>20.900000</td>\n",
       "      <td>0.000000</td>\n",
       "    </tr>\n",
       "    <tr>\n",
       "      <th>75%</th>\n",
       "      <td>17.000000</td>\n",
       "      <td>27.900000</td>\n",
       "      <td>0.800000</td>\n",
       "      <td>7.000000</td>\n",
       "      <td>10.600000</td>\n",
       "      <td>48.000000</td>\n",
       "      <td>20.000000</td>\n",
       "      <td>24.000000</td>\n",
       "      <td>83.000000</td>\n",
       "      <td>66.000000</td>\n",
       "      <td>1022.200000</td>\n",
       "      <td>1019.800000</td>\n",
       "      <td>7.000000</td>\n",
       "      <td>7.000000</td>\n",
       "      <td>21.500000</td>\n",
       "      <td>26.200000</td>\n",
       "      <td>0.800000</td>\n",
       "    </tr>\n",
       "    <tr>\n",
       "      <th>max</th>\n",
       "      <td>30.500000</td>\n",
       "      <td>48.100000</td>\n",
       "      <td>371.000000</td>\n",
       "      <td>81.200000</td>\n",
       "      <td>14.300000</td>\n",
       "      <td>135.000000</td>\n",
       "      <td>87.000000</td>\n",
       "      <td>87.000000</td>\n",
       "      <td>100.000000</td>\n",
       "      <td>100.000000</td>\n",
       "      <td>1041.000000</td>\n",
       "      <td>1039.600000</td>\n",
       "      <td>9.000000</td>\n",
       "      <td>8.000000</td>\n",
       "      <td>37.700000</td>\n",
       "      <td>46.100000</td>\n",
       "      <td>367.600000</td>\n",
       "    </tr>\n",
       "  </tbody>\n",
       "</table>\n",
       "</div>"
      ],
      "text/plain": [
       "            MinTemp       MaxTemp      Rainfall   Evaporation      Sunshine  \\\n",
       "count  36543.000000  36639.000000  36255.000000  24035.000000  23317.000000   \n",
       "mean      12.235966     22.939491      2.554823      5.189544      7.544688   \n",
       "std        6.389832      6.988266      9.081329      3.765427      3.833809   \n",
       "min       -8.500000     -3.100000      0.000000      0.000000      0.000000   \n",
       "25%        7.600000     17.800000      0.000000      2.600000      4.700000   \n",
       "50%       12.100000     22.300000      0.000000      4.600000      8.400000   \n",
       "75%       17.000000     27.900000      0.800000      7.000000     10.600000   \n",
       "max       30.500000     48.100000    371.000000     81.200000     14.300000   \n",
       "\n",
       "       WindGustSpeed  WindSpeed9am  WindSpeed3pm   Humidity9am   Humidity3pm  \\\n",
       "count   33520.000000  36219.000000  36235.000000  36311.000000  36370.000000   \n",
       "mean       40.390573     14.217427     18.874928     69.146953     52.307369   \n",
       "std        13.550613      8.997003      8.791849     18.300754     20.317082   \n",
       "min         7.000000      0.000000      0.000000      2.000000      1.000000   \n",
       "25%        31.000000      7.000000     13.000000     58.000000     38.000000   \n",
       "50%        39.000000     13.000000     19.000000     70.000000     53.000000   \n",
       "75%        48.000000     20.000000     24.000000     83.000000     66.000000   \n",
       "max       135.000000     87.000000     87.000000    100.000000    100.000000   \n",
       "\n",
       "        Pressure9am   Pressure3pm      Cloud9am      Cloud3pm       Temp9am  \\\n",
       "count  33309.000000  33329.000000  24381.000000  23899.000000  36394.000000   \n",
       "mean    1017.283152   1014.967769      4.331488      4.462321     16.905688   \n",
       "std        7.177877      7.077594      2.848750      2.663067      6.428328   \n",
       "min      982.900000    980.200000      0.000000      0.000000     -5.900000   \n",
       "25%     1012.500000   1010.100000      1.000000      2.000000     12.300000   \n",
       "50%     1017.300000   1015.000000      5.000000      5.000000     16.600000   \n",
       "75%     1022.200000   1019.800000      7.000000      7.000000     21.500000   \n",
       "max     1041.000000   1039.600000      9.000000      8.000000     37.700000   \n",
       "\n",
       "            Temp3pm       RISK_MM  \n",
       "count  36437.000000  36261.000000  \n",
       "mean      21.485808      2.554748  \n",
       "std        6.820848      8.940267  \n",
       "min       -5.100000      0.000000  \n",
       "25%       16.500000      0.000000  \n",
       "50%       20.900000      0.000000  \n",
       "75%       26.200000      0.800000  \n",
       "max       46.100000    367.600000  "
      ]
     },
     "execution_count": 5,
     "metadata": {},
     "output_type": "execute_result"
    }
   ],
   "source": [
    "data.describe()"
   ]
  },
  {
   "cell_type": "code",
   "execution_count": null,
   "id": "6cf2fdea",
   "metadata": {},
   "outputs": [],
   "source": [
    "data.drop(columns=[\"Sunshine\", \"Evaporation\", \"Cloud9am\", \"Cloud3pm\"], inplace=True)"
   ]
  },
  {
   "cell_type": "code",
   "execution_count": 8,
   "id": "1fdb8132",
   "metadata": {},
   "outputs": [],
   "source": [
    "# Replace numerical columns with median\n",
    "def replace_numerical(df1):\n",
    "    for col in df1.select_dtypes(['int', 'float']):\n",
    "        df1[col] = df1[col].fillna(df1[col].median())\n",
    "    return df1\n",
    "\n",
    "# Replace object columns with mode\n",
    "def replace_object(df1):\n",
    "    for col in df1.select_dtypes('object'):\n",
    "        df1[col] = df1[col].fillna(method='ffill')\n",
    "    return df1"
   ]
  },
  {
   "cell_type": "code",
   "execution_count": 9,
   "id": "e19b3208",
   "metadata": {},
   "outputs": [],
   "source": [
    "data = replace_numerical(data)\n",
    "data = replace_object(data)"
   ]
  },
  {
   "cell_type": "code",
   "execution_count": 10,
   "id": "2e0c75f0",
   "metadata": {},
   "outputs": [
    {
     "data": {
      "text/html": [
       "<div>\n",
       "<style scoped>\n",
       "    .dataframe tbody tr th:only-of-type {\n",
       "        vertical-align: middle;\n",
       "    }\n",
       "\n",
       "    .dataframe tbody tr th {\n",
       "        vertical-align: top;\n",
       "    }\n",
       "\n",
       "    .dataframe thead th {\n",
       "        text-align: right;\n",
       "    }\n",
       "</style>\n",
       "<table border=\"1\" class=\"dataframe\">\n",
       "  <thead>\n",
       "    <tr style=\"text-align: right;\">\n",
       "      <th></th>\n",
       "      <th>Date</th>\n",
       "      <th>Location</th>\n",
       "      <th>MinTemp</th>\n",
       "      <th>MaxTemp</th>\n",
       "      <th>Rainfall</th>\n",
       "      <th>WindGustDir</th>\n",
       "      <th>WindGustSpeed</th>\n",
       "      <th>WindDir9am</th>\n",
       "      <th>WindDir3pm</th>\n",
       "      <th>WindSpeed9am</th>\n",
       "      <th>WindSpeed3pm</th>\n",
       "      <th>Humidity9am</th>\n",
       "      <th>Humidity3pm</th>\n",
       "      <th>Pressure9am</th>\n",
       "      <th>Pressure3pm</th>\n",
       "      <th>Temp9am</th>\n",
       "      <th>Temp3pm</th>\n",
       "      <th>RainToday</th>\n",
       "      <th>RISK_MM</th>\n",
       "      <th>RainTomorrow</th>\n",
       "    </tr>\n",
       "  </thead>\n",
       "  <tbody>\n",
       "    <tr>\n",
       "      <th>0</th>\n",
       "      <td>5/18/2009</td>\n",
       "      <td>Hobart</td>\n",
       "      <td>5.1</td>\n",
       "      <td>14.3</td>\n",
       "      <td>0.0</td>\n",
       "      <td>NW</td>\n",
       "      <td>30.0</td>\n",
       "      <td>WSW</td>\n",
       "      <td>SSE</td>\n",
       "      <td>7.0</td>\n",
       "      <td>6.0</td>\n",
       "      <td>65.0</td>\n",
       "      <td>47.0</td>\n",
       "      <td>1023.1</td>\n",
       "      <td>1022.2</td>\n",
       "      <td>9.1</td>\n",
       "      <td>13.3</td>\n",
       "      <td>No</td>\n",
       "      <td>0.0</td>\n",
       "      <td>No</td>\n",
       "    </tr>\n",
       "    <tr>\n",
       "      <th>1</th>\n",
       "      <td>7/3/2009</td>\n",
       "      <td>Launceston</td>\n",
       "      <td>1.1</td>\n",
       "      <td>14.5</td>\n",
       "      <td>0.4</td>\n",
       "      <td>SSW</td>\n",
       "      <td>50.0</td>\n",
       "      <td>E</td>\n",
       "      <td>SW</td>\n",
       "      <td>7.0</td>\n",
       "      <td>24.0</td>\n",
       "      <td>99.0</td>\n",
       "      <td>46.0</td>\n",
       "      <td>1001.5</td>\n",
       "      <td>1002.4</td>\n",
       "      <td>1.3</td>\n",
       "      <td>13.7</td>\n",
       "      <td>No</td>\n",
       "      <td>0.0</td>\n",
       "      <td>No</td>\n",
       "    </tr>\n",
       "    <tr>\n",
       "      <th>2</th>\n",
       "      <td>2/18/2010</td>\n",
       "      <td>Williamtown</td>\n",
       "      <td>19.7</td>\n",
       "      <td>26.2</td>\n",
       "      <td>0.0</td>\n",
       "      <td>SSE</td>\n",
       "      <td>41.0</td>\n",
       "      <td>SSE</td>\n",
       "      <td>SSE</td>\n",
       "      <td>19.0</td>\n",
       "      <td>31.0</td>\n",
       "      <td>48.0</td>\n",
       "      <td>50.0</td>\n",
       "      <td>1020.9</td>\n",
       "      <td>1021.9</td>\n",
       "      <td>22.7</td>\n",
       "      <td>24.4</td>\n",
       "      <td>No</td>\n",
       "      <td>0.2</td>\n",
       "      <td>No</td>\n",
       "    </tr>\n",
       "    <tr>\n",
       "      <th>3</th>\n",
       "      <td>3/4/2010</td>\n",
       "      <td>PerthAirport</td>\n",
       "      <td>16.6</td>\n",
       "      <td>28.0</td>\n",
       "      <td>0.0</td>\n",
       "      <td>SW</td>\n",
       "      <td>54.0</td>\n",
       "      <td>SSE</td>\n",
       "      <td>SW</td>\n",
       "      <td>28.0</td>\n",
       "      <td>33.0</td>\n",
       "      <td>50.0</td>\n",
       "      <td>41.0</td>\n",
       "      <td>1018.3</td>\n",
       "      <td>1014.9</td>\n",
       "      <td>20.0</td>\n",
       "      <td>26.1</td>\n",
       "      <td>No</td>\n",
       "      <td>0.0</td>\n",
       "      <td>No</td>\n",
       "    </tr>\n",
       "    <tr>\n",
       "      <th>4</th>\n",
       "      <td>9/9/2010</td>\n",
       "      <td>GoldCoast</td>\n",
       "      <td>14.6</td>\n",
       "      <td>25.3</td>\n",
       "      <td>0.0</td>\n",
       "      <td>NNW</td>\n",
       "      <td>43.0</td>\n",
       "      <td>WNW</td>\n",
       "      <td>N</td>\n",
       "      <td>6.0</td>\n",
       "      <td>28.0</td>\n",
       "      <td>64.0</td>\n",
       "      <td>67.0</td>\n",
       "      <td>1020.3</td>\n",
       "      <td>1015.0</td>\n",
       "      <td>22.2</td>\n",
       "      <td>22.6</td>\n",
       "      <td>No</td>\n",
       "      <td>0.4</td>\n",
       "      <td>No</td>\n",
       "    </tr>\n",
       "  </tbody>\n",
       "</table>\n",
       "</div>"
      ],
      "text/plain": [
       "        Date      Location  MinTemp  MaxTemp  Rainfall WindGustDir  \\\n",
       "0  5/18/2009        Hobart      5.1     14.3       0.0          NW   \n",
       "1   7/3/2009    Launceston      1.1     14.5       0.4         SSW   \n",
       "2  2/18/2010   Williamtown     19.7     26.2       0.0         SSE   \n",
       "3   3/4/2010  PerthAirport     16.6     28.0       0.0          SW   \n",
       "4   9/9/2010     GoldCoast     14.6     25.3       0.0         NNW   \n",
       "\n",
       "   WindGustSpeed WindDir9am WindDir3pm  WindSpeed9am  WindSpeed3pm  \\\n",
       "0           30.0        WSW        SSE           7.0           6.0   \n",
       "1           50.0          E         SW           7.0          24.0   \n",
       "2           41.0        SSE        SSE          19.0          31.0   \n",
       "3           54.0        SSE         SW          28.0          33.0   \n",
       "4           43.0        WNW          N           6.0          28.0   \n",
       "\n",
       "   Humidity9am  Humidity3pm  Pressure9am  Pressure3pm  Temp9am  Temp3pm  \\\n",
       "0         65.0         47.0       1023.1       1022.2      9.1     13.3   \n",
       "1         99.0         46.0       1001.5       1002.4      1.3     13.7   \n",
       "2         48.0         50.0       1020.9       1021.9     22.7     24.4   \n",
       "3         50.0         41.0       1018.3       1014.9     20.0     26.1   \n",
       "4         64.0         67.0       1020.3       1015.0     22.2     22.6   \n",
       "\n",
       "  RainToday  RISK_MM RainTomorrow  \n",
       "0        No      0.0           No  \n",
       "1        No      0.0           No  \n",
       "2        No      0.2           No  \n",
       "3        No      0.0           No  \n",
       "4        No      0.4           No  "
      ]
     },
     "execution_count": 10,
     "metadata": {},
     "output_type": "execute_result"
    }
   ],
   "source": [
    "data.head()"
   ]
  },
  {
   "cell_type": "markdown",
   "id": "de5514f7",
   "metadata": {},
   "source": [
    "## Rainfall distribution each month"
   ]
  },
  {
   "cell_type": "code",
   "execution_count": null,
   "id": "19f35282",
   "metadata": {},
   "outputs": [],
   "source": [
    "data['Date'] = pd.to_datetime(data['Date'], errors='coerce')\n",
    "data[\"Month\"] = data.Date.map(lambda x: x.month)"
   ]
  },
  {
   "cell_type": "code",
   "execution_count": null,
   "id": "e73a634b",
   "metadata": {},
   "outputs": [],
   "source": [
    "data.groupby(\"Month\").agg({\"Rainfall\": \"sum\"}).plot(kind=\"bar\", color=\"blue\")\n",
    "plt.title('Rainfall distribution in each month', fontsize=15)\n",
    "plt.xlabel('Month', fontsize=10)\n",
    "plt.ylabel('Rainfall (in mm)', fontsize=10)\n",
    "plt.xticks(rotation=0)\n",
    "plt.show()"
   ]
  },
  {
   "cell_type": "code",
   "execution_count": 12,
   "id": "f88f02eb",
   "metadata": {},
   "outputs": [
    {
     "data": {
      "image/png": "[encoded data removed]",
      "text/plain": [
       "<Figure size 1000x500 with 1 Axes>"
      ]
     },
     "metadata": {},
     "output_type": "display_data"
    }
   ],
   "source": [
    "plt.figure(figsize=(10,5))\n",
    "plt.scatter(data['Location'], data['Rainfall'], alpha=0.4)\n",
    "plt.xlabel(\"Location\")\n",
    "plt.xticks(rotation=80)\n",
    "plt.ylabel(\"Rainfall\")\n",
    "plt.show()"
   ]
  },
  {
   "cell_type": "markdown",
   "id": "59f9a47a",
   "metadata": {},
   "source": [
    "## Min and Max Temperature based on location"
   ]
  },
  {
   "cell_type": "code",
   "execution_count": 13,
   "id": "56ab5250",
   "metadata": {},
   "outputs": [],
   "source": [
    "min_temp_df = data.groupby('Location').agg({'MinTemp':'mean'})\n",
    "max_temp_df = data.groupby('Location').agg({'MaxTemp':'mean'})"
   ]
  },
  {
   "cell_type": "code",
   "execution_count": 15,
   "id": "77d7efd2",
   "metadata": {},
   "outputs": [
    {
     "data": {
      "image/png": "[encoded data removed]",
      "text/plain": [
       "<Figure size 640x480 with 1 Axes>"
      ]
     },
     "metadata": {},
     "output_type": "display_data"
    }
   ],
   "source": [
    "w = 0.6\n",
    "x = np.arange(data['Location'].nunique())\n",
    "locations = data[\"Location\"].unique()\n",
    "\n",
    "fig = plt.figure()\n",
    "ax = fig.add_axes([0, 0, 1, 1])\n",
    "ax.bar(x - w/2, min_temp_df[:]['MinTemp'], label='Average MinTemp by Location', color='maroon', width=w)\n",
    "ax.bar(x + w/2, max_temp_df[:]['MaxTemp'], label='Average MaxTemp by Location', color='salmon', width=w)\n",
    "ax.set_xticks(x)\n",
    "ax.set_xticklabels(locations, rotation=90)\n",
    "plt.title(\"Comparing MinTemp and MaxTemp based on location\", fontsize=15)\n",
    "plt.legend(fontsize=10)\n",
    "plt.show()"
   ]
  },
  {
   "cell_type": "code",
   "execution_count": 16,
   "id": "384e4108",
   "metadata": {},
   "outputs": [
    {
     "data": {
      "image/png": "[encoded data removed]",
      "text/plain": [
       "<Figure size 640x480 with 1 Axes>"
      ]
     },
     "metadata": {},
     "output_type": "display_data"
    }
   ],
   "source": [
    "sns.histplot(data[\"Humidity9am\"], kde=True)\n",
    "plt.title('Histograms of humidity at 9 AM')\n",
    "plt.show()"
   ]
  },
  {
   "cell_type": "code",
   "execution_count": 17,
   "id": "36dab585",
   "metadata": {},
   "outputs": [
    {
     "data": {
      "image/png": "[encoded data removed]",
      "text/plain": [
       "<Figure size 500x500 with 1 Axes>"
      ]
     },
     "metadata": {},
     "output_type": "display_data"
    }
   ],
   "source": [
    "sns.displot(data[\"WindSpeed3pm\"], kind=\"kde\")\n",
    "plt.title('Histograms of Windspeed at 3 PM')\n",
    "plt.show()"
   ]
  },
  {
   "cell_type": "markdown",
   "id": "14200461",
   "metadata": {},
   "source": [
    "## **Plotly**"
   ]
  },
  {
   "cell_type": "code",
   "execution_count": 59,
   "id": "f87011bb",
   "metadata": {},
   "outputs": [
    {
     "data": {
      "text/html": [
       "<div>\n",
       "<style scoped>\n",
       "    .dataframe tbody tr th:only-of-type {\n",
       "        vertical-align: middle;\n",
       "    }\n",
       "\n",
       "    .dataframe tbody tr th {\n",
       "        vertical-align: top;\n",
       "    }\n",
       "\n",
       "    .dataframe thead th {\n",
       "        text-align: right;\n",
       "    }\n",
       "</style>\n",
       "<table border=\"1\" class=\"dataframe\">\n",
       "  <thead>\n",
       "    <tr style=\"text-align: right;\">\n",
       "      <th></th>\n",
       "      <th>Date</th>\n",
       "      <th>Location</th>\n",
       "      <th>MinTemp</th>\n",
       "      <th>MaxTemp</th>\n",
       "      <th>Rainfall</th>\n",
       "      <th>WindGustDir</th>\n",
       "      <th>WindGustSpeed</th>\n",
       "      <th>WindDir9am</th>\n",
       "      <th>WindDir3pm</th>\n",
       "      <th>WindSpeed9am</th>\n",
       "      <th>...</th>\n",
       "      <th>Humidity9am</th>\n",
       "      <th>Humidity3pm</th>\n",
       "      <th>Pressure9am</th>\n",
       "      <th>Pressure3pm</th>\n",
       "      <th>Temp9am</th>\n",
       "      <th>Temp3pm</th>\n",
       "      <th>RainToday</th>\n",
       "      <th>RISK_MM</th>\n",
       "      <th>RainTomorrow</th>\n",
       "      <th>Month</th>\n",
       "    </tr>\n",
       "  </thead>\n",
       "  <tbody>\n",
       "    <tr>\n",
       "      <th>0</th>\n",
       "      <td>2009-05-18</td>\n",
       "      <td>Hobart</td>\n",
       "      <td>5.1</td>\n",
       "      <td>14.3</td>\n",
       "      <td>0.0</td>\n",
       "      <td>NW</td>\n",
       "      <td>30.0</td>\n",
       "      <td>WSW</td>\n",
       "      <td>SSE</td>\n",
       "      <td>7.0</td>\n",
       "      <td>...</td>\n",
       "      <td>65.0</td>\n",
       "      <td>47.0</td>\n",
       "      <td>1023.1</td>\n",
       "      <td>1022.2</td>\n",
       "      <td>9.1</td>\n",
       "      <td>13.3</td>\n",
       "      <td>No</td>\n",
       "      <td>0.0</td>\n",
       "      <td>No</td>\n",
       "      <td>5</td>\n",
       "    </tr>\n",
       "    <tr>\n",
       "      <th>1</th>\n",
       "      <td>2009-07-03</td>\n",
       "      <td>Launceston</td>\n",
       "      <td>1.1</td>\n",
       "      <td>14.5</td>\n",
       "      <td>0.4</td>\n",
       "      <td>SSW</td>\n",
       "      <td>50.0</td>\n",
       "      <td>E</td>\n",
       "      <td>SW</td>\n",
       "      <td>7.0</td>\n",
       "      <td>...</td>\n",
       "      <td>99.0</td>\n",
       "      <td>46.0</td>\n",
       "      <td>1001.5</td>\n",
       "      <td>1002.4</td>\n",
       "      <td>1.3</td>\n",
       "      <td>13.7</td>\n",
       "      <td>No</td>\n",
       "      <td>0.0</td>\n",
       "      <td>No</td>\n",
       "      <td>7</td>\n",
       "    </tr>\n",
       "    <tr>\n",
       "      <th>2</th>\n",
       "      <td>2010-02-18</td>\n",
       "      <td>Williamtown</td>\n",
       "      <td>19.7</td>\n",
       "      <td>26.2</td>\n",
       "      <td>0.0</td>\n",
       "      <td>SSE</td>\n",
       "      <td>41.0</td>\n",
       "      <td>SSE</td>\n",
       "      <td>SSE</td>\n",
       "      <td>19.0</td>\n",
       "      <td>...</td>\n",
       "      <td>48.0</td>\n",
       "      <td>50.0</td>\n",
       "      <td>1020.9</td>\n",
       "      <td>1021.9</td>\n",
       "      <td>22.7</td>\n",
       "      <td>24.4</td>\n",
       "      <td>No</td>\n",
       "      <td>0.2</td>\n",
       "      <td>No</td>\n",
       "      <td>2</td>\n",
       "    </tr>\n",
       "    <tr>\n",
       "      <th>3</th>\n",
       "      <td>2010-03-04</td>\n",
       "      <td>PerthAirport</td>\n",
       "      <td>16.6</td>\n",
       "      <td>28.0</td>\n",
       "      <td>0.0</td>\n",
       "      <td>SW</td>\n",
       "      <td>54.0</td>\n",
       "      <td>SSE</td>\n",
       "      <td>SW</td>\n",
       "      <td>28.0</td>\n",
       "      <td>...</td>\n",
       "      <td>50.0</td>\n",
       "      <td>41.0</td>\n",
       "      <td>1018.3</td>\n",
       "      <td>1014.9</td>\n",
       "      <td>20.0</td>\n",
       "      <td>26.1</td>\n",
       "      <td>No</td>\n",
       "      <td>0.0</td>\n",
       "      <td>No</td>\n",
       "      <td>3</td>\n",
       "    </tr>\n",
       "    <tr>\n",
       "      <th>4</th>\n",
       "      <td>2010-09-09</td>\n",
       "      <td>GoldCoast</td>\n",
       "      <td>14.6</td>\n",
       "      <td>25.3</td>\n",
       "      <td>0.0</td>\n",
       "      <td>NNW</td>\n",
       "      <td>43.0</td>\n",
       "      <td>WNW</td>\n",
       "      <td>N</td>\n",
       "      <td>6.0</td>\n",
       "      <td>...</td>\n",
       "      <td>64.0</td>\n",
       "      <td>67.0</td>\n",
       "      <td>1020.3</td>\n",
       "      <td>1015.0</td>\n",
       "      <td>22.2</td>\n",
       "      <td>22.6</td>\n",
       "      <td>No</td>\n",
       "      <td>0.4</td>\n",
       "      <td>No</td>\n",
       "      <td>9</td>\n",
       "    </tr>\n",
       "  </tbody>\n",
       "</table>\n",
       "<p>5 rows × 21 columns</p>\n",
       "</div>"
      ],
      "text/plain": [
       "        Date      Location  MinTemp  MaxTemp  Rainfall WindGustDir  \\\n",
       "0 2009-05-18        Hobart      5.1     14.3       0.0          NW   \n",
       "1 2009-07-03    Launceston      1.1     14.5       0.4         SSW   \n",
       "2 2010-02-18   Williamtown     19.7     26.2       0.0         SSE   \n",
       "3 2010-03-04  PerthAirport     16.6     28.0       0.0          SW   \n",
       "4 2010-09-09     GoldCoast     14.6     25.3       0.0         NNW   \n",
       "\n",
       "   WindGustSpeed WindDir9am WindDir3pm  WindSpeed9am  ...  Humidity9am  \\\n",
       "0           30.0        WSW        SSE           7.0  ...         65.0   \n",
       "1           50.0          E         SW           7.0  ...         99.0   \n",
       "2           41.0        SSE        SSE          19.0  ...         48.0   \n",
       "3           54.0        SSE         SW          28.0  ...         50.0   \n",
       "4           43.0        WNW          N           6.0  ...         64.0   \n",
       "\n",
       "   Humidity3pm  Pressure9am  Pressure3pm  Temp9am  Temp3pm  RainToday RISK_MM  \\\n",
       "0         47.0       1023.1       1022.2      9.1     13.3         No     0.0   \n",
       "1         46.0       1001.5       1002.4      1.3     13.7         No     0.0   \n",
       "2         50.0       1020.9       1021.9     22.7     24.4         No     0.2   \n",
       "3         41.0       1018.3       1014.9     20.0     26.1         No     0.0   \n",
       "4         67.0       1020.3       1015.0     22.2     22.6         No     0.4   \n",
       "\n",
       "   RainTomorrow Month  \n",
       "0            No     5  \n",
       "1            No     7  \n",
       "2            No     2  \n",
       "3            No     3  \n",
       "4            No     9  \n",
       "\n",
       "[5 rows x 21 columns]"
      ]
     },
     "execution_count": 59,
     "metadata": {},
     "output_type": "execute_result"
    }
   ],
   "source": [
    "import plotly.express as px\n",
    "import plotly.graph_objects as go\n",
    "\n",
    "data.head()"
   ]
  },
  {
   "cell_type": "code",
   "execution_count": 35,
   "id": "063ae307",
   "metadata": {},
   "outputs": [],
   "source": [
    "rainfall_df = data.groupby(\"Month\").agg({\"Rainfall\": \"sum\"}).reset_index()\n",
    "rainfall_loc_df = data.groupby([\"Month\", \"Location\"]).agg({\"Rainfall\": \"sum\"}).reset_index()"
   ]
  },
  {
   "cell_type": "code",
   "execution_count": 37,
   "id": "1bbd5abc",
   "metadata": {},
   "outputs": [
    {
     "data": {
      "text/html": [
       "<div>\n",
       "<style scoped>\n",
       "    .dataframe tbody tr th:only-of-type {\n",
       "        vertical-align: middle;\n",
       "    }\n",
       "\n",
       "    .dataframe tbody tr th {\n",
       "        vertical-align: top;\n",
       "    }\n",
       "\n",
       "    .dataframe thead th {\n",
       "        text-align: right;\n",
       "    }\n",
       "</style>\n",
       "<table border=\"1\" class=\"dataframe\">\n",
       "  <thead>\n",
       "    <tr style=\"text-align: right;\">\n",
       "      <th></th>\n",
       "      <th>Month</th>\n",
       "      <th>Location</th>\n",
       "      <th>Rainfall</th>\n",
       "    </tr>\n",
       "  </thead>\n",
       "  <tbody>\n",
       "    <tr>\n",
       "      <th>0</th>\n",
       "      <td>1</td>\n",
       "      <td>Adelaide</td>\n",
       "      <td>41.2</td>\n",
       "    </tr>\n",
       "    <tr>\n",
       "      <th>1</th>\n",
       "      <td>1</td>\n",
       "      <td>Albany</td>\n",
       "      <td>92.1</td>\n",
       "    </tr>\n",
       "    <tr>\n",
       "      <th>2</th>\n",
       "      <td>1</td>\n",
       "      <td>Albury</td>\n",
       "      <td>84.4</td>\n",
       "    </tr>\n",
       "    <tr>\n",
       "      <th>3</th>\n",
       "      <td>1</td>\n",
       "      <td>AliceSprings</td>\n",
       "      <td>241.8</td>\n",
       "    </tr>\n",
       "    <tr>\n",
       "      <th>4</th>\n",
       "      <td>1</td>\n",
       "      <td>BadgerysCreek</td>\n",
       "      <td>169.4</td>\n",
       "    </tr>\n",
       "  </tbody>\n",
       "</table>\n",
       "</div>"
      ],
      "text/plain": [
       "   Month       Location  Rainfall\n",
       "0      1       Adelaide      41.2\n",
       "1      1         Albany      92.1\n",
       "2      1         Albury      84.4\n",
       "3      1   AliceSprings     241.8\n",
       "4      1  BadgerysCreek     169.4"
      ]
     },
     "execution_count": 37,
     "metadata": {},
     "output_type": "execute_result"
    }
   ],
   "source": [
    "rainfall_loc_df.head()"
   ]
  },
  {
   "cell_type": "code",
   "execution_count": 32,
   "id": "8fa35c73",
   "metadata": {},
   "outputs": [
    {
     "data": {
      "application/vnd.plotly.v1+json": {
       "config": {
        "plotlyServerURL": "https://plot.ly"
       },
       "data": [
        {
         "alignmentgroup": "True",
         "hovertemplate": "Month=%{x}<br>Total rainfall=%{y}<extra></extra>",
         "legendgroup": "",
         "marker": {
          "color": "#636efa",
          "pattern": {
           "shape": ""
          }
         },
         "name": "",
         "offsetgroup": "",
         "orientation": "v",
         "showlegend": false,
         "textposition": "auto",
         "type": "bar",
         "x": [
          1,
          2,
          3,
          4,
          5,
          6,
          7,
          8,
          9,
          10,
          11,
          12
         ],
         "xaxis": "x",
         "y": [
          10101.9,
          11167.7,
          7393.6,
          4102.2,
          6661.2,
          6931.9,
          7871,
          6120.8,
          5877.8,
          7440.1,
          8151.4,
          10805.5
         ],
         "yaxis": "y"
        }
       ],
       "layout": {
        "barmode": "relative",
        "height": 400,
        "legend": {
         "tracegroupgap": 0
        },
        "margin": {
         "t": 60
        },
        "template": {
         "data": {
          "bar": [
           {
            "error_x": {
             "color": "#2a3f5f"
            },
            "error_y": {
             "color": "#2a3f5f"
            },
            "marker": {
             "line": {
              "color": "#E5ECF6",
              "width": 0.5
             },
             "pattern": {
              "fillmode": "overlay",
              "size": 10,
              "solidity": 0.2
             }
            },
            "type": "bar"
           }
          ],
          "barpolar": [
           {
            "marker": {
             "line": {
              "color": "#E5ECF6",
              "width": 0.5
             },
             "pattern": {
              "fillmode": "overlay",
              "size": 10,
              "solidity": 0.2
             }
            },
            "type": "barpolar"
           }
          ],
          "carpet": [
           {
            "aaxis": {
             "endlinecolor": "#2a3f5f",
             "gridcolor": "white",
             "linecolor": "white",
             "minorgridcolor": "white",
             "startlinecolor": "#2a3f5f"
            },
            "baxis": {
             "endlinecolor": "#2a3f5f",
             "gridcolor": "white",
             "linecolor": "white",
             "minorgridcolor": "white",
             "startlinecolor": "#2a3f5f"
            },
            "type": "carpet"
           }
          ],
          "choropleth": [
           {
            "colorbar": {
             "outlinewidth": 0,
             "ticks": ""
            },
            "type": "choropleth"
           }
          ],
          "contour": [
           {
            "colorbar": {
             "outlinewidth": 0,
             "ticks": ""
            },
            "colorscale": [
             [
              0,
              "#0d0887"
             ],
             [
              0.1111111111111111,
              "#46039f"
             ],
             [
              0.2222222222222222,
              "#7201a8"
             ],
             [
              0.3333333333333333,
              "#9c179e"
             ],
             [
              0.4444444444444444,
              "#bd3786"
             ],
             [
              0.5555555555555556,
              "#d8576b"
             ],
             [
              0.6666666666666666,
              "#ed7953"
             ],
             [
              0.7777777777777778,
              "#fb9f3a"
             ],
             [
              0.8888888888888888,
              "#fdca26"
             ],
             [
              1,
              "#f0f921"
             ]
            ],
            "type": "contour"
           }
          ],
          "contourcarpet": [
           {
            "colorbar": {
             "outlinewidth": 0,
             "ticks": ""
            },
            "type": "contourcarpet"
           }
          ],
          "heatmap": [
           {
            "colorbar": {
             "outlinewidth": 0,
             "ticks": ""
            },
            "colorscale": [
             [
              0,
              "#0d0887"
             ],
             [
              0.1111111111111111,
              "#46039f"
             ],
             [
              0.2222222222222222,
              "#7201a8"
             ],
             [
              0.3333333333333333,
              "#9c179e"
             ],
             [
              0.4444444444444444,
              "#bd3786"
             ],
             [
              0.5555555555555556,
              "#d8576b"
             ],
             [
              0.6666666666666666,
              "#ed7953"
             ],
             [
              0.7777777777777778,
              "#fb9f3a"
             ],
             [
              0.8888888888888888,
              "#fdca26"
             ],
             [
              1,
              "#f0f921"
             ]
            ],
            "type": "heatmap"
           }
          ],
          "heatmapgl": [
           {
            "colorbar": {
             "outlinewidth": 0,
             "ticks": ""
            },
            "colorscale": [
             [
              0,
              "#0d0887"
             ],
             [
              0.1111111111111111,
              "#46039f"
             ],
             [
              0.2222222222222222,
              "#7201a8"
             ],
             [
              0.3333333333333333,
              "#9c179e"
             ],
             [
              0.4444444444444444,
              "#bd3786"
             ],
             [
              0.5555555555555556,
              "#d8576b"
             ],
             [
              0.6666666666666666,
              "#ed7953"
             ],
             [
              0.7777777777777778,
              "#fb9f3a"
             ],
             [
              0.8888888888888888,
              "#fdca26"
             ],
             [
              1,
              "#f0f921"
             ]
            ],
            "type": "heatmapgl"
           }
          ],
          "histogram": [
           {
            "marker": {
             "pattern": {
              "fillmode": "overlay",
              "size": 10,
              "solidity": 0.2
             }
            },
            "type": "histogram"
           }
          ],
          "histogram2d": [
           {
            "colorbar": {
             "outlinewidth": 0,
             "ticks": ""
            },
            "colorscale": [
             [
              0,
              "#0d0887"
             ],
             [
              0.1111111111111111,
              "#46039f"
             ],
             [
              0.2222222222222222,
              "#7201a8"
             ],
             [
              0.3333333333333333,
              "#9c179e"
             ],
             [
              0.4444444444444444,
              "#bd3786"
             ],
             [
              0.5555555555555556,
              "#d8576b"
             ],
             [
              0.6666666666666666,
              "#ed7953"
             ],
             [
              0.7777777777777778,
              "#fb9f3a"
             ],
             [
              0.8888888888888888,
              "#fdca26"
             ],
             [
              1,
              "#f0f921"
             ]
            ],
            "type": "histogram2d"
           }
          ],
          "histogram2dcontour": [
           {
            "colorbar": {
             "outlinewidth": 0,
             "ticks": ""
            },
            "colorscale": [
             [
              0,
              "#0d0887"
             ],
             [
              0.1111111111111111,
              "#46039f"
             ],
             [
              0.2222222222222222,
              "#7201a8"
             ],
             [
              0.3333333333333333,
              "#9c179e"
             ],
             [
              0.4444444444444444,
              "#bd3786"
             ],
             [
              0.5555555555555556,
              "#d8576b"
             ],
             [
              0.6666666666666666,
              "#ed7953"
             ],
             [
              0.7777777777777778,
              "#fb9f3a"
             ],
             [
              0.8888888888888888,
              "#fdca26"
             ],
             [
              1,
              "#f0f921"
             ]
            ],
            "type": "histogram2dcontour"
           }
          ],
          "mesh3d": [
           {
            "colorbar": {
             "outlinewidth": 0,
             "ticks": ""
            },
            "type": "mesh3d"
           }
          ],
          "parcoords": [
           {
            "line": {
             "colorbar": {
              "outlinewidth": 0,
              "ticks": ""
             }
            },
            "type": "parcoords"
           }
          ],
          "pie": [
           {
            "automargin": true,
            "type": "pie"
           }
          ],
          "scatter": [
           {
            "fillpattern": {
             "fillmode": "overlay",
             "size": 10,
             "solidity": 0.2
            },
            "type": "scatter"
           }
          ],
          "scatter3d": [
           {
            "line": {
             "colorbar": {
              "outlinewidth": 0,
              "ticks": ""
             }
            },
            "marker": {
             "colorbar": {
              "outlinewidth": 0,
              "ticks": ""
             }
            },
            "type": "scatter3d"
           }
          ],
          "scattercarpet": [
           {
            "marker": {
             "colorbar": {
              "outlinewidth": 0,
              "ticks": ""
             }
            },
            "type": "scattercarpet"
           }
          ],
          "scattergeo": [
           {
            "marker": {
             "colorbar": {
              "outlinewidth": 0,
              "ticks": ""
             }
            },
            "type": "scattergeo"
           }
          ],
          "scattergl": [
           {
            "marker": {
             "colorbar": {
              "outlinewidth": 0,
              "ticks": ""
             }
            },
            "type": "scattergl"
           }
          ],
          "scattermapbox": [
           {
            "marker": {
             "colorbar": {
              "outlinewidth": 0,
              "ticks": ""
             }
            },
            "type": "scattermapbox"
           }
          ],
          "scatterpolar": [
           {
            "marker": {
             "colorbar": {
              "outlinewidth": 0,
              "ticks": ""
             }
            },
            "type": "scatterpolar"
           }
          ],
          "scatterpolargl": [
           {
            "marker": {
             "colorbar": {
              "outlinewidth": 0,
              "ticks": ""
             }
            },
            "type": "scatterpolargl"
           }
          ],
          "scatterternary": [
           {
            "marker": {
             "colorbar": {
              "outlinewidth": 0,
              "ticks": ""
             }
            },
            "type": "scatterternary"
           }
          ],
          "surface": [
           {
            "colorbar": {
             "outlinewidth": 0,
             "ticks": ""
            },
            "colorscale": [
             [
              0,
              "#0d0887"
             ],
             [
              0.1111111111111111,
              "#46039f"
             ],
             [
              0.2222222222222222,
              "#7201a8"
             ],
             [
              0.3333333333333333,
              "#9c179e"
             ],
             [
              0.4444444444444444,
              "#bd3786"
             ],
             [
              0.5555555555555556,
              "#d8576b"
             ],
             [
              0.6666666666666666,
              "#ed7953"
             ],
             [
              0.7777777777777778,
              "#fb9f3a"
             ],
             [
              0.8888888888888888,
              "#fdca26"
             ],
             [
              1,
              "#f0f921"
             ]
            ],
            "type": "surface"
           }
          ],
          "table": [
           {
            "cells": {
             "fill": {
              "color": "#EBF0F8"
             },
             "line": {
              "color": "white"
             }
            },
            "header": {
             "fill": {
              "color": "#C8D4E3"
             },
             "line": {
              "color": "white"
             }
            },
            "type": "table"
           }
          ]
         },
         "layout": {
          "annotationdefaults": {
           "arrowcolor": "#2a3f5f",
           "arrowhead": 0,
           "arrowwidth": 1
          },
          "autotypenumbers": "strict",
          "coloraxis": {
           "colorbar": {
            "outlinewidth": 0,
            "ticks": ""
           }
          },
          "colorscale": {
           "diverging": [
            [
             0,
             "#8e0152"
            ],
            [
             0.1,
             "#c51b7d"
            ],
            [
             0.2,
             "#de77ae"
            ],
            [
             0.3,
             "#f1b6da"
            ],
            [
             0.4,
             "#fde0ef"
            ],
            [
             0.5,
             "#f7f7f7"
            ],
            [
             0.6,
             "#e6f5d0"
            ],
            [
             0.7,
             "#b8e186"
            ],
            [
             0.8,
             "#7fbc41"
            ],
            [
             0.9,
             "#4d9221"
            ],
            [
             1,
             "#276419"
            ]
           ],
           "sequential": [
            [
             0,
             "#0d0887"
            ],
            [
             0.1111111111111111,
             "#46039f"
            ],
            [
             0.2222222222222222,
             "#7201a8"
            ],
            [
             0.3333333333333333,
             "#9c179e"
            ],
            [
             0.4444444444444444,
             "#bd3786"
            ],
            [
             0.5555555555555556,
             "#d8576b"
            ],
            [
             0.6666666666666666,
             "#ed7953"
            ],
            [
             0.7777777777777778,
             "#fb9f3a"
            ],
            [
             0.8888888888888888,
             "#fdca26"
            ],
            [
             1,
             "#f0f921"
            ]
           ],
           "sequentialminus": [
            [
             0,
             "#0d0887"
            ],
            [
             0.1111111111111111,
             "#46039f"
            ],
            [
             0.2222222222222222,
             "#7201a8"
            ],
            [
             0.3333333333333333,
             "#9c179e"
            ],
            [
             0.4444444444444444,
             "#bd3786"
            ],
            [
             0.5555555555555556,
             "#d8576b"
            ],
            [
             0.6666666666666666,
             "#ed7953"
            ],
            [
             0.7777777777777778,
             "#fb9f3a"
            ],
            [
             0.8888888888888888,
             "#fdca26"
            ],
            [
             1,
             "#f0f921"
            ]
           ]
          },
          "colorway": [
           "#636efa",
           "#EF553B",
           "#00cc96",
           "#ab63fa",
           "#FFA15A",
           "#19d3f3",
           "#FF6692",
           "#B6E880",
           "#FF97FF",
           "#FECB52"
          ],
          "font": {
           "color": "#2a3f5f"
          },
          "geo": {
           "bgcolor": "white",
           "lakecolor": "white",
           "landcolor": "#E5ECF6",
           "showlakes": true,
           "showland": true,
           "subunitcolor": "white"
          },
          "hoverlabel": {
           "align": "left"
          },
          "hovermode": "closest",
          "mapbox": {
           "style": "light"
          },
          "paper_bgcolor": "white",
          "plot_bgcolor": "#E5ECF6",
          "polar": {
           "angularaxis": {
            "gridcolor": "white",
            "linecolor": "white",
            "ticks": ""
           },
           "bgcolor": "#E5ECF6",
           "radialaxis": {
            "gridcolor": "white",
            "linecolor": "white",
            "ticks": ""
           }
          },
          "scene": {
           "xaxis": {
            "backgroundcolor": "#E5ECF6",
            "gridcolor": "white",
            "gridwidth": 2,
            "linecolor": "white",
            "showbackground": true,
            "ticks": "",
            "zerolinecolor": "white"
           },
           "yaxis": {
            "backgroundcolor": "#E5ECF6",
            "gridcolor": "white",
            "gridwidth": 2,
            "linecolor": "white",
            "showbackground": true,
            "ticks": "",
            "zerolinecolor": "white"
           },
           "zaxis": {
            "backgroundcolor": "#E5ECF6",
            "gridcolor": "white",
            "gridwidth": 2,
            "linecolor": "white",
            "showbackground": true,
            "ticks": "",
            "zerolinecolor": "white"
           }
          },
          "shapedefaults": {
           "line": {
            "color": "#2a3f5f"
           }
          },
          "ternary": {
           "aaxis": {
            "gridcolor": "white",
            "linecolor": "white",
            "ticks": ""
           },
           "baxis": {
            "gridcolor": "white",
            "linecolor": "white",
            "ticks": ""
           },
           "bgcolor": "#E5ECF6",
           "caxis": {
            "gridcolor": "white",
            "linecolor": "white",
            "ticks": ""
           }
          },
          "title": {
           "x": 0.05
          },
          "xaxis": {
           "automargin": true,
           "gridcolor": "white",
           "linecolor": "white",
           "ticks": "",
           "title": {
            "standoff": 15
           },
           "zerolinecolor": "white",
           "zerolinewidth": 2
          },
          "yaxis": {
           "automargin": true,
           "gridcolor": "white",
           "linecolor": "white",
           "ticks": "",
           "title": {
            "standoff": 15
           },
           "zerolinecolor": "white",
           "zerolinewidth": 2
          }
         }
        },
        "xaxis": {
         "anchor": "y",
         "domain": [
          0,
          1
         ],
         "title": {
          "text": "Month"
         }
        },
        "yaxis": {
         "anchor": "x",
         "domain": [
          0,
          1
         ],
         "title": {
          "text": "Total rainfall"
         }
        }
       }
      },
      "text/html": [
       "<div>                            <div id=\"bdf84df4-35ea-4ddc-80f9-0626dbc1d963\" class=\"plotly-graph-div\" style=\"height:400px; width:100%;\"></div>            <script type=\"text/javascript\">                require([\"plotly\"], function(Plotly) {                    window.PLOTLYENV=window.PLOTLYENV || {};                                    if (document.getElementById(\"bdf84df4-35ea-4ddc-80f9-0626dbc1d963\")) {                    Plotly.newPlot(                        \"bdf84df4-35ea-4ddc-80f9-0626dbc1d963\",                        [{\"alignmentgroup\":\"True\",\"hovertemplate\":\"Month=%{x}<br>Total rainfall=%{y}<extra></extra>\",\"legendgroup\":\"\",\"marker\":{\"color\":\"#636efa\",\"pattern\":{\"shape\":\"\"}},\"name\":\"\",\"offsetgroup\":\"\",\"orientation\":\"v\",\"showlegend\":false,\"textposition\":\"auto\",\"x\":[1,2,3,4,5,6,7,8,9,10,11,12],\"xaxis\":\"x\",\"y\":[10101.9,11167.7,7393.6,4102.2,6661.2,6931.9,7871.0,6120.8,5877.8,7440.1,8151.4,10805.5],\"yaxis\":\"y\",\"type\":\"bar\"}],                        {\"template\":{\"data\":{\"histogram2dcontour\":[{\"type\":\"histogram2dcontour\",\"colorbar\":{\"outlinewidth\":0,\"ticks\":\"\"},\"colorscale\":[[0.0,\"#0d0887\"],[0.1111111111111111,\"#46039f\"],[0.2222222222222222,\"#7201a8\"],[0.3333333333333333,\"#9c179e\"],[0.4444444444444444,\"#bd3786\"],[0.5555555555555556,\"#d8576b\"],[0.6666666666666666,\"#ed7953\"],[0.7777777777777778,\"#fb9f3a\"],[0.8888888888888888,\"#fdca26\"],[1.0,\"#f0f921\"]]}],\"choropleth\":[{\"type\":\"choropleth\",\"colorbar\":{\"outlinewidth\":0,\"ticks\":\"\"}}],\"histogram2d\":[{\"type\":\"histogram2d\",\"colorbar\":{\"outlinewidth\":0,\"ticks\":\"\"},\"colorscale\":[[0.0,\"#0d0887\"],[0.1111111111111111,\"#46039f\"],[0.2222222222222222,\"#7201a8\"],[0.3333333333333333,\"#9c179e\"],[0.4444444444444444,\"#bd3786\"],[0.5555555555555556,\"#d8576b\"],[0.6666666666666666,\"#ed7953\"],[0.7777777777777778,\"#fb9f3a\"],[0.8888888888888888,\"#fdca26\"],[1.0,\"#f0f921\"]]}],\"heatmap\":[{\"type\":\"heatmap\",\"colorbar\":{\"outlinewidth\":0,\"ticks\":\"\"},\"colorscale\":[[0.0,\"#0d0887\"],[0.1111111111111111,\"#46039f\"],[0.2222222222222222,\"#7201a8\"],[0.3333333333333333,\"#9c179e\"],[0.4444444444444444,\"#bd3786\"],[0.5555555555555556,\"#d8576b\"],[0.6666666666666666,\"#ed7953\"],[0.7777777777777778,\"#fb9f3a\"],[0.8888888888888888,\"#fdca26\"],[1.0,\"#f0f921\"]]}],\"heatmapgl\":[{\"type\":\"heatmapgl\",\"colorbar\":{\"outlinewidth\":0,\"ticks\":\"\"},\"colorscale\":[[0.0,\"#0d0887\"],[0.1111111111111111,\"#46039f\"],[0.2222222222222222,\"#7201a8\"],[0.3333333333333333,\"#9c179e\"],[0.4444444444444444,\"#bd3786\"],[0.5555555555555556,\"#d8576b\"],[0.6666666666666666,\"#ed7953\"],[0.7777777777777778,\"#fb9f3a\"],[0.8888888888888888,\"#fdca26\"],[1.0,\"#f0f921\"]]}],\"contourcarpet\":[{\"type\":\"contourcarpet\",\"colorbar\":{\"outlinewidth\":0,\"ticks\":\"\"}}],\"contour\":[{\"type\":\"contour\",\"colorbar\":{\"outlinewidth\":0,\"ticks\":\"\"},\"colorscale\":[[0.0,\"#0d0887\"],[0.1111111111111111,\"#46039f\"],[0.2222222222222222,\"#7201a8\"],[0.3333333333333333,\"#9c179e\"],[0.4444444444444444,\"#bd3786\"],[0.5555555555555556,\"#d8576b\"],[0.6666666666666666,\"#ed7953\"],[0.7777777777777778,\"#fb9f3a\"],[0.8888888888888888,\"#fdca26\"],[1.0,\"#f0f921\"]]}],\"surface\":[{\"type\":\"surface\",\"colorbar\":{\"outlinewidth\":0,\"ticks\":\"\"},\"colorscale\":[[0.0,\"#0d0887\"],[0.1111111111111111,\"#46039f\"],[0.2222222222222222,\"#7201a8\"],[0.3333333333333333,\"#9c179e\"],[0.4444444444444444,\"#bd3786\"],[0.5555555555555556,\"#d8576b\"],[0.6666666666666666,\"#ed7953\"],[0.7777777777777778,\"#fb9f3a\"],[0.8888888888888888,\"#fdca26\"],[1.0,\"#f0f921\"]]}],\"mesh3d\":[{\"type\":\"mesh3d\",\"colorbar\":{\"outlinewidth\":0,\"ticks\":\"\"}}],\"scatter\":[{\"fillpattern\":{\"fillmode\":\"overlay\",\"size\":10,\"solidity\":0.2},\"type\":\"scatter\"}],\"parcoords\":[{\"type\":\"parcoords\",\"line\":{\"colorbar\":{\"outlinewidth\":0,\"ticks\":\"\"}}}],\"scatterpolargl\":[{\"type\":\"scatterpolargl\",\"marker\":{\"colorbar\":{\"outlinewidth\":0,\"ticks\":\"\"}}}],\"bar\":[{\"error_x\":{\"color\":\"#2a3f5f\"},\"error_y\":{\"color\":\"#2a3f5f\"},\"marker\":{\"line\":{\"color\":\"#E5ECF6\",\"width\":0.5},\"pattern\":{\"fillmode\":\"overlay\",\"size\":10,\"solidity\":0.2}},\"type\":\"bar\"}],\"scattergeo\":[{\"type\":\"scattergeo\",\"marker\":{\"colorbar\":{\"outlinewidth\":0,\"ticks\":\"\"}}}],\"scatterpolar\":[{\"type\":\"scatterpolar\",\"marker\":{\"colorbar\":{\"outlinewidth\":0,\"ticks\":\"\"}}}],\"histogram\":[{\"marker\":{\"pattern\":{\"fillmode\":\"overlay\",\"size\":10,\"solidity\":0.2}},\"type\":\"histogram\"}],\"scattergl\":[{\"type\":\"scattergl\",\"marker\":{\"colorbar\":{\"outlinewidth\":0,\"ticks\":\"\"}}}],\"scatter3d\":[{\"type\":\"scatter3d\",\"line\":{\"colorbar\":{\"outlinewidth\":0,\"ticks\":\"\"}},\"marker\":{\"colorbar\":{\"outlinewidth\":0,\"ticks\":\"\"}}}],\"scattermapbox\":[{\"type\":\"scattermapbox\",\"marker\":{\"colorbar\":{\"outlinewidth\":0,\"ticks\":\"\"}}}],\"scatterternary\":[{\"type\":\"scatterternary\",\"marker\":{\"colorbar\":{\"outlinewidth\":0,\"ticks\":\"\"}}}],\"scattercarpet\":[{\"type\":\"scattercarpet\",\"marker\":{\"colorbar\":{\"outlinewidth\":0,\"ticks\":\"\"}}}],\"carpet\":[{\"aaxis\":{\"endlinecolor\":\"#2a3f5f\",\"gridcolor\":\"white\",\"linecolor\":\"white\",\"minorgridcolor\":\"white\",\"startlinecolor\":\"#2a3f5f\"},\"baxis\":{\"endlinecolor\":\"#2a3f5f\",\"gridcolor\":\"white\",\"linecolor\":\"white\",\"minorgridcolor\":\"white\",\"startlinecolor\":\"#2a3f5f\"},\"type\":\"carpet\"}],\"table\":[{\"cells\":{\"fill\":{\"color\":\"#EBF0F8\"},\"line\":{\"color\":\"white\"}},\"header\":{\"fill\":{\"color\":\"#C8D4E3\"},\"line\":{\"color\":\"white\"}},\"type\":\"table\"}],\"barpolar\":[{\"marker\":{\"line\":{\"color\":\"#E5ECF6\",\"width\":0.5},\"pattern\":{\"fillmode\":\"overlay\",\"size\":10,\"solidity\":0.2}},\"type\":\"barpolar\"}],\"pie\":[{\"automargin\":true,\"type\":\"pie\"}]},\"layout\":{\"autotypenumbers\":\"strict\",\"colorway\":[\"#636efa\",\"#EF553B\",\"#00cc96\",\"#ab63fa\",\"#FFA15A\",\"#19d3f3\",\"#FF6692\",\"#B6E880\",\"#FF97FF\",\"#FECB52\"],\"font\":{\"color\":\"#2a3f5f\"},\"hovermode\":\"closest\",\"hoverlabel\":{\"align\":\"left\"},\"paper_bgcolor\":\"white\",\"plot_bgcolor\":\"#E5ECF6\",\"polar\":{\"bgcolor\":\"#E5ECF6\",\"angularaxis\":{\"gridcolor\":\"white\",\"linecolor\":\"white\",\"ticks\":\"\"},\"radialaxis\":{\"gridcolor\":\"white\",\"linecolor\":\"white\",\"ticks\":\"\"}},\"ternary\":{\"bgcolor\":\"#E5ECF6\",\"aaxis\":{\"gridcolor\":\"white\",\"linecolor\":\"white\",\"ticks\":\"\"},\"baxis\":{\"gridcolor\":\"white\",\"linecolor\":\"white\",\"ticks\":\"\"},\"caxis\":{\"gridcolor\":\"white\",\"linecolor\":\"white\",\"ticks\":\"\"}},\"coloraxis\":{\"colorbar\":{\"outlinewidth\":0,\"ticks\":\"\"}},\"colorscale\":{\"sequential\":[[0.0,\"#0d0887\"],[0.1111111111111111,\"#46039f\"],[0.2222222222222222,\"#7201a8\"],[0.3333333333333333,\"#9c179e\"],[0.4444444444444444,\"#bd3786\"],[0.5555555555555556,\"#d8576b\"],[0.6666666666666666,\"#ed7953\"],[0.7777777777777778,\"#fb9f3a\"],[0.8888888888888888,\"#fdca26\"],[1.0,\"#f0f921\"]],\"sequentialminus\":[[0.0,\"#0d0887\"],[0.1111111111111111,\"#46039f\"],[0.2222222222222222,\"#7201a8\"],[0.3333333333333333,\"#9c179e\"],[0.4444444444444444,\"#bd3786\"],[0.5555555555555556,\"#d8576b\"],[0.6666666666666666,\"#ed7953\"],[0.7777777777777778,\"#fb9f3a\"],[0.8888888888888888,\"#fdca26\"],[1.0,\"#f0f921\"]],\"diverging\":[[0,\"#8e0152\"],[0.1,\"#c51b7d\"],[0.2,\"#de77ae\"],[0.3,\"#f1b6da\"],[0.4,\"#fde0ef\"],[0.5,\"#f7f7f7\"],[0.6,\"#e6f5d0\"],[0.7,\"#b8e186\"],[0.8,\"#7fbc41\"],[0.9,\"#4d9221\"],[1,\"#276419\"]]},\"xaxis\":{\"gridcolor\":\"white\",\"linecolor\":\"white\",\"ticks\":\"\",\"title\":{\"standoff\":15},\"zerolinecolor\":\"white\",\"automargin\":true,\"zerolinewidth\":2},\"yaxis\":{\"gridcolor\":\"white\",\"linecolor\":\"white\",\"ticks\":\"\",\"title\":{\"standoff\":15},\"zerolinecolor\":\"white\",\"automargin\":true,\"zerolinewidth\":2},\"scene\":{\"xaxis\":{\"backgroundcolor\":\"#E5ECF6\",\"gridcolor\":\"white\",\"linecolor\":\"white\",\"showbackground\":true,\"ticks\":\"\",\"zerolinecolor\":\"white\",\"gridwidth\":2},\"yaxis\":{\"backgroundcolor\":\"#E5ECF6\",\"gridcolor\":\"white\",\"linecolor\":\"white\",\"showbackground\":true,\"ticks\":\"\",\"zerolinecolor\":\"white\",\"gridwidth\":2},\"zaxis\":{\"backgroundcolor\":\"#E5ECF6\",\"gridcolor\":\"white\",\"linecolor\":\"white\",\"showbackground\":true,\"ticks\":\"\",\"zerolinecolor\":\"white\",\"gridwidth\":2}},\"shapedefaults\":{\"line\":{\"color\":\"#2a3f5f\"}},\"annotationdefaults\":{\"arrowcolor\":\"#2a3f5f\",\"arrowhead\":0,\"arrowwidth\":1},\"geo\":{\"bgcolor\":\"white\",\"landcolor\":\"#E5ECF6\",\"subunitcolor\":\"white\",\"showland\":true,\"showlakes\":true,\"lakecolor\":\"white\"},\"title\":{\"x\":0.05},\"mapbox\":{\"style\":\"light\"}}},\"xaxis\":{\"anchor\":\"y\",\"domain\":[0.0,1.0],\"title\":{\"text\":\"Month\"}},\"yaxis\":{\"anchor\":\"x\",\"domain\":[0.0,1.0],\"title\":{\"text\":\"Total rainfall\"}},\"legend\":{\"tracegroupgap\":0},\"margin\":{\"t\":60},\"barmode\":\"relative\",\"height\":400},                        {\"responsive\": true}                    ).then(function(){\n",
       "                            \n",
       "var gd = document.getElementById('bdf84df4-35ea-4ddc-80f9-0626dbc1d963');\n",
       "var x = new MutationObserver(function (mutations, observer) {{\n",
       "        var display = window.getComputedStyle(gd).display;\n",
       "        if (!display || display === 'none') {{\n",
       "            console.log([gd, 'removed!']);\n",
       "            Plotly.purge(gd);\n",
       "            observer.disconnect();\n",
       "        }}\n",
       "}});\n",
       "\n",
       "// Listen for the removal of the full notebook cells\n",
       "var notebookContainer = gd.closest('#notebook-container');\n",
       "if (notebookContainer) {{\n",
       "    x.observe(notebookContainer, {childList: true});\n",
       "}}\n",
       "\n",
       "// Listen for the clearing of the current output cell\n",
       "var outputEl = gd.closest('.output');\n",
       "if (outputEl) {{\n",
       "    x.observe(outputEl, {childList: true});\n",
       "}}\n",
       "\n",
       "                        })                };                });            </script>        </div>"
      ]
     },
     "metadata": {},
     "output_type": "display_data"
    }
   ],
   "source": [
    "fig = px.bar(rainfall_df, x=\"Month\", y=\"Rainfall\",\n",
    "             labels={\"Rainfall\": \"Total rainfall\"},\n",
    "             height=400)\n",
    "fig.show()"
   ]
  },
  {
   "cell_type": "code",
   "execution_count": 39,
   "id": "a931d1bd",
   "metadata": {},
   "outputs": [
    {
     "data": {
      "text/html": [
       "<div>\n",
       "<style scoped>\n",
       "    .dataframe tbody tr th:only-of-type {\n",
       "        vertical-align: middle;\n",
       "    }\n",
       "\n",
       "    .dataframe tbody tr th {\n",
       "        vertical-align: top;\n",
       "    }\n",
       "\n",
       "    .dataframe thead th {\n",
       "        text-align: right;\n",
       "    }\n",
       "</style>\n",
       "<table border=\"1\" class=\"dataframe\">\n",
       "  <thead>\n",
       "    <tr style=\"text-align: right;\">\n",
       "      <th></th>\n",
       "      <th>Month</th>\n",
       "      <th>Location</th>\n",
       "      <th>Rainfall</th>\n",
       "    </tr>\n",
       "  </thead>\n",
       "  <tbody>\n",
       "    <tr>\n",
       "      <th>0</th>\n",
       "      <td>1</td>\n",
       "      <td>Adelaide</td>\n",
       "      <td>41.2</td>\n",
       "    </tr>\n",
       "    <tr>\n",
       "      <th>1</th>\n",
       "      <td>1</td>\n",
       "      <td>Albany</td>\n",
       "      <td>92.1</td>\n",
       "    </tr>\n",
       "    <tr>\n",
       "      <th>2</th>\n",
       "      <td>1</td>\n",
       "      <td>Albury</td>\n",
       "      <td>84.4</td>\n",
       "    </tr>\n",
       "    <tr>\n",
       "      <th>3</th>\n",
       "      <td>1</td>\n",
       "      <td>AliceSprings</td>\n",
       "      <td>241.8</td>\n",
       "    </tr>\n",
       "    <tr>\n",
       "      <th>4</th>\n",
       "      <td>1</td>\n",
       "      <td>BadgerysCreek</td>\n",
       "      <td>169.4</td>\n",
       "    </tr>\n",
       "  </tbody>\n",
       "</table>\n",
       "</div>"
      ],
      "text/plain": [
       "   Month       Location  Rainfall\n",
       "0      1       Adelaide      41.2\n",
       "1      1         Albany      92.1\n",
       "2      1         Albury      84.4\n",
       "3      1   AliceSprings     241.8\n",
       "4      1  BadgerysCreek     169.4"
      ]
     },
     "execution_count": 39,
     "metadata": {},
     "output_type": "execute_result"
    }
   ],
   "source": [
    "rainfall_loc_df.head()"
   ]
  },
  {
   "cell_type": "code",
   "execution_count": 63,
   "id": "683a072b",
   "metadata": {},
   "outputs": [
    {
     "data": {
      "application/vnd.plotly.v1+json": {
       "config": {
        "plotlyServerURL": "https://plot.ly"
       },
       "data": [
        {
         "alignmentgroup": "True",
         "hovertemplate": "Location=Adelaide<br>Month=%{x}<br>Total rainfall=%{y}<extra></extra>",
         "legendgroup": "Adelaide",
         "marker": {
          "color": "#636efa",
          "pattern": {
           "shape": ""
          }
         },
         "name": "Adelaide",
         "offsetgroup": "Adelaide",
         "orientation": "v",
         "showlegend": true,
         "textposition": "auto",
         "type": "bar",
         "x": [
          1,
          2,
          3,
          4,
          5,
          6,
          7,
          8,
          9,
          10,
          11,
          12
         ],
         "xaxis": "x",
         "y": [
          41.199999999999996,
          33.2,
          71.2,
          71.8,
          115,
          128.4,
          231.8,
          199.6,
          158.4,
          70.8,
          93.6,
          145
         ],
         "yaxis": "y"
        },
        {
         "alignmentgroup": "True",
         "hovertemplate": "Location=Albany<br>Month=%{x}<br>Total rainfall=%{y}<extra></extra>",
         "legendgroup": "Albany",
         "marker": {
          "color": "#EF553B",
          "pattern": {
           "shape": ""
          }
         },
         "name": "Albany",
         "offsetgroup": "Albany",
         "orientation": "v",
         "showlegend": true,
         "textposition": "auto",
         "type": "bar",
         "x": [
          1,
          2,
          3,
          4,
          5,
          6,
          7,
          8,
          9,
          10,
          11,
          12
         ],
         "xaxis": "x",
         "y": [
          92.1,
          36.300000000000004,
          77.60000000000001,
          93.60000000000001,
          164.1,
          349.8,
          330.7,
          246.4,
          223,
          117.6,
          104.4,
          82
         ],
         "yaxis": "y"
        },
        {
         "alignmentgroup": "True",
         "hovertemplate": "Location=Albury<br>Month=%{x}<br>Total rainfall=%{y}<extra></extra>",
         "legendgroup": "Albury",
         "marker": {
          "color": "#00cc96",
          "pattern": {
           "shape": ""
          }
         },
         "name": "Albury",
         "offsetgroup": "Albury",
         "orientation": "v",
         "showlegend": true,
         "textposition": "auto",
         "type": "bar",
         "x": [
          1,
          2,
          3,
          4,
          5,
          6,
          7,
          8,
          9,
          10,
          11,
          12
         ],
         "xaxis": "x",
         "y": [
          84.4,
          316.8,
          146.6,
          97.2,
          67.4,
          89.4,
          86.2,
          138.2,
          129.6,
          202.6,
          234,
          99.2
         ],
         "yaxis": "y"
        },
        {
         "alignmentgroup": "True",
         "hovertemplate": "Location=AliceSprings<br>Month=%{x}<br>Total rainfall=%{y}<extra></extra>",
         "legendgroup": "AliceSprings",
         "marker": {
          "color": "#ab63fa",
          "pattern": {
           "shape": ""
          }
         },
         "name": "AliceSprings",
         "offsetgroup": "AliceSprings",
         "orientation": "v",
         "showlegend": true,
         "textposition": "auto",
         "type": "bar",
         "x": [
          1,
          2,
          3,
          4,
          5,
          6,
          7,
          8,
          9,
          10,
          11,
          12
         ],
         "xaxis": "x",
         "y": [
          241.79999999999998,
          197.6,
          118.60000000000001,
          23.8,
          34.199999999999996,
          4,
          62.199999999999996,
          18.2,
          54.2,
          77.2,
          61.800000000000004,
          131.6
         ],
         "yaxis": "y"
        },
        {
         "alignmentgroup": "True",
         "hovertemplate": "Location=BadgerysCreek<br>Month=%{x}<br>Total rainfall=%{y}<extra></extra>",
         "legendgroup": "BadgerysCreek",
         "marker": {
          "color": "#FFA15A",
          "pattern": {
           "shape": ""
          }
         },
         "name": "BadgerysCreek",
         "offsetgroup": "BadgerysCreek",
         "orientation": "v",
         "showlegend": true,
         "textposition": "auto",
         "type": "bar",
         "x": [
          1,
          2,
          3,
          4,
          5,
          6,
          7,
          8,
          9,
          10,
          11,
          12
         ],
         "xaxis": "x",
         "y": [
          169.4,
          245.4,
          186,
          68.4,
          211.79999999999998,
          123.8,
          122.2,
          56,
          68.2,
          111.4,
          221.4,
          204.79999999999998
         ],
         "yaxis": "y"
        },
        {
         "alignmentgroup": "True",
         "hovertemplate": "Location=Ballarat<br>Month=%{x}<br>Total rainfall=%{y}<extra></extra>",
         "legendgroup": "Ballarat",
         "marker": {
          "color": "#19d3f3",
          "pattern": {
           "shape": ""
          }
         },
         "name": "Ballarat",
         "offsetgroup": "Ballarat",
         "orientation": "v",
         "showlegend": true,
         "textposition": "auto",
         "type": "bar",
         "x": [
          1,
          2,
          3,
          4,
          5,
          6,
          7,
          8,
          9,
          10,
          11,
          12
         ],
         "xaxis": "x",
         "y": [
          201.6,
          118.20000000000002,
          111.19999999999999,
          75.6,
          90,
          102.6,
          145,
          234.2,
          160.4,
          157.8,
          236.2,
          130.6
         ],
         "yaxis": "y"
        },
        {
         "alignmentgroup": "True",
         "hovertemplate": "Location=Bendigo<br>Month=%{x}<br>Total rainfall=%{y}<extra></extra>",
         "legendgroup": "Bendigo",
         "marker": {
          "color": "#FF6692",
          "pattern": {
           "shape": ""
          }
         },
         "name": "Bendigo",
         "offsetgroup": "Bendigo",
         "orientation": "v",
         "showlegend": true,
         "textposition": "auto",
         "type": "bar",
         "x": [
          1,
          2,
          3,
          4,
          5,
          6,
          7,
          8,
          9,
          10,
          11,
          12
         ],
         "xaxis": "x",
         "y": [
          84.6,
          160.6,
          165.2,
          38.199999999999996,
          64.2,
          111.4,
          118,
          153,
          162,
          130.79999999999998,
          210.20000000000002,
          179.2
         ],
         "yaxis": "y"
        },
        {
         "alignmentgroup": "True",
         "hovertemplate": "Location=Brisbane<br>Month=%{x}<br>Total rainfall=%{y}<extra></extra>",
         "legendgroup": "Brisbane",
         "marker": {
          "color": "#B6E880",
          "pattern": {
           "shape": ""
          }
         },
         "name": "Brisbane",
         "offsetgroup": "Brisbane",
         "orientation": "v",
         "showlegend": true,
         "textposition": "auto",
         "type": "bar",
         "x": [
          1,
          2,
          3,
          4,
          5,
          6,
          7,
          8,
          9,
          10,
          11,
          12
         ],
         "xaxis": "x",
         "y": [
          462.4,
          186.2,
          287.8,
          200.6,
          336.8,
          102.4,
          76.8,
          171,
          162.8,
          346.2,
          154.4,
          729.6
         ],
         "yaxis": "y"
        },
        {
         "alignmentgroup": "True",
         "hovertemplate": "Location=Cairns<br>Month=%{x}<br>Total rainfall=%{y}<extra></extra>",
         "legendgroup": "Cairns",
         "marker": {
          "color": "#FF97FF",
          "pattern": {
           "shape": ""
          }
         },
         "name": "Cairns",
         "offsetgroup": "Cairns",
         "orientation": "v",
         "showlegend": true,
         "textposition": "auto",
         "type": "bar",
         "x": [
          1,
          2,
          3,
          4,
          5,
          6,
          7,
          8,
          9,
          10,
          11,
          12
         ],
         "xaxis": "x",
         "y": [
          1428.8,
          1213.6,
          642,
          295.8,
          103.2,
          15.799999999999999,
          41.8,
          54.8,
          97,
          504.6,
          289,
          681.6
         ],
         "yaxis": "y"
        },
        {
         "alignmentgroup": "True",
         "hovertemplate": "Location=Canberra<br>Month=%{x}<br>Total rainfall=%{y}<extra></extra>",
         "legendgroup": "Canberra",
         "marker": {
          "color": "#FECB52",
          "pattern": {
           "shape": ""
          }
         },
         "name": "Canberra",
         "offsetgroup": "Canberra",
         "orientation": "v",
         "showlegend": true,
         "textposition": "auto",
         "type": "bar",
         "x": [
          1,
          2,
          3,
          4,
          5,
          6,
          7,
          8,
          9,
          10,
          11,
          12
         ],
         "xaxis": "x",
         "y": [
          139,
          269,
          144.4,
          98.4,
          71,
          52.4,
          139.2,
          102,
          137.4,
          149.8,
          299.2,
          516.2
         ],
         "yaxis": "y"
        },
        {
         "alignmentgroup": "True",
         "hovertemplate": "Location=Cobar<br>Month=%{x}<br>Total rainfall=%{y}<extra></extra>",
         "legendgroup": "Cobar",
         "marker": {
          "color": "#636efa",
          "pattern": {
           "shape": ""
          }
         },
         "name": "Cobar",
         "offsetgroup": "Cobar",
         "orientation": "v",
         "showlegend": true,
         "textposition": "auto",
         "type": "bar",
         "x": [
          1,
          2,
          3,
          4,
          5,
          6,
          7,
          8,
          9,
          10,
          11,
          12
         ],
         "xaxis": "x",
         "y": [
          107.8,
          178.4,
          50.400000000000006,
          38.6,
          80.6,
          69.2,
          67.4,
          23,
          47,
          118.80000000000001,
          64.60000000000001,
          96.60000000000001
         ],
         "yaxis": "y"
        },
        {
         "alignmentgroup": "True",
         "hovertemplate": "Location=CoffsHarbour<br>Month=%{x}<br>Total rainfall=%{y}<extra></extra>",
         "legendgroup": "CoffsHarbour",
         "marker": {
          "color": "#EF553B",
          "pattern": {
           "shape": ""
          }
         },
         "name": "CoffsHarbour",
         "offsetgroup": "CoffsHarbour",
         "orientation": "v",
         "showlegend": true,
         "textposition": "auto",
         "type": "bar",
         "x": [
          1,
          2,
          3,
          4,
          5,
          6,
          7,
          8,
          9,
          10,
          11,
          12
         ],
         "xaxis": "x",
         "y": [
          551.8,
          400.40000000000003,
          398,
          282.6,
          209,
          641.1,
          184.6,
          123.8,
          62.2,
          729.6,
          736.2,
          467.6
         ],
         "yaxis": "y"
        },
        {
         "alignmentgroup": "True",
         "hovertemplate": "Location=Dartmoor<br>Month=%{x}<br>Total rainfall=%{y}<extra></extra>",
         "legendgroup": "Dartmoor",
         "marker": {
          "color": "#00cc96",
          "pattern": {
           "shape": ""
          }
         },
         "name": "Dartmoor",
         "offsetgroup": "Dartmoor",
         "orientation": "v",
         "showlegend": true,
         "textposition": "auto",
         "type": "bar",
         "x": [
          1,
          2,
          3,
          4,
          5,
          6,
          7,
          8,
          9,
          10,
          11,
          12
         ],
         "xaxis": "x",
         "y": [
          166.2,
          106.6,
          119.6,
          72.8,
          158,
          163.6,
          239.2,
          241.4,
          163.4,
          118.4,
          84,
          139.4
         ],
         "yaxis": "y"
        },
        {
         "alignmentgroup": "True",
         "hovertemplate": "Location=Darwin<br>Month=%{x}<br>Total rainfall=%{y}<extra></extra>",
         "legendgroup": "Darwin",
         "marker": {
          "color": "#ab63fa",
          "pattern": {
           "shape": ""
          }
         },
         "name": "Darwin",
         "offsetgroup": "Darwin",
         "orientation": "v",
         "showlegend": true,
         "textposition": "auto",
         "type": "bar",
         "x": [
          1,
          2,
          3,
          4,
          5,
          6,
          7,
          8,
          9,
          10,
          11,
          12
         ],
         "xaxis": "x",
         "y": [
          1302,
          1600.4,
          385.2,
          146.60000000000002,
          67,
          0,
          0.2,
          0,
          63,
          267.2,
          357.8,
          1138
         ],
         "yaxis": "y"
        },
        {
         "alignmentgroup": "True",
         "hovertemplate": "Location=GoldCoast<br>Month=%{x}<br>Total rainfall=%{y}<extra></extra>",
         "legendgroup": "GoldCoast",
         "marker": {
          "color": "#FFA15A",
          "pattern": {
           "shape": ""
          }
         },
         "name": "GoldCoast",
         "offsetgroup": "GoldCoast",
         "orientation": "v",
         "showlegend": true,
         "textposition": "auto",
         "type": "bar",
         "x": [
          1,
          2,
          3,
          4,
          5,
          6,
          7,
          8,
          9,
          10,
          11,
          12
         ],
         "xaxis": "x",
         "y": [
          660,
          462.8,
          284.4,
          252.4,
          326,
          134.6,
          85.6,
          82.6,
          99.6,
          427.8,
          84.6,
          522.6
         ],
         "yaxis": "y"
        },
        {
         "alignmentgroup": "True",
         "hovertemplate": "Location=Hobart<br>Month=%{x}<br>Total rainfall=%{y}<extra></extra>",
         "legendgroup": "Hobart",
         "marker": {
          "color": "#19d3f3",
          "pattern": {
           "shape": ""
          }
         },
         "name": "Hobart",
         "offsetgroup": "Hobart",
         "orientation": "v",
         "showlegend": true,
         "textposition": "auto",
         "type": "bar",
         "x": [
          1,
          2,
          3,
          4,
          5,
          6,
          7,
          8,
          9,
          10,
          11,
          12
         ],
         "xaxis": "x",
         "y": [
          51.8,
          85,
          101.6,
          61.4,
          79.8,
          100,
          103.2,
          243.6,
          220.4,
          147.6,
          189,
          140.6
         ],
         "yaxis": "y"
        },
        {
         "alignmentgroup": "True",
         "hovertemplate": "Location=Launceston<br>Month=%{x}<br>Total rainfall=%{y}<extra></extra>",
         "legendgroup": "Launceston",
         "marker": {
          "color": "#FF6692",
          "pattern": {
           "shape": ""
          }
         },
         "name": "Launceston",
         "offsetgroup": "Launceston",
         "orientation": "v",
         "showlegend": true,
         "textposition": "auto",
         "type": "bar",
         "x": [
          1,
          2,
          3,
          4,
          5,
          6,
          7,
          8,
          9,
          10,
          11,
          12
         ],
         "xaxis": "x",
         "y": [
          62.099999999999994,
          65.5,
          153.4,
          83,
          76.4,
          256.9,
          111.7,
          300.40000000000003,
          147.1,
          80.5,
          125.5,
          156.7
         ],
         "yaxis": "y"
        },
        {
         "alignmentgroup": "True",
         "hovertemplate": "Location=Melbourne<br>Month=%{x}<br>Total rainfall=%{y}<extra></extra>",
         "legendgroup": "Melbourne",
         "marker": {
          "color": "#B6E880",
          "pattern": {
           "shape": ""
          }
         },
         "name": "Melbourne",
         "offsetgroup": "Melbourne",
         "orientation": "v",
         "showlegend": true,
         "textposition": "auto",
         "type": "bar",
         "x": [
          1,
          2,
          3,
          4,
          5,
          6,
          7,
          8,
          9,
          10,
          11,
          12
         ],
         "xaxis": "x",
         "y": [
          112,
          157.4,
          116,
          36.4,
          53.6,
          104.4,
          118.8,
          114,
          140.6,
          170.6,
          259.4,
          202
         ],
         "yaxis": "y"
        },
        {
         "alignmentgroup": "True",
         "hovertemplate": "Location=MelbourneAirport<br>Month=%{x}<br>Total rainfall=%{y}<extra></extra>",
         "legendgroup": "MelbourneAirport",
         "marker": {
          "color": "#FF97FF",
          "pattern": {
           "shape": ""
          }
         },
         "name": "MelbourneAirport",
         "offsetgroup": "MelbourneAirport",
         "orientation": "v",
         "showlegend": true,
         "textposition": "auto",
         "type": "bar",
         "x": [
          1,
          2,
          3,
          4,
          5,
          6,
          7,
          8,
          9,
          10,
          11,
          12
         ],
         "xaxis": "x",
         "y": [
          116.6,
          115.8,
          84.2,
          44.2,
          47.2,
          52.6,
          66.2,
          92.2,
          104.2,
          173.2,
          189,
          128.79999999999998
         ],
         "yaxis": "y"
        },
        {
         "alignmentgroup": "True",
         "hovertemplate": "Location=Mildura<br>Month=%{x}<br>Total rainfall=%{y}<extra></extra>",
         "legendgroup": "Mildura",
         "marker": {
          "color": "#FECB52",
          "pattern": {
           "shape": ""
          }
         },
         "name": "Mildura",
         "offsetgroup": "Mildura",
         "orientation": "v",
         "showlegend": true,
         "textposition": "auto",
         "type": "bar",
         "x": [
          1,
          2,
          3,
          4,
          5,
          6,
          7,
          8,
          9,
          10,
          11,
          12
         ],
         "xaxis": "x",
         "y": [
          118.6,
          161.6,
          129.8,
          28.6,
          44.2,
          45.6,
          37.2,
          25,
          37.2,
          103.60000000000001,
          106.4,
          206.6
         ],
         "yaxis": "y"
        },
        {
         "alignmentgroup": "True",
         "hovertemplate": "Location=Moree<br>Month=%{x}<br>Total rainfall=%{y}<extra></extra>",
         "legendgroup": "Moree",
         "marker": {
          "color": "#636efa",
          "pattern": {
           "shape": ""
          }
         },
         "name": "Moree",
         "offsetgroup": "Moree",
         "orientation": "v",
         "showlegend": true,
         "textposition": "auto",
         "type": "bar",
         "x": [
          1,
          2,
          3,
          4,
          5,
          6,
          7,
          8,
          9,
          10,
          11,
          12
         ],
         "xaxis": "x",
         "y": [
          232.6,
          218.8,
          82.4,
          60.4,
          88,
          19.400000000000002,
          24.6,
          77.8,
          79,
          93.6,
          332,
          143
         ],
         "yaxis": "y"
        },
        {
         "alignmentgroup": "True",
         "hovertemplate": "Location=MountGambier<br>Month=%{x}<br>Total rainfall=%{y}<extra></extra>",
         "legendgroup": "MountGambier",
         "marker": {
          "color": "#EF553B",
          "pattern": {
           "shape": ""
          }
         },
         "name": "MountGambier",
         "offsetgroup": "MountGambier",
         "orientation": "v",
         "showlegend": true,
         "textposition": "auto",
         "type": "bar",
         "x": [
          1,
          2,
          3,
          4,
          5,
          6,
          7,
          8,
          9,
          10,
          11,
          12
         ],
         "xaxis": "x",
         "y": [
          110,
          30.8,
          64,
          85.60000000000001,
          114.4,
          155.4,
          299.4,
          287.2,
          207.4,
          134,
          101.8,
          240.8
         ],
         "yaxis": "y"
        },
        {
         "alignmentgroup": "True",
         "hovertemplate": "Location=MountGinini<br>Month=%{x}<br>Total rainfall=%{y}<extra></extra>",
         "legendgroup": "MountGinini",
         "marker": {
          "color": "#00cc96",
          "pattern": {
           "shape": ""
          }
         },
         "name": "MountGinini",
         "offsetgroup": "MountGinini",
         "orientation": "v",
         "showlegend": true,
         "textposition": "auto",
         "type": "bar",
         "x": [
          1,
          2,
          3,
          4,
          5,
          6,
          7,
          8,
          9,
          10,
          11,
          12
         ],
         "xaxis": "x",
         "y": [
          235.2,
          314.4,
          191.79999999999998,
          159.2,
          150.6,
          169.6,
          251,
          212.4,
          258.6,
          318.4,
          311.6,
          336.59999999999997
         ],
         "yaxis": "y"
        },
        {
         "alignmentgroup": "True",
         "hovertemplate": "Location=Newcastle<br>Month=%{x}<br>Total rainfall=%{y}<extra></extra>",
         "legendgroup": "Newcastle",
         "marker": {
          "color": "#ab63fa",
          "pattern": {
           "shape": ""
          }
         },
         "name": "Newcastle",
         "offsetgroup": "Newcastle",
         "orientation": "v",
         "showlegend": true,
         "textposition": "auto",
         "type": "bar",
         "x": [
          1,
          2,
          3,
          4,
          5,
          6,
          7,
          8,
          9,
          10,
          11,
          12
         ],
         "xaxis": "x",
         "y": [
          161.7,
          298.8,
          130.4,
          67,
          264.90000000000003,
          302.7,
          232.39999999999998,
          85.39999999999999,
          123.2,
          159,
          217.1,
          182.2
         ],
         "yaxis": "y"
        },
        {
         "alignmentgroup": "True",
         "hovertemplate": "Location=NorahHead<br>Month=%{x}<br>Total rainfall=%{y}<extra></extra>",
         "legendgroup": "NorahHead",
         "marker": {
          "color": "#FFA15A",
          "pattern": {
           "shape": ""
          }
         },
         "name": "NorahHead",
         "offsetgroup": "NorahHead",
         "orientation": "v",
         "showlegend": true,
         "textposition": "auto",
         "type": "bar",
         "x": [
          1,
          2,
          3,
          4,
          5,
          6,
          7,
          8,
          9,
          10,
          11,
          12
         ],
         "xaxis": "x",
         "y": [
          242.6,
          159.6,
          234.6,
          101.39999999999999,
          529.4,
          206.8,
          348.6,
          30,
          78.6,
          160.6,
          237.8,
          203.6
         ],
         "yaxis": "y"
        },
        {
         "alignmentgroup": "True",
         "hovertemplate": "Location=NorfolkIsland<br>Month=%{x}<br>Total rainfall=%{y}<extra></extra>",
         "legendgroup": "NorfolkIsland",
         "marker": {
          "color": "#19d3f3",
          "pattern": {
           "shape": ""
          }
         },
         "name": "NorfolkIsland",
         "offsetgroup": "NorfolkIsland",
         "orientation": "v",
         "showlegend": true,
         "textposition": "auto",
         "type": "bar",
         "x": [
          1,
          2,
          3,
          4,
          5,
          6,
          7,
          8,
          9,
          10,
          11,
          12
         ],
         "xaxis": "x",
         "y": [
          93.2,
          218.4,
          140.2,
          86.39999999999999,
          225.60000000000002,
          251.2,
          191.4,
          249.2,
          282.7,
          52.8,
          64.6,
          333.4
         ],
         "yaxis": "y"
        },
        {
         "alignmentgroup": "True",
         "hovertemplate": "Location=Nuriootpa<br>Month=%{x}<br>Total rainfall=%{y}<extra></extra>",
         "legendgroup": "Nuriootpa",
         "marker": {
          "color": "#FF6692",
          "pattern": {
           "shape": ""
          }
         },
         "name": "Nuriootpa",
         "offsetgroup": "Nuriootpa",
         "orientation": "v",
         "showlegend": true,
         "textposition": "auto",
         "type": "bar",
         "x": [
          1,
          2,
          3,
          4,
          5,
          6,
          7,
          8,
          9,
          10,
          11,
          12
         ],
         "xaxis": "x",
         "y": [
          20.6,
          60.5,
          102.8,
          76.2,
          92.8,
          104,
          141.6,
          122.2,
          147.6,
          95.2,
          76.8,
          172.6
         ],
         "yaxis": "y"
        },
        {
         "alignmentgroup": "True",
         "hovertemplate": "Location=PearceRAAF<br>Month=%{x}<br>Total rainfall=%{y}<extra></extra>",
         "legendgroup": "PearceRAAF",
         "marker": {
          "color": "#B6E880",
          "pattern": {
           "shape": ""
          }
         },
         "name": "PearceRAAF",
         "offsetgroup": "PearceRAAF",
         "orientation": "v",
         "showlegend": true,
         "textposition": "auto",
         "type": "bar",
         "x": [
          1,
          2,
          3,
          4,
          5,
          6,
          7,
          8,
          9,
          10,
          11,
          12
         ],
         "xaxis": "x",
         "y": [
          4.2,
          1.8,
          13.200000000000001,
          14.2,
          123.80000000000001,
          235,
          363.8,
          216.2,
          139.2,
          63,
          54.8,
          72.8
         ],
         "yaxis": "y"
        },
        {
         "alignmentgroup": "True",
         "hovertemplate": "Location=Penrith<br>Month=%{x}<br>Total rainfall=%{y}<extra></extra>",
         "legendgroup": "Penrith",
         "marker": {
          "color": "#FF97FF",
          "pattern": {
           "shape": ""
          }
         },
         "name": "Penrith",
         "offsetgroup": "Penrith",
         "orientation": "v",
         "showlegend": true,
         "textposition": "auto",
         "type": "bar",
         "x": [
          1,
          2,
          3,
          4,
          5,
          6,
          7,
          8,
          9,
          10,
          11,
          12
         ],
         "xaxis": "x",
         "y": [
          120.4,
          278.2,
          112.6,
          99.39999999999999,
          112.2,
          64.4,
          34.2,
          58,
          58.400000000000006,
          69.60000000000001,
          218.6,
          120.60000000000001
         ],
         "yaxis": "y"
        },
        {
         "alignmentgroup": "True",
         "hovertemplate": "Location=Perth<br>Month=%{x}<br>Total rainfall=%{y}<extra></extra>",
         "legendgroup": "Perth",
         "marker": {
          "color": "#FECB52",
          "pattern": {
           "shape": ""
          }
         },
         "name": "Perth",
         "offsetgroup": "Perth",
         "orientation": "v",
         "showlegend": true,
         "textposition": "auto",
         "type": "bar",
         "x": [
          1,
          2,
          3,
          4,
          5,
          6,
          7,
          8,
          9,
          10,
          11,
          12
         ],
         "xaxis": "x",
         "y": [
          49,
          1,
          6,
          27.2,
          119.2,
          298.8,
          503.8,
          245.8,
          217,
          69.8,
          98.8,
          93.2
         ],
         "yaxis": "y"
        },
        {
         "alignmentgroup": "True",
         "hovertemplate": "Location=PerthAirport<br>Month=%{x}<br>Total rainfall=%{y}<extra></extra>",
         "legendgroup": "PerthAirport",
         "marker": {
          "color": "#636efa",
          "pattern": {
           "shape": ""
          }
         },
         "name": "PerthAirport",
         "offsetgroup": "PerthAirport",
         "orientation": "v",
         "showlegend": true,
         "textposition": "auto",
         "type": "bar",
         "x": [
          1,
          2,
          3,
          4,
          5,
          6,
          7,
          8,
          9,
          10,
          11,
          12
         ],
         "xaxis": "x",
         "y": [
          68.6,
          5.3999999999999995,
          49.2,
          23.8,
          184,
          228.8,
          259.2,
          201.8,
          156.8,
          51,
          48.6,
          16
         ],
         "yaxis": "y"
        },
        {
         "alignmentgroup": "True",
         "hovertemplate": "Location=Portland<br>Month=%{x}<br>Total rainfall=%{y}<extra></extra>",
         "legendgroup": "Portland",
         "marker": {
          "color": "#EF553B",
          "pattern": {
           "shape": ""
          }
         },
         "name": "Portland",
         "offsetgroup": "Portland",
         "orientation": "v",
         "showlegend": true,
         "textposition": "auto",
         "type": "bar",
         "x": [
          1,
          2,
          3,
          4,
          5,
          6,
          7,
          8,
          9,
          10,
          11,
          12
         ],
         "xaxis": "x",
         "y": [
          124,
          99.2,
          83.8,
          88.2,
          147.6,
          161.8,
          256.2,
          324.2,
          231.79999999999998,
          96.8,
          138.4,
          139.2
         ],
         "yaxis": "y"
        },
        {
         "alignmentgroup": "True",
         "hovertemplate": "Location=Richmond<br>Month=%{x}<br>Total rainfall=%{y}<extra></extra>",
         "legendgroup": "Richmond",
         "marker": {
          "color": "#00cc96",
          "pattern": {
           "shape": ""
          }
         },
         "name": "Richmond",
         "offsetgroup": "Richmond",
         "orientation": "v",
         "showlegend": true,
         "textposition": "auto",
         "type": "bar",
         "x": [
          1,
          2,
          3,
          4,
          5,
          6,
          7,
          8,
          9,
          10,
          11,
          12
         ],
         "xaxis": "x",
         "y": [
          164.4,
          356.8,
          178.4,
          44.599999999999994,
          90.8,
          114.2,
          69.8,
          43,
          55,
          101.8,
          141.4,
          136.2
         ],
         "yaxis": "y"
        },
        {
         "alignmentgroup": "True",
         "hovertemplate": "Location=Sale<br>Month=%{x}<br>Total rainfall=%{y}<extra></extra>",
         "legendgroup": "Sale",
         "marker": {
          "color": "#ab63fa",
          "pattern": {
           "shape": ""
          }
         },
         "name": "Sale",
         "offsetgroup": "Sale",
         "orientation": "v",
         "showlegend": true,
         "textposition": "auto",
         "type": "bar",
         "x": [
          1,
          2,
          3,
          4,
          5,
          6,
          7,
          8,
          9,
          10,
          11,
          12
         ],
         "xaxis": "x",
         "y": [
          110.39999999999999,
          142.4,
          62.6,
          26.2,
          75.4,
          40.800000000000004,
          81.2,
          117.2,
          57.4,
          96.8,
          138.6,
          82.8
         ],
         "yaxis": "y"
        },
        {
         "alignmentgroup": "True",
         "hovertemplate": "Location=SalmonGums<br>Month=%{x}<br>Total rainfall=%{y}<extra></extra>",
         "legendgroup": "SalmonGums",
         "marker": {
          "color": "#FFA15A",
          "pattern": {
           "shape": ""
          }
         },
         "name": "SalmonGums",
         "offsetgroup": "SalmonGums",
         "orientation": "v",
         "showlegend": true,
         "textposition": "auto",
         "type": "bar",
         "x": [
          1,
          2,
          3,
          4,
          5,
          6,
          7,
          8,
          9,
          10,
          11,
          12
         ],
         "xaxis": "x",
         "y": [
          98.6,
          37.8,
          32.6,
          1.4,
          45.4,
          57.2,
          79.2,
          55.4,
          78.4,
          98.2,
          50,
          37
         ],
         "yaxis": "y"
        },
        {
         "alignmentgroup": "True",
         "hovertemplate": "Location=Sydney<br>Month=%{x}<br>Total rainfall=%{y}<extra></extra>",
         "legendgroup": "Sydney",
         "marker": {
          "color": "#19d3f3",
          "pattern": {
           "shape": ""
          }
         },
         "name": "Sydney",
         "offsetgroup": "Sydney",
         "orientation": "v",
         "showlegend": true,
         "textposition": "auto",
         "type": "bar",
         "x": [
          1,
          2,
          3,
          4,
          5,
          6,
          7,
          8,
          9,
          10,
          11,
          12
         ],
         "xaxis": "x",
         "y": [
          238.6,
          496.40000000000003,
          279.4,
          216.6,
          183.4,
          332,
          420.8,
          79.6,
          151,
          209.6,
          268.6,
          144.4
         ],
         "yaxis": "y"
        },
        {
         "alignmentgroup": "True",
         "hovertemplate": "Location=SydneyAirport<br>Month=%{x}<br>Total rainfall=%{y}<extra></extra>",
         "legendgroup": "SydneyAirport",
         "marker": {
          "color": "#FF6692",
          "pattern": {
           "shape": ""
          }
         },
         "name": "SydneyAirport",
         "offsetgroup": "SydneyAirport",
         "orientation": "v",
         "showlegend": true,
         "textposition": "auto",
         "type": "bar",
         "x": [
          1,
          2,
          3,
          4,
          5,
          6,
          7,
          8,
          9,
          10,
          11,
          12
         ],
         "xaxis": "x",
         "y": [
          167.2,
          218.2,
          162.8,
          130.4,
          344.59999999999997,
          169,
          251.4,
          66,
          59.4,
          146.6,
          181.6,
          214
         ],
         "yaxis": "y"
        },
        {
         "alignmentgroup": "True",
         "hovertemplate": "Location=Townsville<br>Month=%{x}<br>Total rainfall=%{y}<extra></extra>",
         "legendgroup": "Townsville",
         "marker": {
          "color": "#B6E880",
          "pattern": {
           "shape": ""
          }
         },
         "name": "Townsville",
         "offsetgroup": "Townsville",
         "orientation": "v",
         "showlegend": true,
         "textposition": "auto",
         "type": "bar",
         "x": [
          1,
          2,
          3,
          4,
          5,
          6,
          7,
          8,
          9,
          10,
          11,
          12
         ],
         "xaxis": "x",
         "y": [
          907.2,
          1033.2,
          668.4,
          75.2,
          28.2,
          20.4,
          1.4,
          51.4,
          74.8,
          44.4,
          132.2,
          737.2
         ],
         "yaxis": "y"
        },
        {
         "alignmentgroup": "True",
         "hovertemplate": "Location=Tuggeranong<br>Month=%{x}<br>Total rainfall=%{y}<extra></extra>",
         "legendgroup": "Tuggeranong",
         "marker": {
          "color": "#FF97FF",
          "pattern": {
           "shape": ""
          }
         },
         "name": "Tuggeranong",
         "offsetgroup": "Tuggeranong",
         "orientation": "v",
         "showlegend": true,
         "textposition": "auto",
         "type": "bar",
         "x": [
          1,
          2,
          3,
          4,
          5,
          6,
          7,
          8,
          9,
          10,
          11,
          12
         ],
         "xaxis": "x",
         "y": [
          149.4,
          324.2,
          151,
          70.4,
          10.4,
          62.199999999999996,
          109.6,
          81.2,
          135.8,
          225.4,
          323,
          508.6
         ],
         "yaxis": "y"
        },
        {
         "alignmentgroup": "True",
         "hovertemplate": "Location=WaggaWagga<br>Month=%{x}<br>Total rainfall=%{y}<extra></extra>",
         "legendgroup": "WaggaWagga",
         "marker": {
          "color": "#FECB52",
          "pattern": {
           "shape": ""
          }
         },
         "name": "WaggaWagga",
         "offsetgroup": "WaggaWagga",
         "orientation": "v",
         "showlegend": true,
         "textposition": "auto",
         "type": "bar",
         "x": [
          1,
          2,
          3,
          4,
          5,
          6,
          7,
          8,
          9,
          10,
          11,
          12
         ],
         "xaxis": "x",
         "y": [
          55.4,
          146.6,
          139.2,
          52.8,
          85.39999999999999,
          88.2,
          64.6,
          111.2,
          89.60000000000001,
          174.4,
          184.4,
          207
         ],
         "yaxis": "y"
        },
        {
         "alignmentgroup": "True",
         "hovertemplate": "Location=Walpole<br>Month=%{x}<br>Total rainfall=%{y}<extra></extra>",
         "legendgroup": "Walpole",
         "marker": {
          "color": "#636efa",
          "pattern": {
           "shape": ""
          }
         },
         "name": "Walpole",
         "offsetgroup": "Walpole",
         "orientation": "v",
         "showlegend": true,
         "textposition": "auto",
         "type": "bar",
         "x": [
          1,
          2,
          3,
          4,
          5,
          6,
          7,
          8,
          9,
          10,
          11,
          12
         ],
         "xaxis": "x",
         "y": [
          119.6,
          58.6,
          52,
          27.4,
          266.6,
          290.2,
          401.6,
          148.8,
          177.6,
          153.2,
          136.8,
          45.4
         ],
         "yaxis": "y"
        },
        {
         "alignmentgroup": "True",
         "hovertemplate": "Location=Watsonia<br>Month=%{x}<br>Total rainfall=%{y}<extra></extra>",
         "legendgroup": "Watsonia",
         "marker": {
          "color": "#EF553B",
          "pattern": {
           "shape": ""
          }
         },
         "name": "Watsonia",
         "offsetgroup": "Watsonia",
         "orientation": "v",
         "showlegend": true,
         "textposition": "auto",
         "type": "bar",
         "x": [
          1,
          2,
          3,
          4,
          5,
          6,
          7,
          8,
          9,
          10,
          11,
          12
         ],
         "xaxis": "x",
         "y": [
          103.39999999999999,
          160,
          94,
          67.4,
          103.60000000000001,
          143.8,
          109.2,
          123.6,
          119.4,
          84.8,
          195.8,
          75
         ],
         "yaxis": "y"
        },
        {
         "alignmentgroup": "True",
         "hovertemplate": "Location=Williamtown<br>Month=%{x}<br>Total rainfall=%{y}<extra></extra>",
         "legendgroup": "Williamtown",
         "marker": {
          "color": "#00cc96",
          "pattern": {
           "shape": ""
          }
         },
         "name": "Williamtown",
         "offsetgroup": "Williamtown",
         "orientation": "v",
         "showlegend": true,
         "textposition": "auto",
         "type": "bar",
         "x": [
          1,
          2,
          3,
          4,
          5,
          6,
          7,
          8,
          9,
          10,
          11,
          12
         ],
         "xaxis": "x",
         "y": [
          127.8,
          145,
          184,
          133.4,
          376,
          295.6,
          199.60000000000002,
          64.2,
          122.80000000000001,
          182.6,
          145,
          135
         ],
         "yaxis": "y"
        },
        {
         "alignmentgroup": "True",
         "hovertemplate": "Location=Witchcliffe<br>Month=%{x}<br>Total rainfall=%{y}<extra></extra>",
         "legendgroup": "Witchcliffe",
         "marker": {
          "color": "#ab63fa",
          "pattern": {
           "shape": ""
          }
         },
         "name": "Witchcliffe",
         "offsetgroup": "Witchcliffe",
         "orientation": "v",
         "showlegend": true,
         "textposition": "auto",
         "type": "bar",
         "x": [
          1,
          2,
          3,
          4,
          5,
          6,
          7,
          8,
          9,
          10,
          11,
          12
         ],
         "xaxis": "x",
         "y": [
          9.2,
          3,
          24,
          78.6,
          314.4,
          269.6,
          474.6,
          378,
          227,
          98,
          86.4,
          30.6
         ],
         "yaxis": "y"
        },
        {
         "alignmentgroup": "True",
         "hovertemplate": "Location=Wollongong<br>Month=%{x}<br>Total rainfall=%{y}<extra></extra>",
         "legendgroup": "Wollongong",
         "marker": {
          "color": "#FFA15A",
          "pattern": {
           "shape": ""
          }
         },
         "name": "Wollongong",
         "offsetgroup": "Wollongong",
         "orientation": "v",
         "showlegend": true,
         "textposition": "auto",
         "type": "bar",
         "x": [
          1,
          2,
          3,
          4,
          5,
          6,
          7,
          8,
          9,
          10,
          11,
          12
         ],
         "xaxis": "x",
         "y": [
          191,
          131.4,
          372.8,
          132.6,
          137.6,
          185.6,
          296.4,
          51.4,
          83.6,
          196.4,
          109,
          258.6
         ],
         "yaxis": "y"
        },
        {
         "alignmentgroup": "True",
         "hovertemplate": "Location=Woomera<br>Month=%{x}<br>Total rainfall=%{y}<extra></extra>",
         "legendgroup": "Woomera",
         "marker": {
          "color": "#19d3f3",
          "pattern": {
           "shape": ""
          }
         },
         "name": "Woomera",
         "offsetgroup": "Woomera",
         "orientation": "v",
         "showlegend": true,
         "textposition": "auto",
         "type": "bar",
         "x": [
          1,
          2,
          3,
          4,
          5,
          6,
          7,
          8,
          9,
          10,
          11,
          12
         ],
         "xaxis": "x",
         "y": [
          3.4000000000000004,
          116.4,
          8.2,
          46.2,
          47.4,
          17.2,
          37.4,
          20.2,
          28,
          58,
          57,
          41
         ],
         "yaxis": "y"
        }
       ],
       "layout": {
        "barmode": "relative",
        "height": 400,
        "legend": {
         "title": {
          "text": "Location"
         },
         "tracegroupgap": 0
        },
        "template": {
         "data": {
          "bar": [
           {
            "error_x": {
             "color": "#2a3f5f"
            },
            "error_y": {
             "color": "#2a3f5f"
            },
            "marker": {
             "line": {
              "color": "#E5ECF6",
              "width": 0.5
             },
             "pattern": {
              "fillmode": "overlay",
              "size": 10,
              "solidity": 0.2
             }
            },
            "type": "bar"
           }
          ],
          "barpolar": [
           {
            "marker": {
             "line": {
              "color": "#E5ECF6",
              "width": 0.5
             },
             "pattern": {
              "fillmode": "overlay",
              "size": 10,
              "solidity": 0.2
             }
            },
            "type": "barpolar"
           }
          ],
          "carpet": [
           {
            "aaxis": {
             "endlinecolor": "#2a3f5f",
             "gridcolor": "white",
             "linecolor": "white",
             "minorgridcolor": "white",
             "startlinecolor": "#2a3f5f"
            },
            "baxis": {
             "endlinecolor": "#2a3f5f",
             "gridcolor": "white",
             "linecolor": "white",
             "minorgridcolor": "white",
             "startlinecolor": "#2a3f5f"
            },
            "type": "carpet"
           }
          ],
          "choropleth": [
           {
            "colorbar": {
             "outlinewidth": 0,
             "ticks": ""
            },
            "type": "choropleth"
           }
          ],
          "contour": [
           {
            "colorbar": {
             "outlinewidth": 0,
             "ticks": ""
            },
            "colorscale": [
             [
              0,
              "#0d0887"
             ],
             [
              0.1111111111111111,
              "#46039f"
             ],
             [
              0.2222222222222222,
              "#7201a8"
             ],
             [
              0.3333333333333333,
              "#9c179e"
             ],
             [
              0.4444444444444444,
              "#bd3786"
             ],
             [
              0.5555555555555556,
              "#d8576b"
             ],
             [
              0.6666666666666666,
              "#ed7953"
             ],
             [
              0.7777777777777778,
              "#fb9f3a"
             ],
             [
              0.8888888888888888,
              "#fdca26"
             ],
             [
              1,
              "#f0f921"
             ]
            ],
            "type": "contour"
           }
          ],
          "contourcarpet": [
           {
            "colorbar": {
             "outlinewidth": 0,
             "ticks": ""
            },
            "type": "contourcarpet"
           }
          ],
          "heatmap": [
           {
            "colorbar": {
             "outlinewidth": 0,
             "ticks": ""
            },
            "colorscale": [
             [
              0,
              "#0d0887"
             ],
             [
              0.1111111111111111,
              "#46039f"
             ],
             [
              0.2222222222222222,
              "#7201a8"
             ],
             [
              0.3333333333333333,
              "#9c179e"
             ],
             [
              0.4444444444444444,
              "#bd3786"
             ],
             [
              0.5555555555555556,
              "#d8576b"
             ],
             [
              0.6666666666666666,
              "#ed7953"
             ],
             [
              0.7777777777777778,
              "#fb9f3a"
             ],
             [
              0.8888888888888888,
              "#fdca26"
             ],
             [
              1,
              "#f0f921"
             ]
            ],
            "type": "heatmap"
           }
          ],
          "heatmapgl": [
           {
            "colorbar": {
             "outlinewidth": 0,
             "ticks": ""
            },
            "colorscale": [
             [
              0,
              "#0d0887"
             ],
             [
              0.1111111111111111,
              "#46039f"
             ],
             [
              0.2222222222222222,
              "#7201a8"
             ],
             [
              0.3333333333333333,
              "#9c179e"
             ],
             [
              0.4444444444444444,
              "#bd3786"
             ],
             [
              0.5555555555555556,
              "#d8576b"
             ],
             [
              0.6666666666666666,
              "#ed7953"
             ],
             [
              0.7777777777777778,
              "#fb9f3a"
             ],
             [
              0.8888888888888888,
              "#fdca26"
             ],
             [
              1,
              "#f0f921"
             ]
            ],
            "type": "heatmapgl"
           }
          ],
          "histogram": [
           {
            "marker": {
             "pattern": {
              "fillmode": "overlay",
              "size": 10,
              "solidity": 0.2
             }
            },
            "type": "histogram"
           }
          ],
          "histogram2d": [
           {
            "colorbar": {
             "outlinewidth": 0,
             "ticks": ""
            },
            "colorscale": [
             [
              0,
              "#0d0887"
             ],
             [
              0.1111111111111111,
              "#46039f"
             ],
             [
              0.2222222222222222,
              "#7201a8"
             ],
             [
              0.3333333333333333,
              "#9c179e"
             ],
             [
              0.4444444444444444,
              "#bd3786"
             ],
             [
              0.5555555555555556,
              "#d8576b"
             ],
             [
              0.6666666666666666,
              "#ed7953"
             ],
             [
              0.7777777777777778,
              "#fb9f3a"
             ],
             [
              0.8888888888888888,
              "#fdca26"
             ],
             [
              1,
              "#f0f921"
             ]
            ],
            "type": "histogram2d"
           }
          ],
          "histogram2dcontour": [
           {
            "colorbar": {
             "outlinewidth": 0,
             "ticks": ""
            },
            "colorscale": [
             [
              0,
              "#0d0887"
             ],
             [
              0.1111111111111111,
              "#46039f"
             ],
             [
              0.2222222222222222,
              "#7201a8"
             ],
             [
              0.3333333333333333,
              "#9c179e"
             ],
             [
              0.4444444444444444,
              "#bd3786"
             ],
             [
              0.5555555555555556,
              "#d8576b"
             ],
             [
              0.6666666666666666,
              "#ed7953"
             ],
             [
              0.7777777777777778,
              "#fb9f3a"
             ],
             [
              0.8888888888888888,
              "#fdca26"
             ],
             [
              1,
              "#f0f921"
             ]
            ],
            "type": "histogram2dcontour"
           }
          ],
          "mesh3d": [
           {
            "colorbar": {
             "outlinewidth": 0,
             "ticks": ""
            },
            "type": "mesh3d"
           }
          ],
          "parcoords": [
           {
            "line": {
             "colorbar": {
              "outlinewidth": 0,
              "ticks": ""
             }
            },
            "type": "parcoords"
           }
          ],
          "pie": [
           {
            "automargin": true,
            "type": "pie"
           }
          ],
          "scatter": [
           {
            "fillpattern": {
             "fillmode": "overlay",
             "size": 10,
             "solidity": 0.2
            },
            "type": "scatter"
           }
          ],
          "scatter3d": [
           {
            "line": {
             "colorbar": {
              "outlinewidth": 0,
              "ticks": ""
             }
            },
            "marker": {
             "colorbar": {
              "outlinewidth": 0,
              "ticks": ""
             }
            },
            "type": "scatter3d"
           }
          ],
          "scattercarpet": [
           {
            "marker": {
             "colorbar": {
              "outlinewidth": 0,
              "ticks": ""
             }
            },
            "type": "scattercarpet"
           }
          ],
          "scattergeo": [
           {
            "marker": {
             "colorbar": {
              "outlinewidth": 0,
              "ticks": ""
             }
            },
            "type": "scattergeo"
           }
          ],
          "scattergl": [
           {
            "marker": {
             "colorbar": {
              "outlinewidth": 0,
              "ticks": ""
             }
            },
            "type": "scattergl"
           }
          ],
          "scattermapbox": [
           {
            "marker": {
             "colorbar": {
              "outlinewidth": 0,
              "ticks": ""
             }
            },
            "type": "scattermapbox"
           }
          ],
          "scatterpolar": [
           {
            "marker": {
             "colorbar": {
              "outlinewidth": 0,
              "ticks": ""
             }
            },
            "type": "scatterpolar"
           }
          ],
          "scatterpolargl": [
           {
            "marker": {
             "colorbar": {
              "outlinewidth": 0,
              "ticks": ""
             }
            },
            "type": "scatterpolargl"
           }
          ],
          "scatterternary": [
           {
            "marker": {
             "colorbar": {
              "outlinewidth": 0,
              "ticks": ""
             }
            },
            "type": "scatterternary"
           }
          ],
          "surface": [
           {
            "colorbar": {
             "outlinewidth": 0,
             "ticks": ""
            },
            "colorscale": [
             [
              0,
              "#0d0887"
             ],
             [
              0.1111111111111111,
              "#46039f"
             ],
             [
              0.2222222222222222,
              "#7201a8"
             ],
             [
              0.3333333333333333,
              "#9c179e"
             ],
             [
              0.4444444444444444,
              "#bd3786"
             ],
             [
              0.5555555555555556,
              "#d8576b"
             ],
             [
              0.6666666666666666,
              "#ed7953"
             ],
             [
              0.7777777777777778,
              "#fb9f3a"
             ],
             [
              0.8888888888888888,
              "#fdca26"
             ],
             [
              1,
              "#f0f921"
             ]
            ],
            "type": "surface"
           }
          ],
          "table": [
           {
            "cells": {
             "fill": {
              "color": "#EBF0F8"
             },
             "line": {
              "color": "white"
             }
            },
            "header": {
             "fill": {
              "color": "#C8D4E3"
             },
             "line": {
              "color": "white"
             }
            },
            "type": "table"
           }
          ]
         },
         "layout": {
          "annotationdefaults": {
           "arrowcolor": "#2a3f5f",
           "arrowhead": 0,
           "arrowwidth": 1
          },
          "autotypenumbers": "strict",
          "coloraxis": {
           "colorbar": {
            "outlinewidth": 0,
            "ticks": ""
           }
          },
          "colorscale": {
           "diverging": [
            [
             0,
             "#8e0152"
            ],
            [
             0.1,
             "#c51b7d"
            ],
            [
             0.2,
             "#de77ae"
            ],
            [
             0.3,
             "#f1b6da"
            ],
            [
             0.4,
             "#fde0ef"
            ],
            [
             0.5,
             "#f7f7f7"
            ],
            [
             0.6,
             "#e6f5d0"
            ],
            [
             0.7,
             "#b8e186"
            ],
            [
             0.8,
             "#7fbc41"
            ],
            [
             0.9,
             "#4d9221"
            ],
            [
             1,
             "#276419"
            ]
           ],
           "sequential": [
            [
             0,
             "#0d0887"
            ],
            [
             0.1111111111111111,
             "#46039f"
            ],
            [
             0.2222222222222222,
             "#7201a8"
            ],
            [
             0.3333333333333333,
             "#9c179e"
            ],
            [
             0.4444444444444444,
             "#bd3786"
            ],
            [
             0.5555555555555556,
             "#d8576b"
            ],
            [
             0.6666666666666666,
             "#ed7953"
            ],
            [
             0.7777777777777778,
             "#fb9f3a"
            ],
            [
             0.8888888888888888,
             "#fdca26"
            ],
            [
             1,
             "#f0f921"
            ]
           ],
           "sequentialminus": [
            [
             0,
             "#0d0887"
            ],
            [
             0.1111111111111111,
             "#46039f"
            ],
            [
             0.2222222222222222,
             "#7201a8"
            ],
            [
             0.3333333333333333,
             "#9c179e"
            ],
            [
             0.4444444444444444,
             "#bd3786"
            ],
            [
             0.5555555555555556,
             "#d8576b"
            ],
            [
             0.6666666666666666,
             "#ed7953"
            ],
            [
             0.7777777777777778,
             "#fb9f3a"
            ],
            [
             0.8888888888888888,
             "#fdca26"
            ],
            [
             1,
             "#f0f921"
            ]
           ]
          },
          "colorway": [
           "#636efa",
           "#EF553B",
           "#00cc96",
           "#ab63fa",
           "#FFA15A",
           "#19d3f3",
           "#FF6692",
           "#B6E880",
           "#FF97FF",
           "#FECB52"
          ],
          "font": {
           "color": "#2a3f5f"
          },
          "geo": {
           "bgcolor": "white",
           "lakecolor": "white",
           "landcolor": "#E5ECF6",
           "showlakes": true,
           "showland": true,
           "subunitcolor": "white"
          },
          "hoverlabel": {
           "align": "left"
          },
          "hovermode": "closest",
          "mapbox": {
           "style": "light"
          },
          "paper_bgcolor": "white",
          "plot_bgcolor": "#E5ECF6",
          "polar": {
           "angularaxis": {
            "gridcolor": "white",
            "linecolor": "white",
            "ticks": ""
           },
           "bgcolor": "#E5ECF6",
           "radialaxis": {
            "gridcolor": "white",
            "linecolor": "white",
            "ticks": ""
           }
          },
          "scene": {
           "xaxis": {
            "backgroundcolor": "#E5ECF6",
            "gridcolor": "white",
            "gridwidth": 2,
            "linecolor": "white",
            "showbackground": true,
            "ticks": "",
            "zerolinecolor": "white"
           },
           "yaxis": {
            "backgroundcolor": "#E5ECF6",
            "gridcolor": "white",
            "gridwidth": 2,
            "linecolor": "white",
            "showbackground": true,
            "ticks": "",
            "zerolinecolor": "white"
           },
           "zaxis": {
            "backgroundcolor": "#E5ECF6",
            "gridcolor": "white",
            "gridwidth": 2,
            "linecolor": "white",
            "showbackground": true,
            "ticks": "",
            "zerolinecolor": "white"
           }
          },
          "shapedefaults": {
           "line": {
            "color": "#2a3f5f"
           }
          },
          "ternary": {
           "aaxis": {
            "gridcolor": "white",
            "linecolor": "white",
            "ticks": ""
           },
           "baxis": {
            "gridcolor": "white",
            "linecolor": "white",
            "ticks": ""
           },
           "bgcolor": "#E5ECF6",
           "caxis": {
            "gridcolor": "white",
            "linecolor": "white",
            "ticks": ""
           }
          },
          "title": {
           "x": 0.05
          },
          "xaxis": {
           "automargin": true,
           "gridcolor": "white",
           "linecolor": "white",
           "ticks": "",
           "title": {
            "standoff": 15
           },
           "zerolinecolor": "white",
           "zerolinewidth": 2
          },
          "yaxis": {
           "automargin": true,
           "gridcolor": "white",
           "linecolor": "white",
           "ticks": "",
           "title": {
            "standoff": 15
           },
           "zerolinecolor": "white",
           "zerolinewidth": 2
          }
         }
        },
        "title": {
         "text": "Total rainfall by city"
        },
        "xaxis": {
         "anchor": "y",
         "domain": [
          0,
          1
         ],
         "title": {
          "text": "Month"
         }
        },
        "yaxis": {
         "anchor": "x",
         "domain": [
          0,
          1
         ],
         "title": {
          "text": "Total rainfall"
         }
        }
       }
      },
      "text/html": [
       "<div>                            <div id=\"17cb1d2d-1d25-48eb-962f-a8819be92e76\" class=\"plotly-graph-div\" style=\"height:400px; width:100%;\"></div>            <script type=\"text/javascript\">                require([\"plotly\"], function(Plotly) {                    window.PLOTLYENV=window.PLOTLYENV || {};                                    if (document.getElementById(\"17cb1d2d-1d25-48eb-962f-a8819be92e76\")) {                    Plotly.newPlot(                        \"17cb1d2d-1d25-48eb-962f-a8819be92e76\",                        [{\"alignmentgroup\":\"True\",\"hovertemplate\":\"Location=Adelaide<br>Month=%{x}<br>Total rainfall=%{y}<extra></extra>\",\"legendgroup\":\"Adelaide\",\"marker\":{\"color\":\"#636efa\",\"pattern\":{\"shape\":\"\"}},\"name\":\"Adelaide\",\"offsetgroup\":\"Adelaide\",\"orientation\":\"v\",\"showlegend\":true,\"textposition\":\"auto\",\"x\":[1,2,3,4,5,6,7,8,9,10,11,12],\"xaxis\":\"x\",\"y\":[41.199999999999996,33.2,71.2,71.8,115.0,128.4,231.8,199.6,158.4,70.8,93.6,145.0],\"yaxis\":\"y\",\"type\":\"bar\"},{\"alignmentgroup\":\"True\",\"hovertemplate\":\"Location=Albany<br>Month=%{x}<br>Total rainfall=%{y}<extra></extra>\",\"legendgroup\":\"Albany\",\"marker\":{\"color\":\"#EF553B\",\"pattern\":{\"shape\":\"\"}},\"name\":\"Albany\",\"offsetgroup\":\"Albany\",\"orientation\":\"v\",\"showlegend\":true,\"textposition\":\"auto\",\"x\":[1,2,3,4,5,6,7,8,9,10,11,12],\"xaxis\":\"x\",\"y\":[92.1,36.300000000000004,77.60000000000001,93.60000000000001,164.1,349.8,330.7,246.4,223.0,117.6,104.4,82.0],\"yaxis\":\"y\",\"type\":\"bar\"},{\"alignmentgroup\":\"True\",\"hovertemplate\":\"Location=Albury<br>Month=%{x}<br>Total rainfall=%{y}<extra></extra>\",\"legendgroup\":\"Albury\",\"marker\":{\"color\":\"#00cc96\",\"pattern\":{\"shape\":\"\"}},\"name\":\"Albury\",\"offsetgroup\":\"Albury\",\"orientation\":\"v\",\"showlegend\":true,\"textposition\":\"auto\",\"x\":[1,2,3,4,5,6,7,8,9,10,11,12],\"xaxis\":\"x\",\"y\":[84.4,316.8,146.6,97.2,67.4,89.4,86.2,138.2,129.6,202.6,234.0,99.2],\"yaxis\":\"y\",\"type\":\"bar\"},{\"alignmentgroup\":\"True\",\"hovertemplate\":\"Location=AliceSprings<br>Month=%{x}<br>Total rainfall=%{y}<extra></extra>\",\"legendgroup\":\"AliceSprings\",\"marker\":{\"color\":\"#ab63fa\",\"pattern\":{\"shape\":\"\"}},\"name\":\"AliceSprings\",\"offsetgroup\":\"AliceSprings\",\"orientation\":\"v\",\"showlegend\":true,\"textposition\":\"auto\",\"x\":[1,2,3,4,5,6,7,8,9,10,11,12],\"xaxis\":\"x\",\"y\":[241.79999999999998,197.6,118.60000000000001,23.8,34.199999999999996,4.0,62.199999999999996,18.2,54.2,77.2,61.800000000000004,131.6],\"yaxis\":\"y\",\"type\":\"bar\"},{\"alignmentgroup\":\"True\",\"hovertemplate\":\"Location=BadgerysCreek<br>Month=%{x}<br>Total rainfall=%{y}<extra></extra>\",\"legendgroup\":\"BadgerysCreek\",\"marker\":{\"color\":\"#FFA15A\",\"pattern\":{\"shape\":\"\"}},\"name\":\"BadgerysCreek\",\"offsetgroup\":\"BadgerysCreek\",\"orientation\":\"v\",\"showlegend\":true,\"textposition\":\"auto\",\"x\":[1,2,3,4,5,6,7,8,9,10,11,12],\"xaxis\":\"x\",\"y\":[169.4,245.4,186.0,68.4,211.79999999999998,123.8,122.2,56.0,68.2,111.4,221.4,204.79999999999998],\"yaxis\":\"y\",\"type\":\"bar\"},{\"alignmentgroup\":\"True\",\"hovertemplate\":\"Location=Ballarat<br>Month=%{x}<br>Total rainfall=%{y}<extra></extra>\",\"legendgroup\":\"Ballarat\",\"marker\":{\"color\":\"#19d3f3\",\"pattern\":{\"shape\":\"\"}},\"name\":\"Ballarat\",\"offsetgroup\":\"Ballarat\",\"orientation\":\"v\",\"showlegend\":true,\"textposition\":\"auto\",\"x\":[1,2,3,4,5,6,7,8,9,10,11,12],\"xaxis\":\"x\",\"y\":[201.6,118.20000000000002,111.19999999999999,75.6,90.0,102.6,145.0,234.2,160.4,157.8,236.2,130.6],\"yaxis\":\"y\",\"type\":\"bar\"},{\"alignmentgroup\":\"True\",\"hovertemplate\":\"Location=Bendigo<br>Month=%{x}<br>Total rainfall=%{y}<extra></extra>\",\"legendgroup\":\"Bendigo\",\"marker\":{\"color\":\"#FF6692\",\"pattern\":{\"shape\":\"\"}},\"name\":\"Bendigo\",\"offsetgroup\":\"Bendigo\",\"orientation\":\"v\",\"showlegend\":true,\"textposition\":\"auto\",\"x\":[1,2,3,4,5,6,7,8,9,10,11,12],\"xaxis\":\"x\",\"y\":[84.6,160.6,165.2,38.199999999999996,64.2,111.4,118.0,153.0,162.0,130.79999999999998,210.20000000000002,179.2],\"yaxis\":\"y\",\"type\":\"bar\"},{\"alignmentgroup\":\"True\",\"hovertemplate\":\"Location=Brisbane<br>Month=%{x}<br>Total rainfall=%{y}<extra></extra>\",\"legendgroup\":\"Brisbane\",\"marker\":{\"color\":\"#B6E880\",\"pattern\":{\"shape\":\"\"}},\"name\":\"Brisbane\",\"offsetgroup\":\"Brisbane\",\"orientation\":\"v\",\"showlegend\":true,\"textposition\":\"auto\",\"x\":[1,2,3,4,5,6,7,8,9,10,11,12],\"xaxis\":\"x\",\"y\":[462.4,186.2,287.8,200.6,336.8,102.4,76.8,171.0,162.8,346.2,154.4,729.6],\"yaxis\":\"y\",\"type\":\"bar\"},{\"alignmentgroup\":\"True\",\"hovertemplate\":\"Location=Cairns<br>Month=%{x}<br>Total rainfall=%{y}<extra></extra>\",\"legendgroup\":\"Cairns\",\"marker\":{\"color\":\"#FF97FF\",\"pattern\":{\"shape\":\"\"}},\"name\":\"Cairns\",\"offsetgroup\":\"Cairns\",\"orientation\":\"v\",\"showlegend\":true,\"textposition\":\"auto\",\"x\":[1,2,3,4,5,6,7,8,9,10,11,12],\"xaxis\":\"x\",\"y\":[1428.8,1213.6,642.0,295.8,103.2,15.799999999999999,41.8,54.8,97.0,504.6,289.0,681.6],\"yaxis\":\"y\",\"type\":\"bar\"},{\"alignmentgroup\":\"True\",\"hovertemplate\":\"Location=Canberra<br>Month=%{x}<br>Total rainfall=%{y}<extra></extra>\",\"legendgroup\":\"Canberra\",\"marker\":{\"color\":\"#FECB52\",\"pattern\":{\"shape\":\"\"}},\"name\":\"Canberra\",\"offsetgroup\":\"Canberra\",\"orientation\":\"v\",\"showlegend\":true,\"textposition\":\"auto\",\"x\":[1,2,3,4,5,6,7,8,9,10,11,12],\"xaxis\":\"x\",\"y\":[139.0,269.0,144.4,98.4,71.0,52.4,139.2,102.0,137.4,149.8,299.2,516.2],\"yaxis\":\"y\",\"type\":\"bar\"},{\"alignmentgroup\":\"True\",\"hovertemplate\":\"Location=Cobar<br>Month=%{x}<br>Total rainfall=%{y}<extra></extra>\",\"legendgroup\":\"Cobar\",\"marker\":{\"color\":\"#636efa\",\"pattern\":{\"shape\":\"\"}},\"name\":\"Cobar\",\"offsetgroup\":\"Cobar\",\"orientation\":\"v\",\"showlegend\":true,\"textposition\":\"auto\",\"x\":[1,2,3,4,5,6,7,8,9,10,11,12],\"xaxis\":\"x\",\"y\":[107.8,178.4,50.400000000000006,38.6,80.6,69.2,67.4,23.0,47.0,118.80000000000001,64.60000000000001,96.60000000000001],\"yaxis\":\"y\",\"type\":\"bar\"},{\"alignmentgroup\":\"True\",\"hovertemplate\":\"Location=CoffsHarbour<br>Month=%{x}<br>Total rainfall=%{y}<extra></extra>\",\"legendgroup\":\"CoffsHarbour\",\"marker\":{\"color\":\"#EF553B\",\"pattern\":{\"shape\":\"\"}},\"name\":\"CoffsHarbour\",\"offsetgroup\":\"CoffsHarbour\",\"orientation\":\"v\",\"showlegend\":true,\"textposition\":\"auto\",\"x\":[1,2,3,4,5,6,7,8,9,10,11,12],\"xaxis\":\"x\",\"y\":[551.8,400.40000000000003,398.0,282.6,209.0,641.1,184.6,123.8,62.2,729.6,736.2,467.6],\"yaxis\":\"y\",\"type\":\"bar\"},{\"alignmentgroup\":\"True\",\"hovertemplate\":\"Location=Dartmoor<br>Month=%{x}<br>Total rainfall=%{y}<extra></extra>\",\"legendgroup\":\"Dartmoor\",\"marker\":{\"color\":\"#00cc96\",\"pattern\":{\"shape\":\"\"}},\"name\":\"Dartmoor\",\"offsetgroup\":\"Dartmoor\",\"orientation\":\"v\",\"showlegend\":true,\"textposition\":\"auto\",\"x\":[1,2,3,4,5,6,7,8,9,10,11,12],\"xaxis\":\"x\",\"y\":[166.2,106.6,119.6,72.8,158.0,163.6,239.2,241.4,163.4,118.4,84.0,139.4],\"yaxis\":\"y\",\"type\":\"bar\"},{\"alignmentgroup\":\"True\",\"hovertemplate\":\"Location=Darwin<br>Month=%{x}<br>Total rainfall=%{y}<extra></extra>\",\"legendgroup\":\"Darwin\",\"marker\":{\"color\":\"#ab63fa\",\"pattern\":{\"shape\":\"\"}},\"name\":\"Darwin\",\"offsetgroup\":\"Darwin\",\"orientation\":\"v\",\"showlegend\":true,\"textposition\":\"auto\",\"x\":[1,2,3,4,5,6,7,8,9,10,11,12],\"xaxis\":\"x\",\"y\":[1302.0,1600.4,385.2,146.60000000000002,67.0,0.0,0.2,0.0,63.0,267.2,357.8,1138.0],\"yaxis\":\"y\",\"type\":\"bar\"},{\"alignmentgroup\":\"True\",\"hovertemplate\":\"Location=GoldCoast<br>Month=%{x}<br>Total rainfall=%{y}<extra></extra>\",\"legendgroup\":\"GoldCoast\",\"marker\":{\"color\":\"#FFA15A\",\"pattern\":{\"shape\":\"\"}},\"name\":\"GoldCoast\",\"offsetgroup\":\"GoldCoast\",\"orientation\":\"v\",\"showlegend\":true,\"textposition\":\"auto\",\"x\":[1,2,3,4,5,6,7,8,9,10,11,12],\"xaxis\":\"x\",\"y\":[660.0,462.8,284.4,252.4,326.0,134.6,85.6,82.6,99.6,427.8,84.6,522.6],\"yaxis\":\"y\",\"type\":\"bar\"},{\"alignmentgroup\":\"True\",\"hovertemplate\":\"Location=Hobart<br>Month=%{x}<br>Total rainfall=%{y}<extra></extra>\",\"legendgroup\":\"Hobart\",\"marker\":{\"color\":\"#19d3f3\",\"pattern\":{\"shape\":\"\"}},\"name\":\"Hobart\",\"offsetgroup\":\"Hobart\",\"orientation\":\"v\",\"showlegend\":true,\"textposition\":\"auto\",\"x\":[1,2,3,4,5,6,7,8,9,10,11,12],\"xaxis\":\"x\",\"y\":[51.8,85.0,101.6,61.4,79.8,100.0,103.2,243.6,220.4,147.6,189.0,140.6],\"yaxis\":\"y\",\"type\":\"bar\"},{\"alignmentgroup\":\"True\",\"hovertemplate\":\"Location=Launceston<br>Month=%{x}<br>Total rainfall=%{y}<extra></extra>\",\"legendgroup\":\"Launceston\",\"marker\":{\"color\":\"#FF6692\",\"pattern\":{\"shape\":\"\"}},\"name\":\"Launceston\",\"offsetgroup\":\"Launceston\",\"orientation\":\"v\",\"showlegend\":true,\"textposition\":\"auto\",\"x\":[1,2,3,4,5,6,7,8,9,10,11,12],\"xaxis\":\"x\",\"y\":[62.099999999999994,65.5,153.4,83.0,76.4,256.9,111.7,300.40000000000003,147.1,80.5,125.5,156.7],\"yaxis\":\"y\",\"type\":\"bar\"},{\"alignmentgroup\":\"True\",\"hovertemplate\":\"Location=Melbourne<br>Month=%{x}<br>Total rainfall=%{y}<extra></extra>\",\"legendgroup\":\"Melbourne\",\"marker\":{\"color\":\"#B6E880\",\"pattern\":{\"shape\":\"\"}},\"name\":\"Melbourne\",\"offsetgroup\":\"Melbourne\",\"orientation\":\"v\",\"showlegend\":true,\"textposition\":\"auto\",\"x\":[1,2,3,4,5,6,7,8,9,10,11,12],\"xaxis\":\"x\",\"y\":[112.0,157.4,116.0,36.4,53.6,104.4,118.8,114.0,140.6,170.6,259.4,202.0],\"yaxis\":\"y\",\"type\":\"bar\"},{\"alignmentgroup\":\"True\",\"hovertemplate\":\"Location=MelbourneAirport<br>Month=%{x}<br>Total rainfall=%{y}<extra></extra>\",\"legendgroup\":\"MelbourneAirport\",\"marker\":{\"color\":\"#FF97FF\",\"pattern\":{\"shape\":\"\"}},\"name\":\"MelbourneAirport\",\"offsetgroup\":\"MelbourneAirport\",\"orientation\":\"v\",\"showlegend\":true,\"textposition\":\"auto\",\"x\":[1,2,3,4,5,6,7,8,9,10,11,12],\"xaxis\":\"x\",\"y\":[116.6,115.8,84.2,44.2,47.2,52.6,66.2,92.2,104.2,173.2,189.0,128.79999999999998],\"yaxis\":\"y\",\"type\":\"bar\"},{\"alignmentgroup\":\"True\",\"hovertemplate\":\"Location=Mildura<br>Month=%{x}<br>Total rainfall=%{y}<extra></extra>\",\"legendgroup\":\"Mildura\",\"marker\":{\"color\":\"#FECB52\",\"pattern\":{\"shape\":\"\"}},\"name\":\"Mildura\",\"offsetgroup\":\"Mildura\",\"orientation\":\"v\",\"showlegend\":true,\"textposition\":\"auto\",\"x\":[1,2,3,4,5,6,7,8,9,10,11,12],\"xaxis\":\"x\",\"y\":[118.6,161.6,129.8,28.6,44.2,45.6,37.2,25.0,37.2,103.60000000000001,106.4,206.6],\"yaxis\":\"y\",\"type\":\"bar\"},{\"alignmentgroup\":\"True\",\"hovertemplate\":\"Location=Moree<br>Month=%{x}<br>Total rainfall=%{y}<extra></extra>\",\"legendgroup\":\"Moree\",\"marker\":{\"color\":\"#636efa\",\"pattern\":{\"shape\":\"\"}},\"name\":\"Moree\",\"offsetgroup\":\"Moree\",\"orientation\":\"v\",\"showlegend\":true,\"textposition\":\"auto\",\"x\":[1,2,3,4,5,6,7,8,9,10,11,12],\"xaxis\":\"x\",\"y\":[232.6,218.8,82.4,60.4,88.0,19.400000000000002,24.6,77.8,79.0,93.6,332.0,143.0],\"yaxis\":\"y\",\"type\":\"bar\"},{\"alignmentgroup\":\"True\",\"hovertemplate\":\"Location=MountGambier<br>Month=%{x}<br>Total rainfall=%{y}<extra></extra>\",\"legendgroup\":\"MountGambier\",\"marker\":{\"color\":\"#EF553B\",\"pattern\":{\"shape\":\"\"}},\"name\":\"MountGambier\",\"offsetgroup\":\"MountGambier\",\"orientation\":\"v\",\"showlegend\":true,\"textposition\":\"auto\",\"x\":[1,2,3,4,5,6,7,8,9,10,11,12],\"xaxis\":\"x\",\"y\":[110.0,30.8,64.0,85.60000000000001,114.4,155.4,299.4,287.2,207.4,134.0,101.8,240.8],\"yaxis\":\"y\",\"type\":\"bar\"},{\"alignmentgroup\":\"True\",\"hovertemplate\":\"Location=MountGinini<br>Month=%{x}<br>Total rainfall=%{y}<extra></extra>\",\"legendgroup\":\"MountGinini\",\"marker\":{\"color\":\"#00cc96\",\"pattern\":{\"shape\":\"\"}},\"name\":\"MountGinini\",\"offsetgroup\":\"MountGinini\",\"orientation\":\"v\",\"showlegend\":true,\"textposition\":\"auto\",\"x\":[1,2,3,4,5,6,7,8,9,10,11,12],\"xaxis\":\"x\",\"y\":[235.2,314.4,191.79999999999998,159.2,150.6,169.6,251.0,212.4,258.6,318.4,311.6,336.59999999999997],\"yaxis\":\"y\",\"type\":\"bar\"},{\"alignmentgroup\":\"True\",\"hovertemplate\":\"Location=Newcastle<br>Month=%{x}<br>Total rainfall=%{y}<extra></extra>\",\"legendgroup\":\"Newcastle\",\"marker\":{\"color\":\"#ab63fa\",\"pattern\":{\"shape\":\"\"}},\"name\":\"Newcastle\",\"offsetgroup\":\"Newcastle\",\"orientation\":\"v\",\"showlegend\":true,\"textposition\":\"auto\",\"x\":[1,2,3,4,5,6,7,8,9,10,11,12],\"xaxis\":\"x\",\"y\":[161.7,298.8,130.4,67.0,264.90000000000003,302.7,232.39999999999998,85.39999999999999,123.2,159.0,217.1,182.2],\"yaxis\":\"y\",\"type\":\"bar\"},{\"alignmentgroup\":\"True\",\"hovertemplate\":\"Location=NorahHead<br>Month=%{x}<br>Total rainfall=%{y}<extra></extra>\",\"legendgroup\":\"NorahHead\",\"marker\":{\"color\":\"#FFA15A\",\"pattern\":{\"shape\":\"\"}},\"name\":\"NorahHead\",\"offsetgroup\":\"NorahHead\",\"orientation\":\"v\",\"showlegend\":true,\"textposition\":\"auto\",\"x\":[1,2,3,4,5,6,7,8,9,10,11,12],\"xaxis\":\"x\",\"y\":[242.6,159.6,234.6,101.39999999999999,529.4,206.8,348.6,30.0,78.6,160.6,237.8,203.6],\"yaxis\":\"y\",\"type\":\"bar\"},{\"alignmentgroup\":\"True\",\"hovertemplate\":\"Location=NorfolkIsland<br>Month=%{x}<br>Total rainfall=%{y}<extra></extra>\",\"legendgroup\":\"NorfolkIsland\",\"marker\":{\"color\":\"#19d3f3\",\"pattern\":{\"shape\":\"\"}},\"name\":\"NorfolkIsland\",\"offsetgroup\":\"NorfolkIsland\",\"orientation\":\"v\",\"showlegend\":true,\"textposition\":\"auto\",\"x\":[1,2,3,4,5,6,7,8,9,10,11,12],\"xaxis\":\"x\",\"y\":[93.2,218.4,140.2,86.39999999999999,225.60000000000002,251.2,191.4,249.2,282.7,52.8,64.6,333.4],\"yaxis\":\"y\",\"type\":\"bar\"},{\"alignmentgroup\":\"True\",\"hovertemplate\":\"Location=Nuriootpa<br>Month=%{x}<br>Total rainfall=%{y}<extra></extra>\",\"legendgroup\":\"Nuriootpa\",\"marker\":{\"color\":\"#FF6692\",\"pattern\":{\"shape\":\"\"}},\"name\":\"Nuriootpa\",\"offsetgroup\":\"Nuriootpa\",\"orientation\":\"v\",\"showlegend\":true,\"textposition\":\"auto\",\"x\":[1,2,3,4,5,6,7,8,9,10,11,12],\"xaxis\":\"x\",\"y\":[20.6,60.5,102.8,76.2,92.8,104.0,141.6,122.2,147.6,95.2,76.8,172.6],\"yaxis\":\"y\",\"type\":\"bar\"},{\"alignmentgroup\":\"True\",\"hovertemplate\":\"Location=PearceRAAF<br>Month=%{x}<br>Total rainfall=%{y}<extra></extra>\",\"legendgroup\":\"PearceRAAF\",\"marker\":{\"color\":\"#B6E880\",\"pattern\":{\"shape\":\"\"}},\"name\":\"PearceRAAF\",\"offsetgroup\":\"PearceRAAF\",\"orientation\":\"v\",\"showlegend\":true,\"textposition\":\"auto\",\"x\":[1,2,3,4,5,6,7,8,9,10,11,12],\"xaxis\":\"x\",\"y\":[4.2,1.8,13.200000000000001,14.2,123.80000000000001,235.0,363.8,216.2,139.2,63.0,54.8,72.8],\"yaxis\":\"y\",\"type\":\"bar\"},{\"alignmentgroup\":\"True\",\"hovertemplate\":\"Location=Penrith<br>Month=%{x}<br>Total rainfall=%{y}<extra></extra>\",\"legendgroup\":\"Penrith\",\"marker\":{\"color\":\"#FF97FF\",\"pattern\":{\"shape\":\"\"}},\"name\":\"Penrith\",\"offsetgroup\":\"Penrith\",\"orientation\":\"v\",\"showlegend\":true,\"textposition\":\"auto\",\"x\":[1,2,3,4,5,6,7,8,9,10,11,12],\"xaxis\":\"x\",\"y\":[120.4,278.2,112.6,99.39999999999999,112.2,64.4,34.2,58.0,58.400000000000006,69.60000000000001,218.6,120.60000000000001],\"yaxis\":\"y\",\"type\":\"bar\"},{\"alignmentgroup\":\"True\",\"hovertemplate\":\"Location=Perth<br>Month=%{x}<br>Total rainfall=%{y}<extra></extra>\",\"legendgroup\":\"Perth\",\"marker\":{\"color\":\"#FECB52\",\"pattern\":{\"shape\":\"\"}},\"name\":\"Perth\",\"offsetgroup\":\"Perth\",\"orientation\":\"v\",\"showlegend\":true,\"textposition\":\"auto\",\"x\":[1,2,3,4,5,6,7,8,9,10,11,12],\"xaxis\":\"x\",\"y\":[49.0,1.0,6.0,27.2,119.2,298.8,503.8,245.8,217.0,69.8,98.8,93.2],\"yaxis\":\"y\",\"type\":\"bar\"},{\"alignmentgroup\":\"True\",\"hovertemplate\":\"Location=PerthAirport<br>Month=%{x}<br>Total rainfall=%{y}<extra></extra>\",\"legendgroup\":\"PerthAirport\",\"marker\":{\"color\":\"#636efa\",\"pattern\":{\"shape\":\"\"}},\"name\":\"PerthAirport\",\"offsetgroup\":\"PerthAirport\",\"orientation\":\"v\",\"showlegend\":true,\"textposition\":\"auto\",\"x\":[1,2,3,4,5,6,7,8,9,10,11,12],\"xaxis\":\"x\",\"y\":[68.6,5.3999999999999995,49.2,23.8,184.0,228.8,259.2,201.8,156.8,51.0,48.6,16.0],\"yaxis\":\"y\",\"type\":\"bar\"},{\"alignmentgroup\":\"True\",\"hovertemplate\":\"Location=Portland<br>Month=%{x}<br>Total rainfall=%{y}<extra></extra>\",\"legendgroup\":\"Portland\",\"marker\":{\"color\":\"#EF553B\",\"pattern\":{\"shape\":\"\"}},\"name\":\"Portland\",\"offsetgroup\":\"Portland\",\"orientation\":\"v\",\"showlegend\":true,\"textposition\":\"auto\",\"x\":[1,2,3,4,5,6,7,8,9,10,11,12],\"xaxis\":\"x\",\"y\":[124.0,99.2,83.8,88.2,147.6,161.8,256.2,324.2,231.79999999999998,96.8,138.4,139.2],\"yaxis\":\"y\",\"type\":\"bar\"},{\"alignmentgroup\":\"True\",\"hovertemplate\":\"Location=Richmond<br>Month=%{x}<br>Total rainfall=%{y}<extra></extra>\",\"legendgroup\":\"Richmond\",\"marker\":{\"color\":\"#00cc96\",\"pattern\":{\"shape\":\"\"}},\"name\":\"Richmond\",\"offsetgroup\":\"Richmond\",\"orientation\":\"v\",\"showlegend\":true,\"textposition\":\"auto\",\"x\":[1,2,3,4,5,6,7,8,9,10,11,12],\"xaxis\":\"x\",\"y\":[164.4,356.8,178.4,44.599999999999994,90.8,114.2,69.8,43.0,55.0,101.8,141.4,136.2],\"yaxis\":\"y\",\"type\":\"bar\"},{\"alignmentgroup\":\"True\",\"hovertemplate\":\"Location=Sale<br>Month=%{x}<br>Total rainfall=%{y}<extra></extra>\",\"legendgroup\":\"Sale\",\"marker\":{\"color\":\"#ab63fa\",\"pattern\":{\"shape\":\"\"}},\"name\":\"Sale\",\"offsetgroup\":\"Sale\",\"orientation\":\"v\",\"showlegend\":true,\"textposition\":\"auto\",\"x\":[1,2,3,4,5,6,7,8,9,10,11,12],\"xaxis\":\"x\",\"y\":[110.39999999999999,142.4,62.6,26.2,75.4,40.800000000000004,81.2,117.2,57.4,96.8,138.6,82.8],\"yaxis\":\"y\",\"type\":\"bar\"},{\"alignmentgroup\":\"True\",\"hovertemplate\":\"Location=SalmonGums<br>Month=%{x}<br>Total rainfall=%{y}<extra></extra>\",\"legendgroup\":\"SalmonGums\",\"marker\":{\"color\":\"#FFA15A\",\"pattern\":{\"shape\":\"\"}},\"name\":\"SalmonGums\",\"offsetgroup\":\"SalmonGums\",\"orientation\":\"v\",\"showlegend\":true,\"textposition\":\"auto\",\"x\":[1,2,3,4,5,6,7,8,9,10,11,12],\"xaxis\":\"x\",\"y\":[98.6,37.8,32.6,1.4,45.4,57.2,79.2,55.4,78.4,98.2,50.0,37.0],\"yaxis\":\"y\",\"type\":\"bar\"},{\"alignmentgroup\":\"True\",\"hovertemplate\":\"Location=Sydney<br>Month=%{x}<br>Total rainfall=%{y}<extra></extra>\",\"legendgroup\":\"Sydney\",\"marker\":{\"color\":\"#19d3f3\",\"pattern\":{\"shape\":\"\"}},\"name\":\"Sydney\",\"offsetgroup\":\"Sydney\",\"orientation\":\"v\",\"showlegend\":true,\"textposition\":\"auto\",\"x\":[1,2,3,4,5,6,7,8,9,10,11,12],\"xaxis\":\"x\",\"y\":[238.6,496.40000000000003,279.4,216.6,183.4,332.0,420.8,79.6,151.0,209.6,268.6,144.4],\"yaxis\":\"y\",\"type\":\"bar\"},{\"alignmentgroup\":\"True\",\"hovertemplate\":\"Location=SydneyAirport<br>Month=%{x}<br>Total rainfall=%{y}<extra></extra>\",\"legendgroup\":\"SydneyAirport\",\"marker\":{\"color\":\"#FF6692\",\"pattern\":{\"shape\":\"\"}},\"name\":\"SydneyAirport\",\"offsetgroup\":\"SydneyAirport\",\"orientation\":\"v\",\"showlegend\":true,\"textposition\":\"auto\",\"x\":[1,2,3,4,5,6,7,8,9,10,11,12],\"xaxis\":\"x\",\"y\":[167.2,218.2,162.8,130.4,344.59999999999997,169.0,251.4,66.0,59.4,146.6,181.6,214.0],\"yaxis\":\"y\",\"type\":\"bar\"},{\"alignmentgroup\":\"True\",\"hovertemplate\":\"Location=Townsville<br>Month=%{x}<br>Total rainfall=%{y}<extra></extra>\",\"legendgroup\":\"Townsville\",\"marker\":{\"color\":\"#B6E880\",\"pattern\":{\"shape\":\"\"}},\"name\":\"Townsville\",\"offsetgroup\":\"Townsville\",\"orientation\":\"v\",\"showlegend\":true,\"textposition\":\"auto\",\"x\":[1,2,3,4,5,6,7,8,9,10,11,12],\"xaxis\":\"x\",\"y\":[907.2,1033.2,668.4,75.2,28.2,20.4,1.4,51.4,74.8,44.4,132.2,737.2],\"yaxis\":\"y\",\"type\":\"bar\"},{\"alignmentgroup\":\"True\",\"hovertemplate\":\"Location=Tuggeranong<br>Month=%{x}<br>Total rainfall=%{y}<extra></extra>\",\"legendgroup\":\"Tuggeranong\",\"marker\":{\"color\":\"#FF97FF\",\"pattern\":{\"shape\":\"\"}},\"name\":\"Tuggeranong\",\"offsetgroup\":\"Tuggeranong\",\"orientation\":\"v\",\"showlegend\":true,\"textposition\":\"auto\",\"x\":[1,2,3,4,5,6,7,8,9,10,11,12],\"xaxis\":\"x\",\"y\":[149.4,324.2,151.0,70.4,10.4,62.199999999999996,109.6,81.2,135.8,225.4,323.0,508.6],\"yaxis\":\"y\",\"type\":\"bar\"},{\"alignmentgroup\":\"True\",\"hovertemplate\":\"Location=WaggaWagga<br>Month=%{x}<br>Total rainfall=%{y}<extra></extra>\",\"legendgroup\":\"WaggaWagga\",\"marker\":{\"color\":\"#FECB52\",\"pattern\":{\"shape\":\"\"}},\"name\":\"WaggaWagga\",\"offsetgroup\":\"WaggaWagga\",\"orientation\":\"v\",\"showlegend\":true,\"textposition\":\"auto\",\"x\":[1,2,3,4,5,6,7,8,9,10,11,12],\"xaxis\":\"x\",\"y\":[55.4,146.6,139.2,52.8,85.39999999999999,88.2,64.6,111.2,89.60000000000001,174.4,184.4,207.0],\"yaxis\":\"y\",\"type\":\"bar\"},{\"alignmentgroup\":\"True\",\"hovertemplate\":\"Location=Walpole<br>Month=%{x}<br>Total rainfall=%{y}<extra></extra>\",\"legendgroup\":\"Walpole\",\"marker\":{\"color\":\"#636efa\",\"pattern\":{\"shape\":\"\"}},\"name\":\"Walpole\",\"offsetgroup\":\"Walpole\",\"orientation\":\"v\",\"showlegend\":true,\"textposition\":\"auto\",\"x\":[1,2,3,4,5,6,7,8,9,10,11,12],\"xaxis\":\"x\",\"y\":[119.6,58.6,52.0,27.4,266.6,290.2,401.6,148.8,177.6,153.2,136.8,45.4],\"yaxis\":\"y\",\"type\":\"bar\"},{\"alignmentgroup\":\"True\",\"hovertemplate\":\"Location=Watsonia<br>Month=%{x}<br>Total rainfall=%{y}<extra></extra>\",\"legendgroup\":\"Watsonia\",\"marker\":{\"color\":\"#EF553B\",\"pattern\":{\"shape\":\"\"}},\"name\":\"Watsonia\",\"offsetgroup\":\"Watsonia\",\"orientation\":\"v\",\"showlegend\":true,\"textposition\":\"auto\",\"x\":[1,2,3,4,5,6,7,8,9,10,11,12],\"xaxis\":\"x\",\"y\":[103.39999999999999,160.0,94.0,67.4,103.60000000000001,143.8,109.2,123.6,119.4,84.8,195.8,75.0],\"yaxis\":\"y\",\"type\":\"bar\"},{\"alignmentgroup\":\"True\",\"hovertemplate\":\"Location=Williamtown<br>Month=%{x}<br>Total rainfall=%{y}<extra></extra>\",\"legendgroup\":\"Williamtown\",\"marker\":{\"color\":\"#00cc96\",\"pattern\":{\"shape\":\"\"}},\"name\":\"Williamtown\",\"offsetgroup\":\"Williamtown\",\"orientation\":\"v\",\"showlegend\":true,\"textposition\":\"auto\",\"x\":[1,2,3,4,5,6,7,8,9,10,11,12],\"xaxis\":\"x\",\"y\":[127.8,145.0,184.0,133.4,376.0,295.6,199.60000000000002,64.2,122.80000000000001,182.6,145.0,135.0],\"yaxis\":\"y\",\"type\":\"bar\"},{\"alignmentgroup\":\"True\",\"hovertemplate\":\"Location=Witchcliffe<br>Month=%{x}<br>Total rainfall=%{y}<extra></extra>\",\"legendgroup\":\"Witchcliffe\",\"marker\":{\"color\":\"#ab63fa\",\"pattern\":{\"shape\":\"\"}},\"name\":\"Witchcliffe\",\"offsetgroup\":\"Witchcliffe\",\"orientation\":\"v\",\"showlegend\":true,\"textposition\":\"auto\",\"x\":[1,2,3,4,5,6,7,8,9,10,11,12],\"xaxis\":\"x\",\"y\":[9.2,3.0,24.0,78.6,314.4,269.6,474.6,378.0,227.0,98.0,86.4,30.6],\"yaxis\":\"y\",\"type\":\"bar\"},{\"alignmentgroup\":\"True\",\"hovertemplate\":\"Location=Wollongong<br>Month=%{x}<br>Total rainfall=%{y}<extra></extra>\",\"legendgroup\":\"Wollongong\",\"marker\":{\"color\":\"#FFA15A\",\"pattern\":{\"shape\":\"\"}},\"name\":\"Wollongong\",\"offsetgroup\":\"Wollongong\",\"orientation\":\"v\",\"showlegend\":true,\"textposition\":\"auto\",\"x\":[1,2,3,4,5,6,7,8,9,10,11,12],\"xaxis\":\"x\",\"y\":[191.0,131.4,372.8,132.6,137.6,185.6,296.4,51.4,83.6,196.4,109.0,258.6],\"yaxis\":\"y\",\"type\":\"bar\"},{\"alignmentgroup\":\"True\",\"hovertemplate\":\"Location=Woomera<br>Month=%{x}<br>Total rainfall=%{y}<extra></extra>\",\"legendgroup\":\"Woomera\",\"marker\":{\"color\":\"#19d3f3\",\"pattern\":{\"shape\":\"\"}},\"name\":\"Woomera\",\"offsetgroup\":\"Woomera\",\"orientation\":\"v\",\"showlegend\":true,\"textposition\":\"auto\",\"x\":[1,2,3,4,5,6,7,8,9,10,11,12],\"xaxis\":\"x\",\"y\":[3.4000000000000004,116.4,8.2,46.2,47.4,17.2,37.4,20.2,28.0,58.0,57.0,41.0],\"yaxis\":\"y\",\"type\":\"bar\"}],                        {\"template\":{\"data\":{\"histogram2dcontour\":[{\"type\":\"histogram2dcontour\",\"colorbar\":{\"outlinewidth\":0,\"ticks\":\"\"},\"colorscale\":[[0.0,\"#0d0887\"],[0.1111111111111111,\"#46039f\"],[0.2222222222222222,\"#7201a8\"],[0.3333333333333333,\"#9c179e\"],[0.4444444444444444,\"#bd3786\"],[0.5555555555555556,\"#d8576b\"],[0.6666666666666666,\"#ed7953\"],[0.7777777777777778,\"#fb9f3a\"],[0.8888888888888888,\"#fdca26\"],[1.0,\"#f0f921\"]]}],\"choropleth\":[{\"type\":\"choropleth\",\"colorbar\":{\"outlinewidth\":0,\"ticks\":\"\"}}],\"histogram2d\":[{\"type\":\"histogram2d\",\"colorbar\":{\"outlinewidth\":0,\"ticks\":\"\"},\"colorscale\":[[0.0,\"#0d0887\"],[0.1111111111111111,\"#46039f\"],[0.2222222222222222,\"#7201a8\"],[0.3333333333333333,\"#9c179e\"],[0.4444444444444444,\"#bd3786\"],[0.5555555555555556,\"#d8576b\"],[0.6666666666666666,\"#ed7953\"],[0.7777777777777778,\"#fb9f3a\"],[0.8888888888888888,\"#fdca26\"],[1.0,\"#f0f921\"]]}],\"heatmap\":[{\"type\":\"heatmap\",\"colorbar\":{\"outlinewidth\":0,\"ticks\":\"\"},\"colorscale\":[[0.0,\"#0d0887\"],[0.1111111111111111,\"#46039f\"],[0.2222222222222222,\"#7201a8\"],[0.3333333333333333,\"#9c179e\"],[0.4444444444444444,\"#bd3786\"],[0.5555555555555556,\"#d8576b\"],[0.6666666666666666,\"#ed7953\"],[0.7777777777777778,\"#fb9f3a\"],[0.8888888888888888,\"#fdca26\"],[1.0,\"#f0f921\"]]}],\"heatmapgl\":[{\"type\":\"heatmapgl\",\"colorbar\":{\"outlinewidth\":0,\"ticks\":\"\"},\"colorscale\":[[0.0,\"#0d0887\"],[0.1111111111111111,\"#46039f\"],[0.2222222222222222,\"#7201a8\"],[0.3333333333333333,\"#9c179e\"],[0.4444444444444444,\"#bd3786\"],[0.5555555555555556,\"#d8576b\"],[0.6666666666666666,\"#ed7953\"],[0.7777777777777778,\"#fb9f3a\"],[0.8888888888888888,\"#fdca26\"],[1.0,\"#f0f921\"]]}],\"contourcarpet\":[{\"type\":\"contourcarpet\",\"colorbar\":{\"outlinewidth\":0,\"ticks\":\"\"}}],\"contour\":[{\"type\":\"contour\",\"colorbar\":{\"outlinewidth\":0,\"ticks\":\"\"},\"colorscale\":[[0.0,\"#0d0887\"],[0.1111111111111111,\"#46039f\"],[0.2222222222222222,\"#7201a8\"],[0.3333333333333333,\"#9c179e\"],[0.4444444444444444,\"#bd3786\"],[0.5555555555555556,\"#d8576b\"],[0.6666666666666666,\"#ed7953\"],[0.7777777777777778,\"#fb9f3a\"],[0.8888888888888888,\"#fdca26\"],[1.0,\"#f0f921\"]]}],\"surface\":[{\"type\":\"surface\",\"colorbar\":{\"outlinewidth\":0,\"ticks\":\"\"},\"colorscale\":[[0.0,\"#0d0887\"],[0.1111111111111111,\"#46039f\"],[0.2222222222222222,\"#7201a8\"],[0.3333333333333333,\"#9c179e\"],[0.4444444444444444,\"#bd3786\"],[0.5555555555555556,\"#d8576b\"],[0.6666666666666666,\"#ed7953\"],[0.7777777777777778,\"#fb9f3a\"],[0.8888888888888888,\"#fdca26\"],[1.0,\"#f0f921\"]]}],\"mesh3d\":[{\"type\":\"mesh3d\",\"colorbar\":{\"outlinewidth\":0,\"ticks\":\"\"}}],\"scatter\":[{\"fillpattern\":{\"fillmode\":\"overlay\",\"size\":10,\"solidity\":0.2},\"type\":\"scatter\"}],\"parcoords\":[{\"type\":\"parcoords\",\"line\":{\"colorbar\":{\"outlinewidth\":0,\"ticks\":\"\"}}}],\"scatterpolargl\":[{\"type\":\"scatterpolargl\",\"marker\":{\"colorbar\":{\"outlinewidth\":0,\"ticks\":\"\"}}}],\"bar\":[{\"error_x\":{\"color\":\"#2a3f5f\"},\"error_y\":{\"color\":\"#2a3f5f\"},\"marker\":{\"line\":{\"color\":\"#E5ECF6\",\"width\":0.5},\"pattern\":{\"fillmode\":\"overlay\",\"size\":10,\"solidity\":0.2}},\"type\":\"bar\"}],\"scattergeo\":[{\"type\":\"scattergeo\",\"marker\":{\"colorbar\":{\"outlinewidth\":0,\"ticks\":\"\"}}}],\"scatterpolar\":[{\"type\":\"scatterpolar\",\"marker\":{\"colorbar\":{\"outlinewidth\":0,\"ticks\":\"\"}}}],\"histogram\":[{\"marker\":{\"pattern\":{\"fillmode\":\"overlay\",\"size\":10,\"solidity\":0.2}},\"type\":\"histogram\"}],\"scattergl\":[{\"type\":\"scattergl\",\"marker\":{\"colorbar\":{\"outlinewidth\":0,\"ticks\":\"\"}}}],\"scatter3d\":[{\"type\":\"scatter3d\",\"line\":{\"colorbar\":{\"outlinewidth\":0,\"ticks\":\"\"}},\"marker\":{\"colorbar\":{\"outlinewidth\":0,\"ticks\":\"\"}}}],\"scattermapbox\":[{\"type\":\"scattermapbox\",\"marker\":{\"colorbar\":{\"outlinewidth\":0,\"ticks\":\"\"}}}],\"scatterternary\":[{\"type\":\"scatterternary\",\"marker\":{\"colorbar\":{\"outlinewidth\":0,\"ticks\":\"\"}}}],\"scattercarpet\":[{\"type\":\"scattercarpet\",\"marker\":{\"colorbar\":{\"outlinewidth\":0,\"ticks\":\"\"}}}],\"carpet\":[{\"aaxis\":{\"endlinecolor\":\"#2a3f5f\",\"gridcolor\":\"white\",\"linecolor\":\"white\",\"minorgridcolor\":\"white\",\"startlinecolor\":\"#2a3f5f\"},\"baxis\":{\"endlinecolor\":\"#2a3f5f\",\"gridcolor\":\"white\",\"linecolor\":\"white\",\"minorgridcolor\":\"white\",\"startlinecolor\":\"#2a3f5f\"},\"type\":\"carpet\"}],\"table\":[{\"cells\":{\"fill\":{\"color\":\"#EBF0F8\"},\"line\":{\"color\":\"white\"}},\"header\":{\"fill\":{\"color\":\"#C8D4E3\"},\"line\":{\"color\":\"white\"}},\"type\":\"table\"}],\"barpolar\":[{\"marker\":{\"line\":{\"color\":\"#E5ECF6\",\"width\":0.5},\"pattern\":{\"fillmode\":\"overlay\",\"size\":10,\"solidity\":0.2}},\"type\":\"barpolar\"}],\"pie\":[{\"automargin\":true,\"type\":\"pie\"}]},\"layout\":{\"autotypenumbers\":\"strict\",\"colorway\":[\"#636efa\",\"#EF553B\",\"#00cc96\",\"#ab63fa\",\"#FFA15A\",\"#19d3f3\",\"#FF6692\",\"#B6E880\",\"#FF97FF\",\"#FECB52\"],\"font\":{\"color\":\"#2a3f5f\"},\"hovermode\":\"closest\",\"hoverlabel\":{\"align\":\"left\"},\"paper_bgcolor\":\"white\",\"plot_bgcolor\":\"#E5ECF6\",\"polar\":{\"bgcolor\":\"#E5ECF6\",\"angularaxis\":{\"gridcolor\":\"white\",\"linecolor\":\"white\",\"ticks\":\"\"},\"radialaxis\":{\"gridcolor\":\"white\",\"linecolor\":\"white\",\"ticks\":\"\"}},\"ternary\":{\"bgcolor\":\"#E5ECF6\",\"aaxis\":{\"gridcolor\":\"white\",\"linecolor\":\"white\",\"ticks\":\"\"},\"baxis\":{\"gridcolor\":\"white\",\"linecolor\":\"white\",\"ticks\":\"\"},\"caxis\":{\"gridcolor\":\"white\",\"linecolor\":\"white\",\"ticks\":\"\"}},\"coloraxis\":{\"colorbar\":{\"outlinewidth\":0,\"ticks\":\"\"}},\"colorscale\":{\"sequential\":[[0.0,\"#0d0887\"],[0.1111111111111111,\"#46039f\"],[0.2222222222222222,\"#7201a8\"],[0.3333333333333333,\"#9c179e\"],[0.4444444444444444,\"#bd3786\"],[0.5555555555555556,\"#d8576b\"],[0.6666666666666666,\"#ed7953\"],[0.7777777777777778,\"#fb9f3a\"],[0.8888888888888888,\"#fdca26\"],[1.0,\"#f0f921\"]],\"sequentialminus\":[[0.0,\"#0d0887\"],[0.1111111111111111,\"#46039f\"],[0.2222222222222222,\"#7201a8\"],[0.3333333333333333,\"#9c179e\"],[0.4444444444444444,\"#bd3786\"],[0.5555555555555556,\"#d8576b\"],[0.6666666666666666,\"#ed7953\"],[0.7777777777777778,\"#fb9f3a\"],[0.8888888888888888,\"#fdca26\"],[1.0,\"#f0f921\"]],\"diverging\":[[0,\"#8e0152\"],[0.1,\"#c51b7d\"],[0.2,\"#de77ae\"],[0.3,\"#f1b6da\"],[0.4,\"#fde0ef\"],[0.5,\"#f7f7f7\"],[0.6,\"#e6f5d0\"],[0.7,\"#b8e186\"],[0.8,\"#7fbc41\"],[0.9,\"#4d9221\"],[1,\"#276419\"]]},\"xaxis\":{\"gridcolor\":\"white\",\"linecolor\":\"white\",\"ticks\":\"\",\"title\":{\"standoff\":15},\"zerolinecolor\":\"white\",\"automargin\":true,\"zerolinewidth\":2},\"yaxis\":{\"gridcolor\":\"white\",\"linecolor\":\"white\",\"ticks\":\"\",\"title\":{\"standoff\":15},\"zerolinecolor\":\"white\",\"automargin\":true,\"zerolinewidth\":2},\"scene\":{\"xaxis\":{\"backgroundcolor\":\"#E5ECF6\",\"gridcolor\":\"white\",\"linecolor\":\"white\",\"showbackground\":true,\"ticks\":\"\",\"zerolinecolor\":\"white\",\"gridwidth\":2},\"yaxis\":{\"backgroundcolor\":\"#E5ECF6\",\"gridcolor\":\"white\",\"linecolor\":\"white\",\"showbackground\":true,\"ticks\":\"\",\"zerolinecolor\":\"white\",\"gridwidth\":2},\"zaxis\":{\"backgroundcolor\":\"#E5ECF6\",\"gridcolor\":\"white\",\"linecolor\":\"white\",\"showbackground\":true,\"ticks\":\"\",\"zerolinecolor\":\"white\",\"gridwidth\":2}},\"shapedefaults\":{\"line\":{\"color\":\"#2a3f5f\"}},\"annotationdefaults\":{\"arrowcolor\":\"#2a3f5f\",\"arrowhead\":0,\"arrowwidth\":1},\"geo\":{\"bgcolor\":\"white\",\"landcolor\":\"#E5ECF6\",\"subunitcolor\":\"white\",\"showland\":true,\"showlakes\":true,\"lakecolor\":\"white\"},\"title\":{\"x\":0.05},\"mapbox\":{\"style\":\"light\"}}},\"xaxis\":{\"anchor\":\"y\",\"domain\":[0.0,1.0],\"title\":{\"text\":\"Month\"}},\"yaxis\":{\"anchor\":\"x\",\"domain\":[0.0,1.0],\"title\":{\"text\":\"Total rainfall\"}},\"legend\":{\"title\":{\"text\":\"Location\"},\"tracegroupgap\":0},\"title\":{\"text\":\"Total rainfall by city\"},\"barmode\":\"relative\",\"height\":400},                        {\"responsive\": true}                    ).then(function(){\n",
       "                            \n",
       "var gd = document.getElementById('17cb1d2d-1d25-48eb-962f-a8819be92e76');\n",
       "var x = new MutationObserver(function (mutations, observer) {{\n",
       "        var display = window.getComputedStyle(gd).display;\n",
       "        if (!display || display === 'none') {{\n",
       "            console.log([gd, 'removed!']);\n",
       "            Plotly.purge(gd);\n",
       "            observer.disconnect();\n",
       "        }}\n",
       "}});\n",
       "\n",
       "// Listen for the removal of the full notebook cells\n",
       "var notebookContainer = gd.closest('#notebook-container');\n",
       "if (notebookContainer) {{\n",
       "    x.observe(notebookContainer, {childList: true});\n",
       "}}\n",
       "\n",
       "// Listen for the clearing of the current output cell\n",
       "var outputEl = gd.closest('.output');\n",
       "if (outputEl) {{\n",
       "    x.observe(outputEl, {childList: true});\n",
       "}}\n",
       "\n",
       "                        })                };                });            </script>        </div>"
      ]
     },
     "metadata": {},
     "output_type": "display_data"
    }
   ],
   "source": [
    "fig_rainfall = px.bar(\n",
    "    rainfall_loc_df, x=\"Month\", y=\"Rainfall\",\n",
    "    labels={\"Rainfall\": \"Total rainfall\"},\n",
    "    height=400,\n",
    "    color=\"Location\",\n",
    "    title=\"Total rainfall by city\"\n",
    ")\n",
    "fig_rainfall.show()"
   ]
  },
  {
   "cell_type": "code",
   "execution_count": 51,
   "id": "7cc4c46e",
   "metadata": {},
   "outputs": [],
   "source": [
    "months = ['Jan', 'Feb', 'Mar', 'Apr', 'May', 'Jun',\n",
    "          'Jul', 'Aug', 'Sep', 'Oct', 'Nov', 'Dec']\n",
    "rainfall_loc_df[\"Month_\"] = rainfall_loc_df.Month.map(\n",
    "    lambda x: months[x - 1]\n",
    ")"
   ]
  },
  {
   "cell_type": "code",
   "execution_count": 56,
   "id": "72b32bf8",
   "metadata": {},
   "outputs": [],
   "source": [
    "min_temp_df = data.groupby('Location').agg({'MinTemp':'mean'}).reset_index()\n",
    "max_temp_df = data.groupby('Location').agg({'MaxTemp':'mean'}).reset_index()"
   ]
  },
  {
   "cell_type": "code",
   "execution_count": 57,
   "id": "9bfbaed3",
   "metadata": {},
   "outputs": [
    {
     "data": {
      "text/html": [
       "<div>\n",
       "<style scoped>\n",
       "    .dataframe tbody tr th:only-of-type {\n",
       "        vertical-align: middle;\n",
       "    }\n",
       "\n",
       "    .dataframe tbody tr th {\n",
       "        vertical-align: top;\n",
       "    }\n",
       "\n",
       "    .dataframe thead th {\n",
       "        text-align: right;\n",
       "    }\n",
       "</style>\n",
       "<table border=\"1\" class=\"dataframe\">\n",
       "  <thead>\n",
       "    <tr style=\"text-align: right;\">\n",
       "      <th></th>\n",
       "      <th>Location</th>\n",
       "      <th>MinTemp</th>\n",
       "    </tr>\n",
       "  </thead>\n",
       "  <tbody>\n",
       "    <tr>\n",
       "      <th>0</th>\n",
       "      <td>Adelaide</td>\n",
       "      <td>12.771477</td>\n",
       "    </tr>\n",
       "    <tr>\n",
       "      <th>1</th>\n",
       "      <td>Albany</td>\n",
       "      <td>12.879177</td>\n",
       "    </tr>\n",
       "    <tr>\n",
       "      <th>2</th>\n",
       "      <td>Albury</td>\n",
       "      <td>10.064654</td>\n",
       "    </tr>\n",
       "    <tr>\n",
       "      <th>3</th>\n",
       "      <td>AliceSprings</td>\n",
       "      <td>13.643687</td>\n",
       "    </tr>\n",
       "    <tr>\n",
       "      <th>4</th>\n",
       "      <td>BadgerysCreek</td>\n",
       "      <td>11.322716</td>\n",
       "    </tr>\n",
       "  </tbody>\n",
       "</table>\n",
       "</div>"
      ],
      "text/plain": [
       "        Location    MinTemp\n",
       "0       Adelaide  12.771477\n",
       "1         Albany  12.879177\n",
       "2         Albury  10.064654\n",
       "3   AliceSprings  13.643687\n",
       "4  BadgerysCreek  11.322716"
      ]
     },
     "execution_count": 57,
     "metadata": {},
     "output_type": "execute_result"
    }
   ],
   "source": [
    "min_temp_df.head()"
   ]
  },
  {
   "cell_type": "code",
   "execution_count": 67,
   "id": "5d10f199",
   "metadata": {},
   "outputs": [
    {
     "data": {
      "application/vnd.plotly.v1+json": {
       "config": {
        "plotlyServerURL": "https://plot.ly"
       },
       "data": [
        {
         "marker": {
          "color": "indianred"
         },
         "name": "Minimum temperature",
         "type": "bar",
         "x": [
          "Adelaide",
          "Albany",
          "Albury",
          "AliceSprings",
          "BadgerysCreek",
          "Ballarat",
          "Bendigo",
          "Brisbane",
          "Cairns",
          "Canberra",
          "Cobar",
          "CoffsHarbour",
          "Dartmoor",
          "Darwin",
          "GoldCoast",
          "Hobart",
          "Launceston",
          "Melbourne",
          "MelbourneAirport",
          "Mildura",
          "Moree",
          "MountGambier",
          "MountGinini",
          "Newcastle",
          "NorahHead",
          "NorfolkIsland",
          "Nuriootpa",
          "PearceRAAF",
          "Penrith",
          "Perth",
          "PerthAirport",
          "Portland",
          "Richmond",
          "Sale",
          "SalmonGums",
          "Sydney",
          "SydneyAirport",
          "Townsville",
          "Tuggeranong",
          "WaggaWagga",
          "Walpole",
          "Watsonia",
          "Williamtown",
          "Witchcliffe",
          "Wollongong",
          "Woomera"
         ],
         "y": [
          12.771476888387824,
          12.879177057356609,
          10.064654088050315,
          13.643686868686867,
          11.322715736040609,
          7.364083640836409,
          8.611590628853268,
          16.19729425028185,
          21.351677018633538,
          7.3837788018433175,
          13.074442988204455,
          14.3759477124183,
          8.947688243064729,
          23.227241770715096,
          17.342471042471043,
          8.837290033594625,
          8.079622641509435,
          11.94137168141593,
          10.017958656330748,
          11.007412223667101,
          12.808322824716267,
          8.82610340479193,
          4.104562737642586,
          14.094757033248083,
          15.257788944723618,
          16.95661375661376,
          9.779232804232805,
          12.636566186107471,
          12.6348,
          12.831479421579532,
          12.526422764227643,
          9.544954128440367,
          11.611183355006501,
          8.428016085790885,
          9.581686429512516,
          14.894129763130794,
          15.085767790262173,
          20.3002574002574,
          7.877237851662404,
          9.871258278145696,
          11.953255208333333,
          10.17139072847682,
          12.9544080604534,
          10.72078431372549,
          14.896409574468086,
          13.53289817232376
         ]
        },
        {
         "marker": {
          "color": "lightsalmon"
         },
         "name": "Maximum temperature",
         "type": "bar",
         "x": [
          "Adelaide",
          "Albany",
          "Albury",
          "AliceSprings",
          "BadgerysCreek",
          "Ballarat",
          "Bendigo",
          "Brisbane",
          "Cairns",
          "Canberra",
          "Cobar",
          "CoffsHarbour",
          "Dartmoor",
          "Darwin",
          "GoldCoast",
          "Hobart",
          "Launceston",
          "Melbourne",
          "MelbourneAirport",
          "Mildura",
          "Moree",
          "MountGambier",
          "MountGinini",
          "Newcastle",
          "NorahHead",
          "NorfolkIsland",
          "Nuriootpa",
          "PearceRAAF",
          "Penrith",
          "Perth",
          "PerthAirport",
          "Portland",
          "Richmond",
          "Sale",
          "SalmonGums",
          "Sydney",
          "SydneyAirport",
          "Townsville",
          "Tuggeranong",
          "WaggaWagga",
          "Walpole",
          "Watsonia",
          "Williamtown",
          "Witchcliffe",
          "Wollongong",
          "Woomera"
         ],
         "y": [
          22.650958286358513,
          19.92581047381546,
          22.982767295597483,
          28.74280303030303,
          24.02030456852792,
          18.184255842558425,
          21.63403205918619,
          26.000789177001128,
          29.629813664596274,
          20.773917050691246,
          25.4437745740498,
          23.603921568627452,
          19.5443857331572,
          32.441203178206585,
          25.8007722007722,
          17.62340425531915,
          19.015094339622642,
          21.001438053097345,
          20.33139534883721,
          24.634330299089726,
          26.434678436317782,
          19.802900378310216,
          11.87490494296578,
          24.185677749360615,
          22.2964824120603,
          21.793915343915344,
          21.700661375661376,
          25.977588466579295,
          24.76826666666667,
          24.993993325917685,
          25.829132791327915,
          17.909174311926606,
          24.106631989596877,
          20.39812332439678,
          24.385375494071145,
          22.638105046343973,
          23.142946317103622,
          29.199613899613897,
          20.95076726342711,
          23.127417218543048,
          20.767057291666667,
          20.97271523178808,
          24.048740554156172,
          22.061437908496732,
          21.30970744680851,
          26.600783289817233
         ]
        }
       ],
       "layout": {
        "template": {
         "data": {
          "bar": [
           {
            "error_x": {
             "color": "#2a3f5f"
            },
            "error_y": {
             "color": "#2a3f5f"
            },
            "marker": {
             "line": {
              "color": "#E5ECF6",
              "width": 0.5
             },
             "pattern": {
              "fillmode": "overlay",
              "size": 10,
              "solidity": 0.2
             }
            },
            "type": "bar"
           }
          ],
          "barpolar": [
           {
            "marker": {
             "line": {
              "color": "#E5ECF6",
              "width": 0.5
             },
             "pattern": {
              "fillmode": "overlay",
              "size": 10,
              "solidity": 0.2
             }
            },
            "type": "barpolar"
           }
          ],
          "carpet": [
           {
            "aaxis": {
             "endlinecolor": "#2a3f5f",
             "gridcolor": "white",
             "linecolor": "white",
             "minorgridcolor": "white",
             "startlinecolor": "#2a3f5f"
            },
            "baxis": {
             "endlinecolor": "#2a3f5f",
             "gridcolor": "white",
             "linecolor": "white",
             "minorgridcolor": "white",
             "startlinecolor": "#2a3f5f"
            },
            "type": "carpet"
           }
          ],
          "choropleth": [
           {
            "colorbar": {
             "outlinewidth": 0,
             "ticks": ""
            },
            "type": "choropleth"
           }
          ],
          "contour": [
           {
            "colorbar": {
             "outlinewidth": 0,
             "ticks": ""
            },
            "colorscale": [
             [
              0,
              "#0d0887"
             ],
             [
              0.1111111111111111,
              "#46039f"
             ],
             [
              0.2222222222222222,
              "#7201a8"
             ],
             [
              0.3333333333333333,
              "#9c179e"
             ],
             [
              0.4444444444444444,
              "#bd3786"
             ],
             [
              0.5555555555555556,
              "#d8576b"
             ],
             [
              0.6666666666666666,
              "#ed7953"
             ],
             [
              0.7777777777777778,
              "#fb9f3a"
             ],
             [
              0.8888888888888888,
              "#fdca26"
             ],
             [
              1,
              "#f0f921"
             ]
            ],
            "type": "contour"
           }
          ],
          "contourcarpet": [
           {
            "colorbar": {
             "outlinewidth": 0,
             "ticks": ""
            },
            "type": "contourcarpet"
           }
          ],
          "heatmap": [
           {
            "colorbar": {
             "outlinewidth": 0,
             "ticks": ""
            },
            "colorscale": [
             [
              0,
              "#0d0887"
             ],
             [
              0.1111111111111111,
              "#46039f"
             ],
             [
              0.2222222222222222,
              "#7201a8"
             ],
             [
              0.3333333333333333,
              "#9c179e"
             ],
             [
              0.4444444444444444,
              "#bd3786"
             ],
             [
              0.5555555555555556,
              "#d8576b"
             ],
             [
              0.6666666666666666,
              "#ed7953"
             ],
             [
              0.7777777777777778,
              "#fb9f3a"
             ],
             [
              0.8888888888888888,
              "#fdca26"
             ],
             [
              1,
              "#f0f921"
             ]
            ],
            "type": "heatmap"
           }
          ],
          "heatmapgl": [
           {
            "colorbar": {
             "outlinewidth": 0,
             "ticks": ""
            },
            "colorscale": [
             [
              0,
              "#0d0887"
             ],
             [
              0.1111111111111111,
              "#46039f"
             ],
             [
              0.2222222222222222,
              "#7201a8"
             ],
             [
              0.3333333333333333,
              "#9c179e"
             ],
             [
              0.4444444444444444,
              "#bd3786"
             ],
             [
              0.5555555555555556,
              "#d8576b"
             ],
             [
              0.6666666666666666,
              "#ed7953"
             ],
             [
              0.7777777777777778,
              "#fb9f3a"
             ],
             [
              0.8888888888888888,
              "#fdca26"
             ],
             [
              1,
              "#f0f921"
             ]
            ],
            "type": "heatmapgl"
           }
          ],
          "histogram": [
           {
            "marker": {
             "pattern": {
              "fillmode": "overlay",
              "size": 10,
              "solidity": 0.2
             }
            },
            "type": "histogram"
           }
          ],
          "histogram2d": [
           {
            "colorbar": {
             "outlinewidth": 0,
             "ticks": ""
            },
            "colorscale": [
             [
              0,
              "#0d0887"
             ],
             [
              0.1111111111111111,
              "#46039f"
             ],
             [
              0.2222222222222222,
              "#7201a8"
             ],
             [
              0.3333333333333333,
              "#9c179e"
             ],
             [
              0.4444444444444444,
              "#bd3786"
             ],
             [
              0.5555555555555556,
              "#d8576b"
             ],
             [
              0.6666666666666666,
              "#ed7953"
             ],
             [
              0.7777777777777778,
              "#fb9f3a"
             ],
             [
              0.8888888888888888,
              "#fdca26"
             ],
             [
              1,
              "#f0f921"
             ]
            ],
            "type": "histogram2d"
           }
          ],
          "histogram2dcontour": [
           {
            "colorbar": {
             "outlinewidth": 0,
             "ticks": ""
            },
            "colorscale": [
             [
              0,
              "#0d0887"
             ],
             [
              0.1111111111111111,
              "#46039f"
             ],
             [
              0.2222222222222222,
              "#7201a8"
             ],
             [
              0.3333333333333333,
              "#9c179e"
             ],
             [
              0.4444444444444444,
              "#bd3786"
             ],
             [
              0.5555555555555556,
              "#d8576b"
             ],
             [
              0.6666666666666666,
              "#ed7953"
             ],
             [
              0.7777777777777778,
              "#fb9f3a"
             ],
             [
              0.8888888888888888,
              "#fdca26"
             ],
             [
              1,
              "#f0f921"
             ]
            ],
            "type": "histogram2dcontour"
           }
          ],
          "mesh3d": [
           {
            "colorbar": {
             "outlinewidth": 0,
             "ticks": ""
            },
            "type": "mesh3d"
           }
          ],
          "parcoords": [
           {
            "line": {
             "colorbar": {
              "outlinewidth": 0,
              "ticks": ""
             }
            },
            "type": "parcoords"
           }
          ],
          "pie": [
           {
            "automargin": true,
            "type": "pie"
           }
          ],
          "scatter": [
           {
            "fillpattern": {
             "fillmode": "overlay",
             "size": 10,
             "solidity": 0.2
            },
            "type": "scatter"
           }
          ],
          "scatter3d": [
           {
            "line": {
             "colorbar": {
              "outlinewidth": 0,
              "ticks": ""
             }
            },
            "marker": {
             "colorbar": {
              "outlinewidth": 0,
              "ticks": ""
             }
            },
            "type": "scatter3d"
           }
          ],
          "scattercarpet": [
           {
            "marker": {
             "colorbar": {
              "outlinewidth": 0,
              "ticks": ""
             }
            },
            "type": "scattercarpet"
           }
          ],
          "scattergeo": [
           {
            "marker": {
             "colorbar": {
              "outlinewidth": 0,
              "ticks": ""
             }
            },
            "type": "scattergeo"
           }
          ],
          "scattergl": [
           {
            "marker": {
             "colorbar": {
              "outlinewidth": 0,
              "ticks": ""
             }
            },
            "type": "scattergl"
           }
          ],
          "scattermapbox": [
           {
            "marker": {
             "colorbar": {
              "outlinewidth": 0,
              "ticks": ""
             }
            },
            "type": "scattermapbox"
           }
          ],
          "scatterpolar": [
           {
            "marker": {
             "colorbar": {
              "outlinewidth": 0,
              "ticks": ""
             }
            },
            "type": "scatterpolar"
           }
          ],
          "scatterpolargl": [
           {
            "marker": {
             "colorbar": {
              "outlinewidth": 0,
              "ticks": ""
             }
            },
            "type": "scatterpolargl"
           }
          ],
          "scatterternary": [
           {
            "marker": {
             "colorbar": {
              "outlinewidth": 0,
              "ticks": ""
             }
            },
            "type": "scatterternary"
           }
          ],
          "surface": [
           {
            "colorbar": {
             "outlinewidth": 0,
             "ticks": ""
            },
            "colorscale": [
             [
              0,
              "#0d0887"
             ],
             [
              0.1111111111111111,
              "#46039f"
             ],
             [
              0.2222222222222222,
              "#7201a8"
             ],
             [
              0.3333333333333333,
              "#9c179e"
             ],
             [
              0.4444444444444444,
              "#bd3786"
             ],
             [
              0.5555555555555556,
              "#d8576b"
             ],
             [
              0.6666666666666666,
              "#ed7953"
             ],
             [
              0.7777777777777778,
              "#fb9f3a"
             ],
             [
              0.8888888888888888,
              "#fdca26"
             ],
             [
              1,
              "#f0f921"
             ]
            ],
            "type": "surface"
           }
          ],
          "table": [
           {
            "cells": {
             "fill": {
              "color": "#EBF0F8"
             },
             "line": {
              "color": "white"
             }
            },
            "header": {
             "fill": {
              "color": "#C8D4E3"
             },
             "line": {
              "color": "white"
             }
            },
            "type": "table"
           }
          ]
         },
         "layout": {
          "annotationdefaults": {
           "arrowcolor": "#2a3f5f",
           "arrowhead": 0,
           "arrowwidth": 1
          },
          "autotypenumbers": "strict",
          "coloraxis": {
           "colorbar": {
            "outlinewidth": 0,
            "ticks": ""
           }
          },
          "colorscale": {
           "diverging": [
            [
             0,
             "#8e0152"
            ],
            [
             0.1,
             "#c51b7d"
            ],
            [
             0.2,
             "#de77ae"
            ],
            [
             0.3,
             "#f1b6da"
            ],
            [
             0.4,
             "#fde0ef"
            ],
            [
             0.5,
             "#f7f7f7"
            ],
            [
             0.6,
             "#e6f5d0"
            ],
            [
             0.7,
             "#b8e186"
            ],
            [
             0.8,
             "#7fbc41"
            ],
            [
             0.9,
             "#4d9221"
            ],
            [
             1,
             "#276419"
            ]
           ],
           "sequential": [
            [
             0,
             "#0d0887"
            ],
            [
             0.1111111111111111,
             "#46039f"
            ],
            [
             0.2222222222222222,
             "#7201a8"
            ],
            [
             0.3333333333333333,
             "#9c179e"
            ],
            [
             0.4444444444444444,
             "#bd3786"
            ],
            [
             0.5555555555555556,
             "#d8576b"
            ],
            [
             0.6666666666666666,
             "#ed7953"
            ],
            [
             0.7777777777777778,
             "#fb9f3a"
            ],
            [
             0.8888888888888888,
             "#fdca26"
            ],
            [
             1,
             "#f0f921"
            ]
           ],
           "sequentialminus": [
            [
             0,
             "#0d0887"
            ],
            [
             0.1111111111111111,
             "#46039f"
            ],
            [
             0.2222222222222222,
             "#7201a8"
            ],
            [
             0.3333333333333333,
             "#9c179e"
            ],
            [
             0.4444444444444444,
             "#bd3786"
            ],
            [
             0.5555555555555556,
             "#d8576b"
            ],
            [
             0.6666666666666666,
             "#ed7953"
            ],
            [
             0.7777777777777778,
             "#fb9f3a"
            ],
            [
             0.8888888888888888,
             "#fdca26"
            ],
            [
             1,
             "#f0f921"
            ]
           ]
          },
          "colorway": [
           "#636efa",
           "#EF553B",
           "#00cc96",
           "#ab63fa",
           "#FFA15A",
           "#19d3f3",
           "#FF6692",
           "#B6E880",
           "#FF97FF",
           "#FECB52"
          ],
          "font": {
           "color": "#2a3f5f"
          },
          "geo": {
           "bgcolor": "white",
           "lakecolor": "white",
           "landcolor": "#E5ECF6",
           "showlakes": true,
           "showland": true,
           "subunitcolor": "white"
          },
          "hoverlabel": {
           "align": "left"
          },
          "hovermode": "closest",
          "mapbox": {
           "style": "light"
          },
          "paper_bgcolor": "white",
          "plot_bgcolor": "#E5ECF6",
          "polar": {
           "angularaxis": {
            "gridcolor": "white",
            "linecolor": "white",
            "ticks": ""
           },
           "bgcolor": "#E5ECF6",
           "radialaxis": {
            "gridcolor": "white",
            "linecolor": "white",
            "ticks": ""
           }
          },
          "scene": {
           "xaxis": {
            "backgroundcolor": "#E5ECF6",
            "gridcolor": "white",
            "gridwidth": 2,
            "linecolor": "white",
            "showbackground": true,
            "ticks": "",
            "zerolinecolor": "white"
           },
           "yaxis": {
            "backgroundcolor": "#E5ECF6",
            "gridcolor": "white",
            "gridwidth": 2,
            "linecolor": "white",
            "showbackground": true,
            "ticks": "",
            "zerolinecolor": "white"
           },
           "zaxis": {
            "backgroundcolor": "#E5ECF6",
            "gridcolor": "white",
            "gridwidth": 2,
            "linecolor": "white",
            "showbackground": true,
            "ticks": "",
            "zerolinecolor": "white"
           }
          },
          "shapedefaults": {
           "line": {
            "color": "#2a3f5f"
           }
          },
          "ternary": {
           "aaxis": {
            "gridcolor": "white",
            "linecolor": "white",
            "ticks": ""
           },
           "baxis": {
            "gridcolor": "white",
            "linecolor": "white",
            "ticks": ""
           },
           "bgcolor": "#E5ECF6",
           "caxis": {
            "gridcolor": "white",
            "linecolor": "white",
            "ticks": ""
           }
          },
          "title": {
           "x": 0.05
          },
          "xaxis": {
           "automargin": true,
           "gridcolor": "white",
           "linecolor": "white",
           "ticks": "",
           "title": {
            "standoff": 15
           },
           "zerolinecolor": "white",
           "zerolinewidth": 2
          },
          "yaxis": {
           "automargin": true,
           "gridcolor": "white",
           "linecolor": "white",
           "ticks": "",
           "title": {
            "standoff": 15
           },
           "zerolinecolor": "white",
           "zerolinewidth": 2
          }
         }
        },
        "title": {
         "text": "City and Minumum/Maximum Rainfall"
        },
        "xaxis": {
         "title": {
          "text": "City"
         }
        },
        "yaxis": {
         "title": {
          "text": "Minimum/Maximum Rainfall"
         }
        }
       }
      },
      "text/html": [
       "<div>                            <div id=\"23b999d2-dade-4161-b871-0fa4f42dd593\" class=\"plotly-graph-div\" style=\"height:525px; width:100%;\"></div>            <script type=\"text/javascript\">                require([\"plotly\"], function(Plotly) {                    window.PLOTLYENV=window.PLOTLYENV || {};                                    if (document.getElementById(\"23b999d2-dade-4161-b871-0fa4f42dd593\")) {                    Plotly.newPlot(                        \"23b999d2-dade-4161-b871-0fa4f42dd593\",                        [{\"marker\":{\"color\":\"indianred\"},\"name\":\"Minimum temperature\",\"x\":[\"Adelaide\",\"Albany\",\"Albury\",\"AliceSprings\",\"BadgerysCreek\",\"Ballarat\",\"Bendigo\",\"Brisbane\",\"Cairns\",\"Canberra\",\"Cobar\",\"CoffsHarbour\",\"Dartmoor\",\"Darwin\",\"GoldCoast\",\"Hobart\",\"Launceston\",\"Melbourne\",\"MelbourneAirport\",\"Mildura\",\"Moree\",\"MountGambier\",\"MountGinini\",\"Newcastle\",\"NorahHead\",\"NorfolkIsland\",\"Nuriootpa\",\"PearceRAAF\",\"Penrith\",\"Perth\",\"PerthAirport\",\"Portland\",\"Richmond\",\"Sale\",\"SalmonGums\",\"Sydney\",\"SydneyAirport\",\"Townsville\",\"Tuggeranong\",\"WaggaWagga\",\"Walpole\",\"Watsonia\",\"Williamtown\",\"Witchcliffe\",\"Wollongong\",\"Woomera\"],\"y\":[12.771476888387824,12.879177057356609,10.064654088050315,13.643686868686867,11.322715736040609,7.364083640836409,8.611590628853268,16.19729425028185,21.351677018633538,7.3837788018433175,13.074442988204455,14.3759477124183,8.947688243064729,23.227241770715096,17.342471042471043,8.837290033594625,8.079622641509435,11.94137168141593,10.017958656330748,11.007412223667101,12.808322824716267,8.82610340479193,4.104562737642586,14.094757033248083,15.257788944723618,16.95661375661376,9.779232804232805,12.636566186107471,12.6348,12.831479421579532,12.526422764227643,9.544954128440367,11.611183355006501,8.428016085790885,9.581686429512516,14.894129763130794,15.085767790262173,20.3002574002574,7.877237851662404,9.871258278145696,11.953255208333333,10.17139072847682,12.9544080604534,10.72078431372549,14.896409574468086,13.53289817232376],\"type\":\"bar\"},{\"marker\":{\"color\":\"lightsalmon\"},\"name\":\"Maximum temperature\",\"x\":[\"Adelaide\",\"Albany\",\"Albury\",\"AliceSprings\",\"BadgerysCreek\",\"Ballarat\",\"Bendigo\",\"Brisbane\",\"Cairns\",\"Canberra\",\"Cobar\",\"CoffsHarbour\",\"Dartmoor\",\"Darwin\",\"GoldCoast\",\"Hobart\",\"Launceston\",\"Melbourne\",\"MelbourneAirport\",\"Mildura\",\"Moree\",\"MountGambier\",\"MountGinini\",\"Newcastle\",\"NorahHead\",\"NorfolkIsland\",\"Nuriootpa\",\"PearceRAAF\",\"Penrith\",\"Perth\",\"PerthAirport\",\"Portland\",\"Richmond\",\"Sale\",\"SalmonGums\",\"Sydney\",\"SydneyAirport\",\"Townsville\",\"Tuggeranong\",\"WaggaWagga\",\"Walpole\",\"Watsonia\",\"Williamtown\",\"Witchcliffe\",\"Wollongong\",\"Woomera\"],\"y\":[22.650958286358513,19.92581047381546,22.982767295597483,28.74280303030303,24.02030456852792,18.184255842558425,21.63403205918619,26.000789177001128,29.629813664596274,20.773917050691246,25.4437745740498,23.603921568627452,19.5443857331572,32.441203178206585,25.8007722007722,17.62340425531915,19.015094339622642,21.001438053097345,20.33139534883721,24.634330299089726,26.434678436317782,19.802900378310216,11.87490494296578,24.185677749360615,22.2964824120603,21.793915343915344,21.700661375661376,25.977588466579295,24.76826666666667,24.993993325917685,25.829132791327915,17.909174311926606,24.106631989596877,20.39812332439678,24.385375494071145,22.638105046343973,23.142946317103622,29.199613899613897,20.95076726342711,23.127417218543048,20.767057291666667,20.97271523178808,24.048740554156172,22.061437908496732,21.30970744680851,26.600783289817233],\"type\":\"bar\"}],                        {\"template\":{\"data\":{\"histogram2dcontour\":[{\"type\":\"histogram2dcontour\",\"colorbar\":{\"outlinewidth\":0,\"ticks\":\"\"},\"colorscale\":[[0.0,\"#0d0887\"],[0.1111111111111111,\"#46039f\"],[0.2222222222222222,\"#7201a8\"],[0.3333333333333333,\"#9c179e\"],[0.4444444444444444,\"#bd3786\"],[0.5555555555555556,\"#d8576b\"],[0.6666666666666666,\"#ed7953\"],[0.7777777777777778,\"#fb9f3a\"],[0.8888888888888888,\"#fdca26\"],[1.0,\"#f0f921\"]]}],\"choropleth\":[{\"type\":\"choropleth\",\"colorbar\":{\"outlinewidth\":0,\"ticks\":\"\"}}],\"histogram2d\":[{\"type\":\"histogram2d\",\"colorbar\":{\"outlinewidth\":0,\"ticks\":\"\"},\"colorscale\":[[0.0,\"#0d0887\"],[0.1111111111111111,\"#46039f\"],[0.2222222222222222,\"#7201a8\"],[0.3333333333333333,\"#9c179e\"],[0.4444444444444444,\"#bd3786\"],[0.5555555555555556,\"#d8576b\"],[0.6666666666666666,\"#ed7953\"],[0.7777777777777778,\"#fb9f3a\"],[0.8888888888888888,\"#fdca26\"],[1.0,\"#f0f921\"]]}],\"heatmap\":[{\"type\":\"heatmap\",\"colorbar\":{\"outlinewidth\":0,\"ticks\":\"\"},\"colorscale\":[[0.0,\"#0d0887\"],[0.1111111111111111,\"#46039f\"],[0.2222222222222222,\"#7201a8\"],[0.3333333333333333,\"#9c179e\"],[0.4444444444444444,\"#bd3786\"],[0.5555555555555556,\"#d8576b\"],[0.6666666666666666,\"#ed7953\"],[0.7777777777777778,\"#fb9f3a\"],[0.8888888888888888,\"#fdca26\"],[1.0,\"#f0f921\"]]}],\"heatmapgl\":[{\"type\":\"heatmapgl\",\"colorbar\":{\"outlinewidth\":0,\"ticks\":\"\"},\"colorscale\":[[0.0,\"#0d0887\"],[0.1111111111111111,\"#46039f\"],[0.2222222222222222,\"#7201a8\"],[0.3333333333333333,\"#9c179e\"],[0.4444444444444444,\"#bd3786\"],[0.5555555555555556,\"#d8576b\"],[0.6666666666666666,\"#ed7953\"],[0.7777777777777778,\"#fb9f3a\"],[0.8888888888888888,\"#fdca26\"],[1.0,\"#f0f921\"]]}],\"contourcarpet\":[{\"type\":\"contourcarpet\",\"colorbar\":{\"outlinewidth\":0,\"ticks\":\"\"}}],\"contour\":[{\"type\":\"contour\",\"colorbar\":{\"outlinewidth\":0,\"ticks\":\"\"},\"colorscale\":[[0.0,\"#0d0887\"],[0.1111111111111111,\"#46039f\"],[0.2222222222222222,\"#7201a8\"],[0.3333333333333333,\"#9c179e\"],[0.4444444444444444,\"#bd3786\"],[0.5555555555555556,\"#d8576b\"],[0.6666666666666666,\"#ed7953\"],[0.7777777777777778,\"#fb9f3a\"],[0.8888888888888888,\"#fdca26\"],[1.0,\"#f0f921\"]]}],\"surface\":[{\"type\":\"surface\",\"colorbar\":{\"outlinewidth\":0,\"ticks\":\"\"},\"colorscale\":[[0.0,\"#0d0887\"],[0.1111111111111111,\"#46039f\"],[0.2222222222222222,\"#7201a8\"],[0.3333333333333333,\"#9c179e\"],[0.4444444444444444,\"#bd3786\"],[0.5555555555555556,\"#d8576b\"],[0.6666666666666666,\"#ed7953\"],[0.7777777777777778,\"#fb9f3a\"],[0.8888888888888888,\"#fdca26\"],[1.0,\"#f0f921\"]]}],\"mesh3d\":[{\"type\":\"mesh3d\",\"colorbar\":{\"outlinewidth\":0,\"ticks\":\"\"}}],\"scatter\":[{\"fillpattern\":{\"fillmode\":\"overlay\",\"size\":10,\"solidity\":0.2},\"type\":\"scatter\"}],\"parcoords\":[{\"type\":\"parcoords\",\"line\":{\"colorbar\":{\"outlinewidth\":0,\"ticks\":\"\"}}}],\"scatterpolargl\":[{\"type\":\"scatterpolargl\",\"marker\":{\"colorbar\":{\"outlinewidth\":0,\"ticks\":\"\"}}}],\"bar\":[{\"error_x\":{\"color\":\"#2a3f5f\"},\"error_y\":{\"color\":\"#2a3f5f\"},\"marker\":{\"line\":{\"color\":\"#E5ECF6\",\"width\":0.5},\"pattern\":{\"fillmode\":\"overlay\",\"size\":10,\"solidity\":0.2}},\"type\":\"bar\"}],\"scattergeo\":[{\"type\":\"scattergeo\",\"marker\":{\"colorbar\":{\"outlinewidth\":0,\"ticks\":\"\"}}}],\"scatterpolar\":[{\"type\":\"scatterpolar\",\"marker\":{\"colorbar\":{\"outlinewidth\":0,\"ticks\":\"\"}}}],\"histogram\":[{\"marker\":{\"pattern\":{\"fillmode\":\"overlay\",\"size\":10,\"solidity\":0.2}},\"type\":\"histogram\"}],\"scattergl\":[{\"type\":\"scattergl\",\"marker\":{\"colorbar\":{\"outlinewidth\":0,\"ticks\":\"\"}}}],\"scatter3d\":[{\"type\":\"scatter3d\",\"line\":{\"colorbar\":{\"outlinewidth\":0,\"ticks\":\"\"}},\"marker\":{\"colorbar\":{\"outlinewidth\":0,\"ticks\":\"\"}}}],\"scattermapbox\":[{\"type\":\"scattermapbox\",\"marker\":{\"colorbar\":{\"outlinewidth\":0,\"ticks\":\"\"}}}],\"scatterternary\":[{\"type\":\"scatterternary\",\"marker\":{\"colorbar\":{\"outlinewidth\":0,\"ticks\":\"\"}}}],\"scattercarpet\":[{\"type\":\"scattercarpet\",\"marker\":{\"colorbar\":{\"outlinewidth\":0,\"ticks\":\"\"}}}],\"carpet\":[{\"aaxis\":{\"endlinecolor\":\"#2a3f5f\",\"gridcolor\":\"white\",\"linecolor\":\"white\",\"minorgridcolor\":\"white\",\"startlinecolor\":\"#2a3f5f\"},\"baxis\":{\"endlinecolor\":\"#2a3f5f\",\"gridcolor\":\"white\",\"linecolor\":\"white\",\"minorgridcolor\":\"white\",\"startlinecolor\":\"#2a3f5f\"},\"type\":\"carpet\"}],\"table\":[{\"cells\":{\"fill\":{\"color\":\"#EBF0F8\"},\"line\":{\"color\":\"white\"}},\"header\":{\"fill\":{\"color\":\"#C8D4E3\"},\"line\":{\"color\":\"white\"}},\"type\":\"table\"}],\"barpolar\":[{\"marker\":{\"line\":{\"color\":\"#E5ECF6\",\"width\":0.5},\"pattern\":{\"fillmode\":\"overlay\",\"size\":10,\"solidity\":0.2}},\"type\":\"barpolar\"}],\"pie\":[{\"automargin\":true,\"type\":\"pie\"}]},\"layout\":{\"autotypenumbers\":\"strict\",\"colorway\":[\"#636efa\",\"#EF553B\",\"#00cc96\",\"#ab63fa\",\"#FFA15A\",\"#19d3f3\",\"#FF6692\",\"#B6E880\",\"#FF97FF\",\"#FECB52\"],\"font\":{\"color\":\"#2a3f5f\"},\"hovermode\":\"closest\",\"hoverlabel\":{\"align\":\"left\"},\"paper_bgcolor\":\"white\",\"plot_bgcolor\":\"#E5ECF6\",\"polar\":{\"bgcolor\":\"#E5ECF6\",\"angularaxis\":{\"gridcolor\":\"white\",\"linecolor\":\"white\",\"ticks\":\"\"},\"radialaxis\":{\"gridcolor\":\"white\",\"linecolor\":\"white\",\"ticks\":\"\"}},\"ternary\":{\"bgcolor\":\"#E5ECF6\",\"aaxis\":{\"gridcolor\":\"white\",\"linecolor\":\"white\",\"ticks\":\"\"},\"baxis\":{\"gridcolor\":\"white\",\"linecolor\":\"white\",\"ticks\":\"\"},\"caxis\":{\"gridcolor\":\"white\",\"linecolor\":\"white\",\"ticks\":\"\"}},\"coloraxis\":{\"colorbar\":{\"outlinewidth\":0,\"ticks\":\"\"}},\"colorscale\":{\"sequential\":[[0.0,\"#0d0887\"],[0.1111111111111111,\"#46039f\"],[0.2222222222222222,\"#7201a8\"],[0.3333333333333333,\"#9c179e\"],[0.4444444444444444,\"#bd3786\"],[0.5555555555555556,\"#d8576b\"],[0.6666666666666666,\"#ed7953\"],[0.7777777777777778,\"#fb9f3a\"],[0.8888888888888888,\"#fdca26\"],[1.0,\"#f0f921\"]],\"sequentialminus\":[[0.0,\"#0d0887\"],[0.1111111111111111,\"#46039f\"],[0.2222222222222222,\"#7201a8\"],[0.3333333333333333,\"#9c179e\"],[0.4444444444444444,\"#bd3786\"],[0.5555555555555556,\"#d8576b\"],[0.6666666666666666,\"#ed7953\"],[0.7777777777777778,\"#fb9f3a\"],[0.8888888888888888,\"#fdca26\"],[1.0,\"#f0f921\"]],\"diverging\":[[0,\"#8e0152\"],[0.1,\"#c51b7d\"],[0.2,\"#de77ae\"],[0.3,\"#f1b6da\"],[0.4,\"#fde0ef\"],[0.5,\"#f7f7f7\"],[0.6,\"#e6f5d0\"],[0.7,\"#b8e186\"],[0.8,\"#7fbc41\"],[0.9,\"#4d9221\"],[1,\"#276419\"]]},\"xaxis\":{\"gridcolor\":\"white\",\"linecolor\":\"white\",\"ticks\":\"\",\"title\":{\"standoff\":15},\"zerolinecolor\":\"white\",\"automargin\":true,\"zerolinewidth\":2},\"yaxis\":{\"gridcolor\":\"white\",\"linecolor\":\"white\",\"ticks\":\"\",\"title\":{\"standoff\":15},\"zerolinecolor\":\"white\",\"automargin\":true,\"zerolinewidth\":2},\"scene\":{\"xaxis\":{\"backgroundcolor\":\"#E5ECF6\",\"gridcolor\":\"white\",\"linecolor\":\"white\",\"showbackground\":true,\"ticks\":\"\",\"zerolinecolor\":\"white\",\"gridwidth\":2},\"yaxis\":{\"backgroundcolor\":\"#E5ECF6\",\"gridcolor\":\"white\",\"linecolor\":\"white\",\"showbackground\":true,\"ticks\":\"\",\"zerolinecolor\":\"white\",\"gridwidth\":2},\"zaxis\":{\"backgroundcolor\":\"#E5ECF6\",\"gridcolor\":\"white\",\"linecolor\":\"white\",\"showbackground\":true,\"ticks\":\"\",\"zerolinecolor\":\"white\",\"gridwidth\":2}},\"shapedefaults\":{\"line\":{\"color\":\"#2a3f5f\"}},\"annotationdefaults\":{\"arrowcolor\":\"#2a3f5f\",\"arrowhead\":0,\"arrowwidth\":1},\"geo\":{\"bgcolor\":\"white\",\"landcolor\":\"#E5ECF6\",\"subunitcolor\":\"white\",\"showland\":true,\"showlakes\":true,\"lakecolor\":\"white\"},\"title\":{\"x\":0.05},\"mapbox\":{\"style\":\"light\"}}},\"title\":{\"text\":\"City and Minumum/Maximum Rainfall\"},\"xaxis\":{\"title\":{\"text\":\"City\"}},\"yaxis\":{\"title\":{\"text\":\"Minimum/Maximum Rainfall\"}}},                        {\"responsive\": true}                    ).then(function(){\n",
       "                            \n",
       "var gd = document.getElementById('23b999d2-dade-4161-b871-0fa4f42dd593');\n",
       "var x = new MutationObserver(function (mutations, observer) {{\n",
       "        var display = window.getComputedStyle(gd).display;\n",
       "        if (!display || display === 'none') {{\n",
       "            console.log([gd, 'removed!']);\n",
       "            Plotly.purge(gd);\n",
       "            observer.disconnect();\n",
       "        }}\n",
       "}});\n",
       "\n",
       "// Listen for the removal of the full notebook cells\n",
       "var notebookContainer = gd.closest('#notebook-container');\n",
       "if (notebookContainer) {{\n",
       "    x.observe(notebookContainer, {childList: true});\n",
       "}}\n",
       "\n",
       "// Listen for the clearing of the current output cell\n",
       "var outputEl = gd.closest('.output');\n",
       "if (outputEl) {{\n",
       "    x.observe(outputEl, {childList: true});\n",
       "}}\n",
       "\n",
       "                        })                };                });            </script>        </div>"
      ]
     },
     "metadata": {},
     "output_type": "display_data"
    }
   ],
   "source": [
    "fig = go.Figure()\n",
    "fig.add_trace(go.Bar(\n",
    "    x=min_temp_df.Location,\n",
    "    y=min_temp_df.MinTemp,\n",
    "    name='Minimum temperature',\n",
    "    marker_color='indianred'\n",
    "))\n",
    "fig.add_trace(go.Bar(\n",
    "    x=max_temp_df.Location,\n",
    "    y=max_temp_df.MaxTemp,\n",
    "    name='Maximum temperature',\n",
    "    marker_color='lightsalmon'\n",
    "))\n",
    "fig.update_layout(\n",
    "    title=\"City and Minumum/Maximum Rainfall\",\n",
    "    xaxis_title=\"City\",\n",
    "    yaxis_title=\"Minimum/Maximum Rainfall\"\n",
    ")"
   ]
  },
  {
   "cell_type": "markdown",
   "id": "d3aa1924",
   "metadata": {},
   "source": [
    "## **Use dash to combine all figures**"
   ]
  },
  {
   "cell_type": "code",
   "execution_count": 65,
   "id": "446057dd",
   "metadata": {},
   "outputs": [],
   "source": [
    "import plotly.graph_objects as go\n",
    "import dash\n",
    "import dash_core_components as dcc\n",
    "from dash import html\n",
    "\n",
    "app = dash.Dash()\n",
    "app.layout = html.Div([\n",
    "    dcc.Graph(figure=fig),\n",
    "    dcc.Graph(figure=fig_rainfall)\n",
    "])"
   ]
  },
  {
   "cell_type": "code",
   "execution_count": 66,
   "id": "e8345056",
   "metadata": {},
   "outputs": [
    {
     "name": "stdout",
     "output_type": "stream",
     "text": [
      "Dash is running on http://127.0.0.1:8050/\n",
      "\n",
      " * Serving Flask app \"__main__\" (lazy loading)\n",
      " * Environment: production\n",
      "\u001b[31m   WARNING: This is a development server. Do not use it in a production deployment.\u001b[0m\n",
      "\u001b[2m   Use a production WSGI server instead.\u001b[0m\n",
      " * Debug mode: on\n"
     ]
    }
   ],
   "source": [
    "app.run_server(debug=True, use_reloader=False) "
   ]
  }
 ],
 "metadata": {
  "kernelspec": {
   "display_name": "Python 3 (ipykernel)",
   "language": "python",
   "name": "python3"
  },
  "language_info": {
   "codemirror_mode": {
    "name": "ipython",
    "version": 3
   },
   "file_extension": ".py",
   "mimetype": "text/x-python",
   "name": "python",
   "nbconvert_exporter": "python",
   "pygments_lexer": "ipython3",
   "version": "3.7.13"
  }
 },
 "nbformat": 4,
 "nbformat_minor": 5
}
