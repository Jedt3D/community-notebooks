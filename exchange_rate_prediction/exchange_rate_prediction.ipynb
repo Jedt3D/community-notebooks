{
 "cells": [
  {
   "attachments": {},
   "cell_type": "markdown",
   "metadata": {},
   "source": [
    "# Exchange Rate Prediction USD-THB \n",
    "\n",
    "dataset > https://www.investing.com/currencies/usd-thb-historical-data\n",
    "\n",
    "ref > https://facebook.github.io/prophet/docs/quick_start.html#python-api"
   ]
  },
  {
   "cell_type": "code",
   "execution_count": null,
   "metadata": {},
   "outputs": [],
   "source": [
    "!pip isntall pandas\n",
    "!pip install prophet"
   ]
  },
  {
   "attachments": {},
   "cell_type": "markdown",
   "metadata": {},
   "source": [
    "## Prepare Data\n",
    "\n",
    "\n",
    "> เราจะใช้ Prophet ในการทำนาย Exchange Rate ของ USD-THB โดยใช้ข้อมูลย้อนหลัง 3-4 ปี (1045 วัน) ทำนายอีก 50 วันข้างหน้า"
   ]
  },
  {
   "cell_type": "code",
   "execution_count": null,
   "metadata": {},
   "outputs": [],
   "source": [
    "import pandas as pd\n",
    "\n",
    "# Read the CSV file\n",
    "df = pd.read_csv(\"./USD_THB Historical Data.csv\")\n",
    "print(len(df))\n",
    "df.head()"
   ]
  },
  {
   "attachments": {},
   "cell_type": "markdown",
   "metadata": {},
   "source": [
    "> เลือกข้อมูลที่ Prophet ต้องการในรูปแบบ DataFrame โดยมี 2 คอลัมน์ คือ ds และ y โดย ds คือวันที่ และ y คือค่า Exchange Rate ของวันนั้นๆ"
   ]
  },
  {
   "cell_type": "code",
   "execution_count": null,
   "metadata": {},
   "outputs": [],
   "source": [
    "df.rename(columns = {\"Date\":\"ds\", \"Price\":\"y\"}, inplace = True) # Rename columns\n",
    "df.drop(columns=[\"Open\", \"High\", \"Low\", \"Vol.\", \"Change %\"], inplace=True) # Drop unused columns\n",
    "df['ds'] = df['ds'].str.replace('/', '-') # Replace / with -\n",
    "df['ds'] = pd.to_datetime(df['ds'], format='%m-%d-%Y').dt.strftime('%Y-%m-%d') # Convert to datetime\n",
    "df.head()"
   ]
  },
  {
   "attachments": {},
   "cell_type": "markdown",
   "metadata": {},
   "source": [
    "> สร้าง prophet model และ fit ข้อมูลที่เตรียมไว้"
   ]
  },
  {
   "attachments": {},
   "cell_type": "markdown",
   "metadata": {},
   "source": [
    "## Fit the model "
   ]
  },
  {
   "cell_type": "code",
   "execution_count": null,
   "metadata": {},
   "outputs": [],
   "source": [
    "from prophet import Prophet\n",
    "\n",
    "prophet_df = Prophet() # Create Prophet object\n",
    "prophet_df.fit(df) # Fit the model"
   ]
  },
  {
   "attachments": {},
   "cell_type": "markdown",
   "metadata": {},
   "source": [
    "> ทำนาย Exchange Rate ของวันที่เราต้องการ"
   ]
  },
  {
   "cell_type": "code",
   "execution_count": null,
   "metadata": {},
   "outputs": [],
   "source": [
    "future = prophet_df.make_future_dataframe(periods=50) # Create future dataframe\n",
    "future.tail() # Show last 5 rows"
   ]
  },
  {
   "attachments": {},
   "cell_type": "markdown",
   "metadata": {},
   "source": [
    "> ทำนาย Exchange Rate yhat_lower และ yhat_upper ของวันที่เราต้องการ"
   ]
  },
  {
   "cell_type": "code",
   "execution_count": null,
   "metadata": {},
   "outputs": [],
   "source": [
    "forecast = prophet_df.predict(future) # Predict the future\n",
    "forecast[['ds', 'yhat', 'yhat_lower', 'yhat_upper']].tail() # Show last 5 rows"
   ]
  },
  {
   "attachments": {},
   "cell_type": "markdown",
   "metadata": {},
   "source": [
    "> plot กราฟ ข้อมูลที่เตรียมไว้ และ ข้อมูลที่ทำนายได้"
   ]
  },
  {
   "cell_type": "code",
   "execution_count": null,
   "metadata": {},
   "outputs": [],
   "source": [
    "fig1 = prophet_df.plot(forecast) # Plot the forecast"
   ]
  },
  {
   "cell_type": "code",
   "execution_count": null,
   "metadata": {},
   "outputs": [],
   "source": [
    "fig2 = prophet_df.plot_components(forecast) # Plot the trend, weekly, and yearly"
   ]
  }
 ],
 "metadata": {
  "kernelspec": {
   "display_name": "base",
   "language": "python",
   "name": "python3"
  },
  "language_info": {
   "codemirror_mode": {
    "name": "ipython",
    "version": 3
   },
   "file_extension": ".py",
   "mimetype": "text/x-python",
   "name": "python",
   "nbconvert_exporter": "python",
   "pygments_lexer": "ipython3",
   "version": "3.9.13"
  },
  "orig_nbformat": 4
 },
 "nbformat": 4,
 "nbformat_minor": 2
}
