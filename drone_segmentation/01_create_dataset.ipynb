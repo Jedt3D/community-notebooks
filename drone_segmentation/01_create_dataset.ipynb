{
 "cells": [
  {
   "cell_type": "code",
   "execution_count": null,
   "metadata": {},
   "outputs": [],
   "source": [
    "import json\n",
    "from glob import glob\n",
    "from datasets import Dataset, DatasetDict, Image\n",
    "from huggingface_hub import notebook_login\n",
    "from sklearn.model_selection import train_test_split"
   ]
  },
  {
   "cell_type": "code",
   "execution_count": null,
   "metadata": {},
   "outputs": [],
   "source": [
    "def create_dataset(image_paths, label_paths):\n",
    "    \"\"\"\n",
    "    Create a dataset from image and label paths\n",
    "    \"\"\"\n",
    "    dataset = Dataset.from_dict({\n",
    "        \"image\": sorted(image_paths),\n",
    "        \"validation\": sorted(label_paths)\n",
    "    })\n",
    "    dataset = dataset.cast_column(\"image\", Image())\n",
    "    dataset = dataset.cast_column(\"validation\", Image())\n",
    "    return dataset"
   ]
  },
  {
   "cell_type": "code",
   "execution_count": null,
   "metadata": {},
   "outputs": [],
   "source": [
    "notebook_login() # Login to Hugging Face Hub"
   ]
  },
  {
   "cell_type": "code",
   "execution_count": null,
   "metadata": {},
   "outputs": [],
   "source": [
    "# load dataset \n",
    "image = glob(\"classes_dataset/original_images/*\") \n",
    "label = glob(\"classes_dataset/label_images_semantic/*\")\n",
    "print(len(image), len(label))"
   ]
  },
  {
   "cell_type": "code",
   "execution_count": null,
   "metadata": {},
   "outputs": [],
   "source": [
    "# split dataset\n",
    "train_img, val_img = train_test_split(image, test_size=0.2, random_state=42)\n",
    "train_label, val_label = train_test_split(label, test_size=0.2, random_state=42)\n",
    "print(\"Lenght of images: \", len(train_img), len(val_img))\n",
    "print(\"Length of labels: \", len(train_label), len(val_label))"
   ]
  },
  {
   "cell_type": "code",
   "execution_count": null,
   "metadata": {},
   "outputs": [],
   "source": [
    "# create dataset\n",
    "train_dataset = create_dataset(train_img, train_label)\n",
    "validation_dataset = create_dataset(val_img, val_label)"
   ]
  },
  {
   "cell_type": "code",
   "execution_count": null,
   "metadata": {},
   "outputs": [],
   "source": [
    "# save dataset\n",
    "dataset = DatasetDict({\n",
    "    \"train\": train_dataset,\n",
    "    \"validation\": validation_dataset,\n",
    "})"
   ]
  },
  {
   "cell_type": "code",
   "execution_count": null,
   "metadata": {},
   "outputs": [],
   "source": [
    "dataset.push_to_hub(\"user_name/segmentation_drone\") # push dataset to Hugging Face Hub "
   ]
  },
  {
   "attachments": {},
   "cell_type": "markdown",
   "metadata": {},
   "source": [
    "Create id2label dictionaries"
   ]
  },
  {
   "cell_type": "code",
   "execution_count": null,
   "metadata": {},
   "outputs": [],
   "source": [
    "id2label = {0: 'background', 1: 'human', 2: \"tree\" , 3: \"river\"} # define id and label name \n",
    "with open('id2label.json', 'w') as fp:\n",
    "    json.dump(id2label, fp)\n",
    "\n",
    "# upload id2label.json to Hugging Face Hub"
   ]
  }
 ],
 "metadata": {
  "kernelspec": {
   "display_name": "Python 3",
   "language": "python",
   "name": "python3"
  },
  "language_info": {
   "codemirror_mode": {
    "name": "ipython",
    "version": 3
   },
   "file_extension": ".py",
   "mimetype": "text/x-python",
   "name": "python",
   "nbconvert_exporter": "python",
   "pygments_lexer": "ipython3",
   "version": "3.9.13"
  },
  "vscode": {
   "interpreter": {
    "hash": "0c880bf50398c9e6ebbd48c247ea31cff5c6f8ce48b9cfb1b78e929d6cc40437"
   }
  }
 },
 "nbformat": 4,
 "nbformat_minor": 2
}
