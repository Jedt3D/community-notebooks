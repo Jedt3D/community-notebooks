{
 "cells": [
  {
   "cell_type": "code",
   "execution_count": null,
   "metadata": {},
   "outputs": [],
   "source": [
    "!pip install fiftyone\n",
    "!pip install ultralytics\n",
    "!pip install gradio"
   ]
  },
  {
   "attachments": {},
   "cell_type": "markdown",
   "metadata": {},
   "source": [
    "### Download Potholes-dataset\n",
    "\n",
    "Reference : https://public.roboflow.com/object-detection/pothole/1/download/yolov8"
   ]
  },
  {
   "cell_type": "code",
   "execution_count": null,
   "metadata": {},
   "outputs": [],
   "source": [
    "import os\n",
    "import shutil\n",
    "\n",
    "dataset_name = \"potholes-dataset\"\n",
    "os.makedirs(dataset_name, exist_ok=True) \n",
    "\n",
    "!gdown --id 1loWMnhgYpCGLwHKNwMZS1FlWmfkFSEiq\n",
    "shutil.move(\"Pothole.v1-raw.yolov8.zip\", dataset_name)\n",
    "\n",
    "# For windows\n",
    "!tar -xf {dataset_name}/Pothole.v1-raw.yolov8.zip -C \"{dataset_name}\"\n",
    "\n",
    "# For linux\n",
    "# !unzip {dataset_name}/Pothole.v1-raw.yolov8.zip -d \"{dataset_name}\""
   ]
  },
  {
   "attachments": {},
   "cell_type": "markdown",
   "metadata": {},
   "source": [
    "## Training Detection Model\n",
    "\n",
    "Yolov8 - utralytics : https://docs.ultralytics.com/tasks/detect/"
   ]
  },
  {
   "attachments": {},
   "cell_type": "markdown",
   "metadata": {},
   "source": [
    "> editing `data.yaml` file\n",
    "\n",
    "example > train: `../train/images` --> `/home/badboy-005/Desktop/community-notebooks/potholes-detection/potholes-dataset/test`"
   ]
  },
  {
   "cell_type": "code",
   "execution_count": null,
   "metadata": {},
   "outputs": [],
   "source": [
    "from ultralytics import YOLO\n",
    "\n",
    "# Load a model\n",
    "model = YOLO('yolov8n.yaml')  # build a new model from YAML\n",
    "model = YOLO('yolov8n.pt')  # load a pretrained model (recommended for training)\n",
    "model = YOLO('yolov8n.yaml').load('yolov8n.pt')  # build from YAML and transfer weights\n",
    "\n",
    "# Train the model for 50 epochs\n",
    "results = model.train(data=\"./potholes-dataset/data.yaml\", epochs=50, imgsz=640)"
   ]
  },
  {
   "attachments": {},
   "cell_type": "markdown",
   "metadata": {},
   "source": [
    "## Inference using gradio"
   ]
  },
  {
   "cell_type": "code",
   "execution_count": null,
   "metadata": {},
   "outputs": [],
   "source": [
    "import gradio as gr\n",
    "from PIL import Image, ImageDraw, ImageFont"
   ]
  },
  {
   "cell_type": "code",
   "execution_count": null,
   "metadata": {},
   "outputs": [],
   "source": [
    "def inference(gr_input):\n",
    "    \"\"\"\n",
    "    Inference function for gradio.\n",
    "    \"\"\"\n",
    "    pred = model(gr_input)\n",
    "    draw_prediction = ImageDraw.Draw(gr_input)\n",
    "    boxes_predict = pred[0].boxes\n",
    "    boxes = boxes_predict.xyxy.tolist()\n",
    "    scores = boxes_predict.conf.tolist()\n",
    "    for score, box in zip(scores, boxes):\n",
    "        x, y, x2, y2 = tuple(box)\n",
    "        draw_prediction.rectangle((x, y, x2, y2), outline=\"red\", width=2)\n",
    "    return gr_input"
   ]
  },
  {
   "cell_type": "code",
   "execution_count": null,
   "metadata": {},
   "outputs": [],
   "source": [
    "model = YOLO(\"runs/detect/train3/weights/best.pt\")\n",
    "imagein = gr.inputs.Image(label=\"Input Image\", type=\"pil\")\n",
    "imageout = gr.outputs.Image(label=\"Predicted Image\", type=\"pil\")\n",
    "\n",
    "interface = gr.Interface(\n",
    "    fn=inference,\n",
    "    inputs=imagein,\n",
    "    outputs=imageout,\n",
    "    title=\"Potholes detection\",\n",
    "    interpretation=\"default\",\n",
    ").launch(debug=\"True\")\n",
    "\n",
    "# launch demo\n",
    "interface.launch()"
   ]
  }
 ],
 "metadata": {
  "kernelspec": {
   "display_name": "objdetyolo",
   "language": "python",
   "name": "python3"
  },
  "language_info": {
   "codemirror_mode": {
    "name": "ipython",
    "version": 3
   },
   "file_extension": ".py",
   "mimetype": "text/x-python",
   "name": "python",
   "nbconvert_exporter": "python",
   "pygments_lexer": "ipython3",
   "version": "3.9.16"
  },
  "orig_nbformat": 4
 },
 "nbformat": 4,
 "nbformat_minor": 2
}
