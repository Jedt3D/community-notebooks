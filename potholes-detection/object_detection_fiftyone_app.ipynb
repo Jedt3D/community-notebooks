{
  "cells": [
    {
      "cell_type": "markdown",
      "metadata": {
        "id": "yqP1mcprW-UO"
      },
      "source": [
        "## **Setup Dependencies**"
      ]
    },
    {
      "cell_type": "code",
      "execution_count": null,
      "metadata": {
        "id": "vPbT1NjGWD_f"
      },
      "outputs": [],
      "source": [
        "%%capture\n",
        "!pip install fiftyone\n",
        "!pip install fiftyone-db-ubuntu2204\n",
        "!sudo apt-get install libcurl4-openssl-dev\n",
        "!pip install ipywidgets>=7.5"
      ]
    },
    {
      "cell_type": "markdown",
      "metadata": {
        "id": "LLH6Fv-D0WVN"
      },
      "source": [
        "## **Visualize a Custom Dataset (Pothole Dataset)**\n",
        "\n",
        "### Download and extract the dataset from Roboflow\n",
        "\n",
        "You can download the dataset from https://public.roboflow.com/object-detection/pothole."
      ]
    },
    {
      "cell_type": "code",
      "execution_count": null,
      "metadata": {
        "id": "bOPqaoDpjCmi"
      },
      "outputs": [],
      "source": [
        "%%capture\n",
        "# Load and Unzip the Pothole dataset\n",
        "!curl -L \"PASTE/YOUR/UNIQUE/LINK/HERE\" > roboflow.zip; unzip roboflow.zip; rm roboflow.zip"
      ]
    },
    {
      "cell_type": "code",
      "execution_count": null,
      "metadata": {
        "id": "VAJNCo-Gs3oZ"
      },
      "outputs": [],
      "source": [
        "# Uncomment to see what the COCO annotation file looks like.\n",
        "# import json\n",
        "\n",
        "# with open(\"train/_annotations.coco.json\", \"r\", encoding=\"utf-8\") as f:\n",
        "#   coco_dict = json.load(f)"
      ]
    },
    {
      "cell_type": "markdown",
      "metadata": {
        "id": "yS7f6VM30Z-n"
      },
      "source": [
        "### Import libraries"
      ]
    },
    {
      "cell_type": "code",
      "execution_count": null,
      "metadata": {
        "id": "G9usGskI0TNq"
      },
      "outputs": [],
      "source": [
        "import os\n",
        "import fiftyone as fo"
      ]
    },
    {
      "cell_type": "markdown",
      "metadata": {
        "id": "rvIBBQ9p0qpp"
      },
      "source": [
        "### Create and Visualize a FiftyOne dataset object"
      ]
    },
    {
      "cell_type": "code",
      "execution_count": null,
      "metadata": {
        "id": "IC0K2Us2jAfU"
      },
      "outputs": [],
      "source": [
        "# The directory containing the dataset to import\n",
        "data_path = \"/content/train/\"\n",
        "labels_path = \"/content/train/_annotations.coco.json\"\n",
        "label_types = [\"detection\"]\n",
        "\n",
        "coco_dataset = fo.Dataset.from_dir(\n",
        "    dataset_type=fo.types.COCODetectionDataset,\n",
        "    data_path=data_path,\n",
        "    labels_path=labels_path,\n",
        ")\n",
        "\n",
        "# Mark dataset as persistent so it will never be automatically deleted\n",
        "coco_dataset.persistent = True"
      ]
    },
    {
      "cell_type": "code",
      "execution_count": null,
      "metadata": {
        "id": "R_q-FgogWCuR"
      },
      "outputs": [],
      "source": [
        "# Launch the app.\n",
        "session = fo.launch_app(coco_dataset)"
      ]
    }
  ],
  "metadata": {
    "colab": {
      "provenance": []
    },
    "kernelspec": {
      "display_name": "Python 3",
      "name": "python3"
    },
    "language_info": {
      "name": "python"
    }
  },
  "nbformat": 4,
  "nbformat_minor": 0
}
