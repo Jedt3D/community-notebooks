{
  "nbformat": 4,
  "nbformat_minor": 0,
  "metadata": {
    "colab": {
      "provenance": []
    },
    "kernelspec": {
      "name": "python3",
      "display_name": "Python 3"
    },
    "language_info": {
      "name": "python"
    }
  },
  "cells": [
    {
      "cell_type": "markdown",
      "source": [
        "## **Setup Dependencies**"
      ],
      "metadata": {
        "id": "yqP1mcprW-UO"
      }
    },
    {
      "cell_type": "code",
      "execution_count": null,
      "metadata": {
        "id": "vPbT1NjGWD_f"
      },
      "outputs": [],
      "source": [
        "%%capture\n",
        "!pip install fiftyone\n",
        "!pip install fiftyone-db-ubuntu2204\n",
        "!sudo apt-get install libcurl4-openssl-dev\n",
        "!pip install ipywidgets>=7.5"
      ]
    },
    {
      "cell_type": "markdown",
      "source": [
        "## **Visualize a Sample Object Detection Dataset (COCO-2017)**"
      ],
      "metadata": {
        "id": "rLNAHi7gW34S"
      }
    },
    {
      "cell_type": "code",
      "source": [
        "import fiftyone as fo\n",
        "import fiftyone.zoo as foz\n",
        "\n",
        "# Load the dataset through fiftyone.zoo\n",
        "dataset = foz.load_zoo_dataset(\"coco-2017\", split=\"validation\")"
      ],
      "metadata": {
        "colab": {
          "base_uri": "https://localhost:8080/"
        },
        "id": "mviaeMbiWK6m",
        "outputId": "ae00b1ee-50e7-4cac-e5c9-aa4890da77dd"
      },
      "execution_count": null,
      "outputs": [
        {
          "output_type": "stream",
          "name": "stdout",
          "text": [
            "Downloading split 'validation' to '/root/fiftyone/coco-2017/validation' if necessary\n"
          ]
        },
        {
          "output_type": "stream",
          "name": "stderr",
          "text": [
            "INFO:fiftyone.zoo.datasets:Downloading split 'validation' to '/root/fiftyone/coco-2017/validation' if necessary\n"
          ]
        },
        {
          "output_type": "stream",
          "name": "stdout",
          "text": [
            "Found annotations at '/root/fiftyone/coco-2017/raw/instances_val2017.json'\n"
          ]
        },
        {
          "output_type": "stream",
          "name": "stderr",
          "text": [
            "INFO:fiftyone.utils.coco:Found annotations at '/root/fiftyone/coco-2017/raw/instances_val2017.json'\n"
          ]
        },
        {
          "output_type": "stream",
          "name": "stdout",
          "text": [
            "Images already downloaded\n"
          ]
        },
        {
          "output_type": "stream",
          "name": "stderr",
          "text": [
            "INFO:fiftyone.utils.coco:Images already downloaded\n"
          ]
        },
        {
          "output_type": "stream",
          "name": "stdout",
          "text": [
            "Existing download of split 'validation' is sufficient\n"
          ]
        },
        {
          "output_type": "stream",
          "name": "stderr",
          "text": [
            "INFO:fiftyone.zoo.datasets:Existing download of split 'validation' is sufficient\n"
          ]
        },
        {
          "output_type": "stream",
          "name": "stdout",
          "text": [
            "Loading 'coco-2017' split 'validation'\n"
          ]
        },
        {
          "output_type": "stream",
          "name": "stderr",
          "text": [
            "INFO:fiftyone.zoo.datasets:Loading 'coco-2017' split 'validation'\n"
          ]
        },
        {
          "output_type": "stream",
          "name": "stdout",
          "text": [
            " 100% |███████████████| 5000/5000 [26.1s elapsed, 0s remaining, 161.2 samples/s]      \n"
          ]
        },
        {
          "output_type": "stream",
          "name": "stderr",
          "text": [
            "INFO:eta.core.utils: 100% |███████████████| 5000/5000 [26.1s elapsed, 0s remaining, 161.2 samples/s]      \n"
          ]
        },
        {
          "output_type": "stream",
          "name": "stdout",
          "text": [
            "Dataset 'coco-2017-validation' created\n"
          ]
        },
        {
          "output_type": "stream",
          "name": "stderr",
          "text": [
            "INFO:fiftyone.zoo.datasets:Dataset 'coco-2017-validation' created\n"
          ]
        }
      ]
    },
    {
      "cell_type": "code",
      "source": [
        "# Launch the app to visualize the object detection dataset\n",
        "session = fo.launch_app(dataset)"
      ],
      "metadata": {
        "id": "j5gggoE5WYmH"
      },
      "execution_count": null,
      "outputs": []
    },
    {
      "cell_type": "markdown",
      "source": [
        "## **Visualize a Custom Dataset (Pothole Dataset)**\n",
        "\n",
        "https://public.roboflow.com/object-detection/pothole\n"
      ],
      "metadata": {
        "id": "cKU38uO3i-50"
      }
    },
    {
      "cell_type": "markdown",
      "source": [
        "### Download and extract the dataset"
      ],
      "metadata": {
        "id": "LLH6Fv-D0WVN"
      }
    },
    {
      "cell_type": "code",
      "source": [
        "%%capture\n",
        "# Load and Unzip the Pothole dataset\n",
        "!curl -L \"PASTE/YOUR/UNIQUE/LINK/HERE\" > roboflow.zip; unzip roboflow.zip; rm roboflow.zip"
      ],
      "metadata": {
        "id": "bOPqaoDpjCmi"
      },
      "execution_count": null,
      "outputs": []
    },
    {
      "cell_type": "code",
      "source": [
        "# Uncomment to see what the COCO annotation file looks like.\n",
        "# import json\n",
        "\n",
        "# with open(\"train/_annotations.coco.json\", \"r\", encoding=\"utf-8\") as f:\n",
        "#   coco_dict = json.load(f)"
      ],
      "metadata": {
        "id": "VAJNCo-Gs3oZ"
      },
      "execution_count": null,
      "outputs": []
    },
    {
      "cell_type": "markdown",
      "source": [
        "### Import libraries"
      ],
      "metadata": {
        "id": "yS7f6VM30Z-n"
      }
    },
    {
      "cell_type": "code",
      "source": [
        "import os\n",
        "import fiftyone as fo"
      ],
      "metadata": {
        "id": "G9usGskI0TNq"
      },
      "execution_count": null,
      "outputs": []
    },
    {
      "cell_type": "markdown",
      "source": [
        "### Create and Visualize a FiftyOne dataset object"
      ],
      "metadata": {
        "id": "rvIBBQ9p0qpp"
      }
    },
    {
      "cell_type": "code",
      "source": [
        "# The directory containing the dataset to import\n",
        "data_path = \"/content/train/\"\n",
        "labels_path = \"/content/train/_annotations.coco.json\"\n",
        "label_types = [\"detection\"]\n",
        "\n",
        "coco_dataset = fo.Dataset.from_dir(\n",
        "    dataset_type=fo.types.COCODetectionDataset,\n",
        "    data_path=data_path,\n",
        "    labels_path=labels_path,\n",
        ")\n",
        "\n",
        "# Mark dataset as persistent so it will never be automatically deleted\n",
        "coco_dataset.persistent = True"
      ],
      "metadata": {
        "id": "IC0K2Us2jAfU"
      },
      "execution_count": null,
      "outputs": []
    },
    {
      "cell_type": "code",
      "source": [
        "# Launch the app.\n",
        "session = fo.launch_app(coco_dataset)"
      ],
      "metadata": {
        "id": "R_q-FgogWCuR"
      },
      "execution_count": null,
      "outputs": []
    }
  ]
}